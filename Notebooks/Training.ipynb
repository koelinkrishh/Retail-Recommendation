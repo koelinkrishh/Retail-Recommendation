{
 "cells": [
  {
   "cell_type": "code",
   "execution_count": 6,
   "id": "1caeb3df",
   "metadata": {},
   "outputs": [],
   "source": [
    "import pandas as pd\n",
    "import numpy as np\n",
    "from collections import defaultdict\n",
    "import time\n",
    "import copy\n",
    "import math\n",
    "import tqdm\n",
    "\n",
    "from sklearn.model_selection import train_test_split\n",
    "import joblib\n",
    "\n",
    "import matplotlib.pyplot as plt\n",
    "import seaborn as sns\n",
    "\n",
    "from itertools import combinations\n",
    "from datetime import datetime\n",
    "from sklearn.feature_extraction.text import CountVectorizer, TfidfVectorizer\n",
    "from sklearn.metrics.pairwise import cosine_similarity"
   ]
  },
  {
   "cell_type": "code",
   "execution_count": 10,
   "id": "37ed2bc3",
   "metadata": {},
   "outputs": [],
   "source": [
    "# ## Library to import code from other notebook\n",
    "# !pip install nbimporter\n",
    "\n",
    "## Importing all function from model\n",
    "from Model import Retail_Recommendation"
   ]
  },
  {
   "cell_type": "code",
   "execution_count": 11,
   "id": "e7bd402e",
   "metadata": {},
   "outputs": [],
   "source": [
    "## Reading datasets\n",
    "df = pd.read_parquet('../Data/data_with_features.parquet')\n",
    "customer = pd.read_pickle('../Data/customer_history.pkl')\n",
    "items = pd.read_pickle('../Data/item_summary.pkl')\n",
    "baskets = pd.read_pickle('../Data/baskets.pkl')\n",
    "itemsets = joblib.load('../Models/itemsets.joblib')\n",
    "rules = pd.read_pickle('../Data/rules.pkl')\n",
    "vectorizer = joblib.load('../Models/vectorizer.joblib')\n",
    "\n",
    "# coefficients to train\n",
    "params = {'alpha': 1.0, 'beta': 1.0, 'delta': 1.0, 'eta': 1.0, 'gamma': 1.0, 'epsilon': 1.0, 'd_effect': 0.5}\n",
    "\n",
    "# Calculating parameters\n",
    "Today = pd.Timestamp(df['Purchase Date'].max()) + pd.DateOffset(days=1)\n",
    "Time_period = (df['Purchase Date'].max() - df['Purchase Date'].min()).days\n",
    "d_effect = 0.5 # decay factor\n",
    "EPS = 1e-9\n",
    "DEFAULT_HALF_LIFE_DAYS = 7"
   ]
  },
  {
   "cell_type": "code",
   "execution_count": 12,
   "id": "32d637ac",
   "metadata": {},
   "outputs": [],
   "source": [
    "Model = Retail_Recommendation(\n",
    "    items_data = items,\n",
    "    customer_data = customer,\n",
    "    rules = rules,\n",
    "    initial_weights = None,\n",
    "    d_effect = 1,\n",
    "    current_date = Today,\n",
    "    Time_period = 150,\n",
    "    filter_items = False,\n",
    "    include_description = True,\n",
    "    iteration_bar = False\n",
    ")"
   ]
  },
  {
   "cell_type": "markdown",
   "id": "236b63df",
   "metadata": {},
   "source": [
    "### Part-5: Fine-tuning"
   ]
  },
  {
   "cell_type": "markdown",
   "id": "eeb2564c",
   "metadata": {},
   "source": [
    "We have our perfect recommendation function. <br>\n",
    "Now, we will Fine-tune various constants and coefficients involved in the model."
   ]
  },
  {
   "cell_type": "markdown",
   "id": "3f3bbb29",
   "metadata": {},
   "source": [
    "But for Training this model, Firstly we need some form of data with which we can evaluate our model by categorizing loss function.\n",
    "\n",
    "**Solution**: <br>\n",
    "We can take each baskets and try to predict its last items. This convert it into a supervised classification problem.\n",
    "If prediction is correct, then we can say that our model is performing well.\n",
    "\n",
    "** Loss Function: ** Categorical cross entropy"
   ]
  },
  {
   "cell_type": "markdown",
   "id": "6204bc32",
   "metadata": {},
   "source": [
    "#### 1) Baskets input and last item for recommendation:"
   ]
  },
  {
   "cell_type": "code",
   "execution_count": 13,
   "id": "53caf736",
   "metadata": {},
   "outputs": [
    {
     "name": "stdout",
     "output_type": "stream",
     "text": [
      "Carts shape:  (19857, 8)\n"
     ]
    },
    {
     "data": {
      "text/html": [
       "<div>\n",
       "<style scoped>\n",
       "    .dataframe tbody tr th:only-of-type {\n",
       "        vertical-align: middle;\n",
       "    }\n",
       "\n",
       "    .dataframe tbody tr th {\n",
       "        vertical-align: top;\n",
       "    }\n",
       "\n",
       "    .dataframe thead th {\n",
       "        text-align: right;\n",
       "    }\n",
       "</style>\n",
       "<table border=\"1\" class=\"dataframe\">\n",
       "  <thead>\n",
       "    <tr style=\"text-align: right;\">\n",
       "      <th></th>\n",
       "      <th>Invoice</th>\n",
       "      <th>Customer ID</th>\n",
       "      <th>StockCode</th>\n",
       "      <th>Description</th>\n",
       "      <th>Price</th>\n",
       "      <th>Num products</th>\n",
       "      <th>X</th>\n",
       "      <th>Y</th>\n",
       "    </tr>\n",
       "  </thead>\n",
       "  <tbody>\n",
       "    <tr>\n",
       "      <th>24230</th>\n",
       "      <td>559989</td>\n",
       "      <td>13319</td>\n",
       "      <td>[23209, 23245, 23298, 47566, 22993, 22328, 223...</td>\n",
       "      <td>[lunch|bag|doiley|pattern, set|of|3|regency|ca...</td>\n",
       "      <td>[1.65, 4.95, 4.95, 4.95, 1.25, 2.95, 2.95, 1.2...</td>\n",
       "      <td>10</td>\n",
       "      <td>[23209, 23245, 23298, 47566, 22993, 22328, 223...</td>\n",
       "      <td>20727</td>\n",
       "    </tr>\n",
       "    <tr>\n",
       "      <th>4474</th>\n",
       "      <td>503616</td>\n",
       "      <td>15215</td>\n",
       "      <td>[48185, 48138, 48184, 22499, 22138, 21559, 217...</td>\n",
       "      <td>[door|mat|fairy|cake, door|mat|union|flag, doo...</td>\n",
       "      <td>[7.49, 7.49, 7.49, 5.95, 4.95, 2.55, 5.95, 3.9...</td>\n",
       "      <td>10</td>\n",
       "      <td>[48185, 48138, 48184, 22499, 22138, 21559, 217...</td>\n",
       "      <td>21915</td>\n",
       "    </tr>\n",
       "    <tr>\n",
       "      <th>17051</th>\n",
       "      <td>539374</td>\n",
       "      <td>14769</td>\n",
       "      <td>[82486, 82484, 82483, 71459, 84755, 22722, 227...</td>\n",
       "      <td>[wood|s/3|cabinet|ant|white|finish, wood|black...</td>\n",
       "      <td>[7.95, 6.45, 5.95, 0.85, 0.65, 3.95, 4.95, 4.9...</td>\n",
       "      <td>16</td>\n",
       "      <td>[82486, 82484, 82483, 71459, 84755, 22722, 227...</td>\n",
       "      <td>22077</td>\n",
       "    </tr>\n",
       "  </tbody>\n",
       "</table>\n",
       "</div>"
      ],
      "text/plain": [
       "      Invoice  Customer ID                                          StockCode  \\\n",
       "24230  559989        13319  [23209, 23245, 23298, 47566, 22993, 22328, 223...   \n",
       "4474   503616        15215  [48185, 48138, 48184, 22499, 22138, 21559, 217...   \n",
       "17051  539374        14769  [82486, 82484, 82483, 71459, 84755, 22722, 227...   \n",
       "\n",
       "                                             Description  \\\n",
       "24230  [lunch|bag|doiley|pattern, set|of|3|regency|ca...   \n",
       "4474   [door|mat|fairy|cake, door|mat|union|flag, doo...   \n",
       "17051  [wood|s/3|cabinet|ant|white|finish, wood|black...   \n",
       "\n",
       "                                                   Price  Num products  \\\n",
       "24230  [1.65, 4.95, 4.95, 4.95, 1.25, 2.95, 2.95, 1.2...            10   \n",
       "4474   [7.49, 7.49, 7.49, 5.95, 4.95, 2.55, 5.95, 3.9...            10   \n",
       "17051  [7.95, 6.45, 5.95, 0.85, 0.65, 3.95, 4.95, 4.9...            16   \n",
       "\n",
       "                                                       X      Y  \n",
       "24230  [23209, 23245, 23298, 47566, 22993, 22328, 223...  20727  \n",
       "4474   [48185, 48138, 48184, 22499, 22138, 21559, 217...  21915  \n",
       "17051  [82486, 82484, 82483, 71459, 84755, 22722, 227...  22077  "
      ]
     },
     "execution_count": 13,
     "metadata": {},
     "output_type": "execute_result"
    }
   ],
   "source": [
    "\n",
    "## Keep only relevent features & baskets with some items -> Single item purchases are targeted and are therefore irrelevant\n",
    "Carts = baskets[ baskets['Num products']>= 5].drop(columns=['Purchase Date', 'Purchase Time', 'InvoiceDate', 'Quantity', 'Amount', 'Total amount'])\n",
    "\n",
    "# we assume all purchases will be made today -> recency bias will not be trained well.\n",
    "Carts['X'] = Carts['StockCode'].apply(lambda x: x[:-1])\n",
    "Carts['Y'] = Carts['StockCode'].apply(lambda x: x[-1])\n",
    "print(\"Carts shape: \",Carts.shape)\n",
    "Carts.sample(3)"
   ]
  },
  {
   "cell_type": "markdown",
   "id": "7b2bc4f8",
   "metadata": {},
   "source": [
    "#### 2) Function to calculate loss for each parameters mapping:"
   ]
  },
  {
   "cell_type": "code",
   "execution_count": 14,
   "id": "4299abec",
   "metadata": {},
   "outputs": [
    {
     "name": "stdout",
     "output_type": "stream",
     "text": [
      "Initial loss: 13.324175564870082\n"
     ]
    }
   ],
   "source": [
    "def Categorical_Cross_Entropy(params, model, carts, top_n=10, batch_size=128):\n",
    "    \"\"\"\n",
    "    Computes categorical cross-entropy for a single true item and predicted probabilities.\n",
    "\n",
    "    params : list or np.array\n",
    "        Model coefficients [alpha, beta, gamma, delta, epsilon, eta, d_effect]\n",
    "    model : Retail_Recommendation_optimal_desc\n",
    "    carts : pd.DataFrame\n",
    "        Must have columns ['Customer ID', 'X', 'Y']\n",
    "    top_n : int\n",
    "        Number of top items to consider from recommendations\n",
    "    batch_size : int\n",
    "        Number of baskets to process in one batch  \n",
    "        \n",
    "    \"\"\"\n",
    "    total_loss = 0.0\n",
    "    valid_count = 0\n",
    "    \n",
    "    model.weights = params # load current weights\n",
    "    n_batches = int(np.ceil(len(carts) / batch_size))\n",
    "    \n",
    "    correct = 0\n",
    "    for b in range(n_batches):\n",
    "        batch = carts.iloc[b*batch_size:(b+1)*batch_size]\n",
    "\n",
    "        X_batch = batch.drop(columns=['Y']) # basket\n",
    "\n",
    "        # Generate recommendations (returns DataFrame)\n",
    "        result = model.recommend(X_batch, top_n=top_n)  # choose sufficient top_n\n",
    "        \n",
    "        # Check if target item is in top-N\n",
    "        for idx,(basket_idx, basket) in enumerate(batch.iterrows()):\n",
    "            Y = basket['Y']\n",
    "            rec_df = list(result.values())[idx]\n",
    "            \n",
    "            if Y in set(rec_df['StockCode']):\n",
    "                prob = rec_df.loc[rec_df['StockCode'] == Y, 'Probability'].values[0]\n",
    "                total_loss += -np.log(prob)\n",
    "                correct += 1\n",
    "            else:\n",
    "                total_loss += -np.log(1e-6)\n",
    "                # display(items.loc[items['StockCode'] == Y])\n",
    "\n",
    "            valid_count += 1\n",
    "        \"\"\" If the model didn’t predict the correct item, we assign it a very low probability penalty, meaning huge loss\"\"\"\n",
    "    \n",
    "    # print('Correct: ',correct,\" out of: \",valid_count)\n",
    "    # represents -> average loss\n",
    "    return (correct ,(total_loss / valid_count if valid_count > 0 else np.nan))\n",
    "    \n",
    "    ## for single item -> y_true = 1\n",
    "## return -np.sum(y_true * np.log(y_pred) + (1 - y_true) * np.log(1 - y_pred))\n",
    "    \n",
    "loss = Categorical_Cross_Entropy(params, Model, Carts.sample(100))\n",
    "print(\"Initial loss:\", loss[1])"
   ]
  },
  {
   "cell_type": "markdown",
   "id": "0c42ead3",
   "metadata": {},
   "source": [
    "#### 3) Function to train model:\n",
    "We will run thorugh a sample of baskets to calculate loss. Then we will update the weights using numerical gradient descent.\n",
    "For calculating numerical gradient of our loss function, we have two methods."
   ]
  },
  {
   "cell_type": "markdown",
   "id": "bfd8594f",
   "metadata": {},
   "source": [
    "##### **1) Perturbation effect:**\n",
    "Perturbation effect is a numerical method to estimate the gradient of a loss function by slightly changing (perturbing) each parameter and observing the change in loss. It works because the gradient represents the rate of change of the loss with respect to the parameter; by measuring how the loss changes with a small parameter shift, we approximate this rate. This is simple to implement but slower and less precise than analytical gradients."
   ]
  },
  {
   "cell_type": "code",
   "execution_count": 15,
   "id": "ab24cd5d",
   "metadata": {},
   "outputs": [],
   "source": [
    "import copy\n",
    "\n",
    "def train_model(model, Carts, lr=0.05, n_iter=20, error=1e-4, sample_size=100,batch_size=32, top_n=10):\n",
    "    \"\"\"\n",
    "    Train the Retail_Recommendation model by optimizing weights and d_effect\n",
    "    using numerical gradient descent on categorical cross-entropy loss.\n",
    "    \n",
    "    Parameters\n",
    "    ----------\n",
    "    model : Retail_Recommendation\n",
    "        Your initialized model\n",
    "    carts : pd.DataFrame\n",
    "        Must have columns ['Customer ID', 'X', 'Y']\n",
    "    lr : float\n",
    "        Learning rate\n",
    "    n_iter : int\n",
    "        Number of gradient descent iterations\n",
    "    error : float\n",
    "        Small perturbation for numerical gradient\n",
    "    sample_size : int\n",
    "        Numbers of baskets to consider for each iteration\n",
    "    batch_size : int\n",
    "        Number of baskets to process per batch for efficiency\n",
    "    top_n : int\n",
    "        How many items to consider for loss evaluation\n",
    "    \n",
    "    Returns\n",
    "    -------\n",
    "    best_params : dict\n",
    "        Optimized model parameters\n",
    "    history : list\n",
    "        Loss per epoch\n",
    "    \"\"\"\n",
    "    # Initialize parameters\n",
    "    params = copy.deepcopy(model.weights) # completely new variables\n",
    "    params['d_effect'] = model.d_effect\n",
    "    \n",
    "    history = []\n",
    "    \n",
    "    for epoch in range(1, n_iter+1):\n",
    "        # ---- sample once per epoch for stable gradient estimation ----\n",
    "        sample = Carts.sample(sample_size, random_state=epoch)\n",
    "        \n",
    "        # compute numerical gradient\n",
    "        grads = {}\n",
    "        for key in params.keys():\n",
    "            orig = params[key]\n",
    "            \n",
    "            # perturn +error\n",
    "            params[key] = orig + error\n",
    "            model.history_cache.clear()\n",
    "            model.recency_cache.clear()\n",
    "            _, loss_plus = Categorical_Cross_Entropy(params, model, sample, top_n=top_n, batch_size=batch_size)\n",
    "            # perturn -error\n",
    "            params[key] = orig - error\n",
    "            model.history_cache.clear()\n",
    "            model.recency_cache.clear()\n",
    "            _, loss_minus = Categorical_Cross_Entropy(params, model, sample, top_n=top_n, batch_size=batch_size)\n",
    "            \n",
    "            # compute central difference gradient\n",
    "            grads[key] = (loss_plus - loss_minus) / (2 * error)\n",
    "            # restore params\n",
    "            params[key] = orig\n",
    "        \n",
    "        # update weights\n",
    "        for key in params.keys():\n",
    "            params[key] -= lr * grads[key]\n",
    "            \n",
    "        model.history_cache.clear()\n",
    "        model.recency_cache.clear()\n",
    "        # evaluate updated params once on the same sample to get loss and correct_count\n",
    "        correct_total, epoch_loss = Categorical_Cross_Entropy(params, model, sample, top_n=top_n, batch_size=batch_size)\n",
    "        \n",
    "        # store history\n",
    "        history.append( (epoch_loss, int(correct_total), copy.deepcopy(params)) )\n",
    "        print(f\"Epoch {epoch+1}/{n_iter} - Loss: {epoch_loss:.5f}, Correct: {correct_total}/{sample_size})\")\n",
    "  \n",
    "    \n",
    "    # Update model with final weights\n",
    "    model.weights = {k: v for k, v in params.items() if k != 'd_effect'}\n",
    "    model.d_effect = params['d_effect']\n",
    "    \n",
    "    return copy.deepcopy(params), history"
   ]
  },
  {
   "cell_type": "markdown",
   "id": "b32fee56",
   "metadata": {},
   "source": [
    "##### **2) Analytical effect**:\n",
    "Analytical gradient method computes the exact gradient of the loss function with respect to each model parameter directly from the probability formula. It works by differentiating the loss function algebraically, which provides precise gradient values for optimization. This approach is faster and more accurate than perturbation, especially for models with many parameters."
   ]
  },
  {
   "cell_type": "markdown",
   "id": "e7b473bb",
   "metadata": {},
   "source": [
    "For each basket, the logit for item `i` is:\n",
    "$$ log(Z_{u,i}) = b_i + \\alpha*H_i + \\beta*R_i + \\delta*P_i + \\eta*D_i + \\gamma*T_i + \\epsilon*log(1 + C_i) $$\n",
    "$$ P_{u,i} = softmax( log(Z_{u,i}) )  $$\n",
    "\n",
    "Then loss for single target item `y` is:\n",
    "$$ loss = -log(P_{u,y}) $$\n",
    "\n",
    "Using standard softmax cross-entropy derivatives:\n",
    "$$ \\frac{\\partial L}{\\partial w} = \\sum_i (p_i - y_i).f^w_i $$"
   ]
  },
  {
   "cell_type": "code",
   "execution_count": 16,
   "id": "ecef9057",
   "metadata": {},
   "outputs": [],
   "source": [
    "import numpy as np\n",
    "import copy\n",
    "\n",
    "def train_model_analytical(model, carts, top_n=25, batch_size=128, lr=0.05, n_epochs=20):\n",
    "    \"\"\"\n",
    "    Analytical gradient descent training for Retail_Recommendation.\n",
    "    Computes gradient from softmax probabilities and updates model weights.\n",
    "    \"\"\"\n",
    "    # Prepare weights and initialize history\n",
    "    params = copy.deepcopy(model.weights)\n",
    "    params['d_effect'] = model.d_effect\n",
    "    model.weights = params\n",
    "    history = []\n",
    "\n",
    "    for epoch in range(1, n_epochs + 1):\n",
    "        total_loss, total_correct = 0.0, 0\n",
    "        grads = {k: 0.0 for k in model.weights.keys()}\n",
    "\n",
    "        n_batches = int(np.ceil(len(carts) / batch_size))\n",
    "\n",
    "        for b in range(n_batches):\n",
    "            batch = carts.iloc[b*batch_size : (b+1)*batch_size]\n",
    "            X_batch = batch.drop(columns=['Y'])\n",
    "            Y_batch = batch['Y'].values\n",
    "\n",
    "            # Run recommendations\n",
    "            result = model.recommend(X_batch, top_n=top_n)\n",
    "\n",
    "            for idx, (basket_idx, row) in enumerate(batch.iterrows()):\n",
    "                cid = row['Customer ID']\n",
    "                basket_items = row['X']\n",
    "                Y = Y_batch[idx]\n",
    "                rec_df = list(result.values())[idx]\n",
    "\n",
    "                # If true item not found — assign small probability\n",
    "                if Y not in rec_df['StockCode'].values:\n",
    "                    prob = 1e-6\n",
    "                    total_loss += -np.log(prob)\n",
    "                    continue\n",
    "\n",
    "                # Probability for the true item\n",
    "                prob = rec_df.loc[rec_df['StockCode'] == Y, 'Probability'].values[0]\n",
    "                total_loss += -np.log(prob)\n",
    "                total_correct += 1\n",
    "\n",
    "                # ---- Gradient computation (analytical form) ----\n",
    "                # Recompute logit components for this basket\n",
    "                H = model.compute_history(cid)\n",
    "                R = model.compute_rules_array(basket_items)\n",
    "                T = model.compute_recency(cid)\n",
    "                P = model.compute_price_array(None)\n",
    "                D = model.compute_discount_array(None)\n",
    "\n",
    "                # Feature vector (partial derivatives of logit w.r.t weights)\n",
    "                features = {\n",
    "                    'alpha': H,\n",
    "                    'beta': R,\n",
    "                    'gamma': T,\n",
    "                    'delta': P,\n",
    "                    'eta': D\n",
    "                }\n",
    "\n",
    "                # Predicted probabilities over all items (softmax)\n",
    "                logit = (model.Bias\n",
    "                         + params['alpha'] * H\n",
    "                         + params['beta'] * R\n",
    "                         + params['gamma'] * T\n",
    "                         + params['delta'] * P\n",
    "                         + params['eta'] * D)\n",
    "                exps = np.exp(logit - logit.max())\n",
    "                probs = exps / (exps.sum() + 1e-9)\n",
    "\n",
    "                # Gradient for each weight\n",
    "                for key in features.keys():\n",
    "                    grads[key] += np.sum((probs - (model.all_items == Y)) * features[key])\n",
    "\n",
    "        # Average gradients\n",
    "        for key in grads.keys():\n",
    "            grads[key] /= len(carts)\n",
    "\n",
    "        # Gradient descent update\n",
    "        for key in grads.keys():\n",
    "            params[key] -= lr * grads[key]\n",
    "\n",
    "        # Save model weights after epoch\n",
    "        model.weights = {k: v for k, v in params.items() if k != 'd_effect'}\n",
    "        model.d_effect = params['d_effect']\n",
    "\n",
    "        avg_loss = total_loss / len(carts)\n",
    "        history.append((avg_loss, total_correct, copy.deepcopy(params)))\n",
    "        print(f\"Epoch {epoch}/{n_epochs} - Loss: {avg_loss:.5f}, Correct: {total_correct}/{len(carts)}\")\n",
    "\n",
    "    return model\n"
   ]
  },
  {
   "cell_type": "code",
   "execution_count": 17,
   "id": "fe946144",
   "metadata": {},
   "outputs": [],
   "source": [
    "import numpy as np\n",
    "import copy\n",
    "\n",
    "def train_model_analytically(model, carts, top_n=25, batch_size=128, lr=0.1, n_epochs=20):\n",
    "    def compute_features(baskets_df):\n",
    "        n = len(baskets_df)\n",
    "        H = np.zeros((n, model.n_items), dtype=np.float32)\n",
    "        R = np.zeros((n, model.n_items), dtype=np.float32)\n",
    "        T = np.zeros((n, model.n_items), dtype=np.float32)\n",
    "        P = np.zeros((n, model.n_items), dtype=np.float32)\n",
    "        D = np.zeros((n, model.n_items), dtype=np.float32)\n",
    "\n",
    "        for idx, (_,row) in enumerate(baskets_df.iterrows()):\n",
    "            cid = row['Customer ID']\n",
    "            basket_items = row['X'] if isinstance(row['X'], (list, set)) else []\n",
    "            \n",
    "            H[idx] = model.compute_history(cid)\n",
    "            T[idx] = model.compute_recency(cid)\n",
    "            R[idx] = model.compute_rules_array(basket_items)\n",
    "            P[idx] = model.compute_price_array(None)\n",
    "            D[idx] = model.compute_discount_array(None)\n",
    "        return {'H': H, 'R': R, 'T': T, 'P': P, 'D': D}\n",
    "\n",
    "    # Initialize parameters\n",
    "    params = copy.deepcopy(model.weights)\n",
    "    params['d_effect'] = model.d_effect\n",
    "    history = []\n",
    "\n",
    "    for epoch in range(n_epochs):\n",
    "        total_loss, correct_total, total_count = 0.0, 0, 0\n",
    "        grads = {k: 0.0 for k in params.keys()}\n",
    "\n",
    "        n_batches = int(np.ceil(len(carts) / batch_size))\n",
    "        for b in range(n_batches):\n",
    "            batch = carts.iloc[b*batch_size:(b+1)*batch_size]\n",
    "            X_batch = batch.drop(columns=['Y'])\n",
    "            Y_batch = batch['Y'].values\n",
    "\n",
    "            feats = compute_features(X_batch)\n",
    "\n",
    "            logit = (model.Bias\n",
    "                     + params['alpha'] * feats['H']\n",
    "                     + params['beta']  * feats['R']\n",
    "                     + params['gamma'] * feats['T']\n",
    "                     + params['delta'] * feats['P']\n",
    "                     + params['eta']   * feats['D'])\n",
    "            logit -= logit.max(axis=1, keepdims=True)\n",
    "            exps = np.exp(logit)\n",
    "            probs = exps / (exps.sum(axis=1, keepdims=True) + 1e-9)\n",
    "\n",
    "            # Map Y to index in all_items\n",
    "            Y_idx = np.array([np.where(model.all_items == y)[0][0] if y in model.all_items else -1 for y in Y_batch])\n",
    "            valid_mask = (Y_idx != -1)\n",
    "            batch_loss = -np.log(probs[np.arange(len(Y_batch))[valid_mask], Y_idx[valid_mask]] + 1e-9).mean()\n",
    "            total_loss += batch_loss * len(Y_batch)\n",
    "\n",
    "            one_hot = np.zeros_like(probs)\n",
    "            one_hot[np.arange(len(Y_batch))[valid_mask], Y_idx[valid_mask]] = 1\n",
    "            diff = (probs - one_hot) / len(Y_batch)\n",
    "\n",
    "            grads['alpha'] += np.sum(diff * feats['H'])\n",
    "            grads['beta']  += np.sum(diff * feats['R'])\n",
    "            grads['gamma'] += np.sum(diff * feats['T'])\n",
    "            grads['delta'] += np.sum(diff * feats['P'])\n",
    "            grads['eta']   += np.sum(diff * feats['D'])\n",
    "\n",
    "            # Accuracy\n",
    "            top_preds = np.argmax(probs, axis=1)\n",
    "            correct_total += np.sum((model.all_items[top_preds] == Y_batch) & valid_mask)\n",
    "            total_count += np.sum(valid_mask)\n",
    "\n",
    "        # Update weights\n",
    "        for k in grads.keys():\n",
    "            grads[k] /= total_count\n",
    "            params[k] -= lr * grads[k]\n",
    "\n",
    "        model.weights = {k: v for k, v in params.items() if k != 'd_effect'}\n",
    "        model.d_effect = params['d_effect']\n",
    "\n",
    "        epoch_loss = total_loss / total_count\n",
    "        epoch_acc = correct_total / total_count\n",
    "        history.append((epoch_loss, epoch_acc, copy.deepcopy(params)))\n",
    "\n",
    "        print(f\"Epoch {epoch+1}/{n_epochs} | Loss: {epoch_loss:.5f} | Accuracy: {epoch_acc:.3f}\")\n",
    "        print(\"Weights:\", {k: round(v, 4) for k, v in params.items()})\n",
    "\n",
    "    return model, history\n"
   ]
  },
  {
   "cell_type": "markdown",
   "id": "9031aadf",
   "metadata": {},
   "source": [
    "#### Line-by-line explanation\n",
    "\n",
    "1. Y_idx = np.array([ ... ])\n",
    "- Maps each true label in Y_batch (which are item codes) to an integer index in `self.all_items`.\n",
    "- If a true label is not found in `self.all_items`, it stores -1 (meaning invalid / unknown target).\n",
    "\n",
    "2. valid_mask = Y_idx != -1\n",
    "- A boolean array marking which rows have a valid (known) target. We will only compute loss/gradients for those rows.\n",
    "\n",
    "3. if np.any(valid_mask):\n",
    "- Only proceed if at least one target in the batch is valid.\n",
    "\n",
    "4. batch_loss = -np.log(probs[np.arange(len(Y_batch))[valid_mask], Y_idx[valid_mask]] + 1e-9).mean()\n",
    "- probs has shape `[batch_size, n_items]` and contains the predicted probability for each item for each basket.\n",
    "- `np.arange(len(Y_batch))[valid_mask]` picks the row indices (samples) that have valid targets.\n",
    "- `Y_idx[valid_mask]` picks the target class index for each of those valid samples.\n",
    "- `probs[rows, cols]` extracts the predicted probability assigned to the true class for each valid sample.\n",
    "- `-np.log(...)` computes negative log-likelihood for each valid sample.\n",
    "- `.mean()` takes the mean across the valid samples in the batch → this is the average cross-entropy for that batch.\n",
    "\n",
    "5. one_hot = np.zeros_like(probs)\n",
    "- Creates an all-zeros array same shape as probs to build one-hot encodings of the true class per row.\n",
    "\n",
    "6. one_hot[np.arange(len(Y_batch))[valid_mask], Y_idx[valid_mask]] = 1\n",
    "- Places ones in one_hot at the (row, true_class) positions — only for valid rows.\n",
    "\n",
    "7. diff = (probs - one_hot) / len(Y_batch)\n",
    "- This is the (vectorized) gradient of the average cross-entropy loss with respect to the logits after softmax.\n",
    "- For softmax + cross-entropy, ∂L/∂z = (probs − one_hot), where z are logits. Dividing by `len(Y_batch)` scales the gradient by batch size (makes the gradient the per-sample average when later summed).\n",
    "\n",
    "##### Note: \n",
    "the code divides by `len(Y_batch)` (batch size), not by `valid_count`. This scales gradients consistently across batches, but if a lot of targets are invalid you might prefer dividing by `valid_count` — both are reasonable choices but they change effective step size."
   ]
  },
  {
   "cell_type": "code",
   "execution_count": 18,
   "id": "f5039d8b",
   "metadata": {},
   "outputs": [],
   "source": [
    "# trained_result = train_model(Model, Carts, lr=0.1, n_iter=5, error=1e-4, sample_size=100, batch_size=32, top_n=25)\n",
    "# final_weight, hist = trained_result\n",
    "# print(\"History: \")\n",
    "# for i, (loss, corrent, parameter) in enumerate(hist):\n",
    "#     print(f\"For {i} epoch, loss: {loss:.5f},  correct: {corrent}, parameter: {parameter}\")"
   ]
  },
  {
   "cell_type": "markdown",
   "id": "29b61897",
   "metadata": {},
   "source": [
    "Out of these two unique methods, we will use analytical gradient descent."
   ]
  },
  {
   "cell_type": "code",
   "execution_count": 19,
   "id": "1758c2cc",
   "metadata": {},
   "outputs": [],
   "source": [
    "# trained_model = train_model_analytically(Model, Carts.sample(1000), top_n=10, batch_size=128, lr=0.05, n_epochs=100)\n",
    "# final_weight = trained_model[0].weights\n",
    "# print(\"Final Weights: \")\n",
    "# final_weight"
   ]
  },
  {
   "cell_type": "code",
   "execution_count": 20,
   "id": "aa776f4c",
   "metadata": {},
   "outputs": [],
   "source": [
    "# History = trained_model[1]\n",
    "# print(\"History of model: \",)\n",
    "# for iter in History:\n",
    "#     print(iter[0])"
   ]
  },
  {
   "cell_type": "code",
   "execution_count": 21,
   "id": "970da6e4",
   "metadata": {},
   "outputs": [],
   "source": [
    "# import pickle\n",
    "# # Store best params\n",
    "# with open('../Models/best_parameters.pkl', 'wb') as f:\n",
    "#     pickle.dump(final_weight, f)"
   ]
  },
  {
   "cell_type": "markdown",
   "id": "18ba7171",
   "metadata": {},
   "source": [
    "We will add these two function into our `Model.py` class"
   ]
  },
  {
   "cell_type": "markdown",
   "id": "1c3fe713",
   "metadata": {},
   "source": [
    "For training price array, we need some sort of pseudo budget parameter for each basket."
   ]
  },
  {
   "cell_type": "code",
   "execution_count": 30,
   "id": "b232c7af",
   "metadata": {},
   "outputs": [
    {
     "name": "stderr",
     "output_type": "stream",
     "text": [
      "Epoch 1/100: 100%|██████████| 40/40 [00:03<00:00, 10.14it/s]\n"
     ]
    },
    {
     "name": "stdout",
     "output_type": "stream",
     "text": [
      "Epoch 1/100 | Loss: 7.521313 \n",
      "params: {'alpha': np.float32(0.9951), 'beta': np.float32(1.2451), 'delta': np.float32(1.0001), 'eta': np.float32(0.9951), 'gamma': np.float32(0.0995), 'epsilon': np.float32(2.2451), 'd_effect': np.float32(0.4975)}\n",
      "Correct predictions:  4748/5000 \n"
     ]
    },
    {
     "name": "stderr",
     "output_type": "stream",
     "text": [
      "Epoch 2/100: 100%|██████████| 40/40 [00:03<00:00, 10.15it/s]\n"
     ]
    },
    {
     "name": "stdout",
     "output_type": "stream",
     "text": [
      "Epoch 2/100 | Loss: 7.324176 \n",
      "params: {'alpha': np.float32(0.9903), 'beta': np.float32(1.4855), 'delta': np.float32(1.0006), 'eta': np.float32(0.9903), 'gamma': np.float32(0.099), 'epsilon': np.float32(2.4855), 'd_effect': np.float32(0.4952)}\n",
      "Correct predictions:  4789/5000 \n"
     ]
    },
    {
     "name": "stderr",
     "output_type": "stream",
     "text": [
      "Epoch 3/100: 100%|██████████| 40/40 [00:03<00:00, 10.66it/s]\n"
     ]
    },
    {
     "name": "stdout",
     "output_type": "stream",
     "text": [
      "Epoch 3/100 | Loss: 7.110485 \n",
      "params: {'alpha': np.float32(0.9856), 'beta': np.float32(1.7213), 'delta': np.float32(1.002), 'eta': np.float32(0.9856), 'gamma': np.float32(0.0986), 'epsilon': np.float32(2.7213), 'd_effect': np.float32(0.4928)}\n",
      "Correct predictions:  4814/5000 \n"
     ]
    },
    {
     "name": "stderr",
     "output_type": "stream",
     "text": [
      "Epoch 4/100: 100%|██████████| 40/40 [00:03<00:00, 10.62it/s]\n"
     ]
    },
    {
     "name": "stdout",
     "output_type": "stream",
     "text": [
      "Epoch 4/100 | Loss: 6.955095 \n",
      "params: {'alpha': np.float32(0.9811), 'beta': np.float32(1.9528), 'delta': np.float32(1.0016), 'eta': np.float32(0.9811), 'gamma': np.float32(0.0981), 'epsilon': np.float32(2.9528), 'd_effect': np.float32(0.4905)}\n",
      "Correct predictions:  4833/5000 \n"
     ]
    },
    {
     "name": "stderr",
     "output_type": "stream",
     "text": [
      "Epoch 5/100: 100%|██████████| 40/40 [00:03<00:00, 10.37it/s]\n"
     ]
    },
    {
     "name": "stdout",
     "output_type": "stream",
     "text": [
      "Epoch 5/100 | Loss: 6.787812 \n",
      "params: {'alpha': np.float32(0.9766), 'beta': np.float32(2.1801), 'delta': np.float32(1.0024), 'eta': np.float32(0.9766), 'gamma': np.float32(0.0977), 'epsilon': np.float32(3.1801), 'd_effect': np.float32(0.4883)}\n",
      "Correct predictions:  4837/5000 \n"
     ]
    },
    {
     "name": "stderr",
     "output_type": "stream",
     "text": [
      "Epoch 6/100: 100%|██████████| 40/40 [00:04<00:00,  9.76it/s]\n"
     ]
    },
    {
     "name": "stdout",
     "output_type": "stream",
     "text": [
      "Epoch 6/100 | Loss: 6.640415 \n",
      "params: {'alpha': np.float32(0.9723), 'beta': np.float32(2.4033), 'delta': np.float32(1.0032), 'eta': np.float32(0.9723), 'gamma': np.float32(0.0972), 'epsilon': np.float32(3.4033), 'd_effect': np.float32(0.4861)}\n",
      "Correct predictions:  4836/5000 \n"
     ]
    },
    {
     "name": "stderr",
     "output_type": "stream",
     "text": [
      "Epoch 7/100: 100%|██████████| 40/40 [00:03<00:00, 10.52it/s]\n"
     ]
    },
    {
     "name": "stdout",
     "output_type": "stream",
     "text": [
      "Epoch 7/100 | Loss: 6.531035 \n",
      "params: {'alpha': np.float32(0.968), 'beta': np.float32(2.6226), 'delta': np.float32(1.0032), 'eta': np.float32(0.968), 'gamma': np.float32(0.0968), 'epsilon': np.float32(3.6226), 'd_effect': np.float32(0.484)}\n",
      "Correct predictions:  4817/5000 \n"
     ]
    },
    {
     "name": "stderr",
     "output_type": "stream",
     "text": [
      "Epoch 8/100: 100%|██████████| 40/40 [00:04<00:00,  9.62it/s]\n"
     ]
    },
    {
     "name": "stdout",
     "output_type": "stream",
     "text": [
      "Epoch 8/100 | Loss: 6.392059 \n",
      "params: {'alpha': np.float32(0.9638), 'beta': np.float32(2.8381), 'delta': np.float32(1.0023), 'eta': np.float32(0.9638), 'gamma': np.float32(0.0964), 'epsilon': np.float32(3.8381), 'd_effect': np.float32(0.4819)}\n",
      "Correct predictions:  4820/5000 \n"
     ]
    },
    {
     "name": "stderr",
     "output_type": "stream",
     "text": [
      "Epoch 9/100: 100%|██████████| 40/40 [00:04<00:00,  9.43it/s]\n"
     ]
    },
    {
     "name": "stdout",
     "output_type": "stream",
     "text": [
      "Epoch 9/100 | Loss: 6.261491 \n",
      "params: {'alpha': np.float32(0.9597), 'beta': np.float32(3.0156), 'delta': np.float32(1.0015), 'eta': np.float32(0.9597), 'gamma': np.float32(0.096), 'epsilon': np.float32(4.05), 'd_effect': np.float32(0.4799)}\n",
      "Correct predictions:  4843/5000 \n"
     ]
    },
    {
     "name": "stderr",
     "output_type": "stream",
     "text": [
      "Epoch 10/100: 100%|██████████| 40/40 [00:03<00:00, 10.35it/s]\n"
     ]
    },
    {
     "name": "stdout",
     "output_type": "stream",
     "text": [
      "Epoch 10/100 | Loss: 6.118893 \n",
      "params: {'alpha': np.float32(0.9557), 'beta': np.float32(3.1794), 'delta': np.float32(0.9996), 'eta': np.float32(0.9557), 'gamma': np.float32(0.0956), 'epsilon': np.float32(4.2583), 'd_effect': np.float32(0.4779)}\n",
      "Correct predictions:  4843/5000 \n"
     ]
    },
    {
     "name": "stderr",
     "output_type": "stream",
     "text": [
      "Epoch 11/100: 100%|██████████| 40/40 [00:03<00:00, 10.49it/s]\n"
     ]
    },
    {
     "name": "stdout",
     "output_type": "stream",
     "text": [
      "Epoch 11/100 | Loss: 6.043582 \n",
      "params: {'alpha': np.float32(0.9518), 'beta': np.float32(3.3032), 'delta': np.float32(0.9978), 'eta': np.float32(0.9518), 'gamma': np.float32(0.0952), 'epsilon': np.float32(4.4632), 'd_effect': np.float32(0.4759)}\n",
      "Correct predictions:  4823/5000 \n"
     ]
    },
    {
     "name": "stderr",
     "output_type": "stream",
     "text": [
      "Epoch 12/100: 100%|██████████| 40/40 [00:03<00:00, 10.32it/s]\n"
     ]
    },
    {
     "name": "stdout",
     "output_type": "stream",
     "text": [
      "Epoch 12/100 | Loss: 5.912457 \n",
      "params: {'alpha': np.float32(0.948), 'beta': np.float32(3.3808), 'delta': np.float32(0.9968), 'eta': np.float32(0.948), 'gamma': np.float32(0.0948), 'epsilon': np.float32(4.6648), 'd_effect': np.float32(0.474)}\n",
      "Correct predictions:  4864/5000 \n"
     ]
    },
    {
     "name": "stderr",
     "output_type": "stream",
     "text": [
      "Epoch 13/100: 100%|██████████| 40/40 [00:04<00:00,  9.97it/s]\n"
     ]
    },
    {
     "name": "stdout",
     "output_type": "stream",
     "text": [
      "Epoch 13/100 | Loss: 5.894025 \n",
      "params: {'alpha': np.float32(0.9442), 'beta': np.float32(3.4222), 'delta': np.float32(0.9949), 'eta': np.float32(0.9442), 'gamma': np.float32(0.0944), 'epsilon': np.float32(4.8633), 'd_effect': np.float32(0.4721)}\n",
      "Correct predictions:  4820/5000 \n"
     ]
    },
    {
     "name": "stderr",
     "output_type": "stream",
     "text": [
      "Epoch 14/100: 100%|██████████| 40/40 [00:03<00:00, 10.37it/s]\n"
     ]
    },
    {
     "name": "stdout",
     "output_type": "stream",
     "text": [
      "Epoch 14/100 | Loss: 5.768508 \n",
      "params: {'alpha': np.float32(0.9405), 'beta': np.float32(3.4355), 'delta': np.float32(0.9924), 'eta': np.float32(0.9405), 'gamma': np.float32(0.0941), 'epsilon': np.float32(5.0586), 'd_effect': np.float32(0.4703)}\n",
      "Correct predictions:  4852/5000 \n"
     ]
    },
    {
     "name": "stderr",
     "output_type": "stream",
     "text": [
      "Epoch 15/100: 100%|██████████| 40/40 [00:04<00:00,  8.70it/s]\n"
     ]
    },
    {
     "name": "stdout",
     "output_type": "stream",
     "text": [
      "Epoch 15/100 | Loss: 5.719904 \n",
      "params: {'alpha': np.float32(0.9369), 'beta': np.float32(3.4328), 'delta': np.float32(0.9896), 'eta': np.float32(0.9369), 'gamma': np.float32(0.0937), 'epsilon': np.float32(5.2509), 'd_effect': np.float32(0.4685)}\n",
      "Correct predictions:  4845/5000 \n"
     ]
    },
    {
     "name": "stderr",
     "output_type": "stream",
     "text": [
      "Epoch 16/100: 100%|██████████| 40/40 [00:03<00:00, 10.28it/s]\n"
     ]
    },
    {
     "name": "stdout",
     "output_type": "stream",
     "text": [
      "Epoch 16/100 | Loss: 5.658514 \n",
      "params: {'alpha': np.float32(0.9334), 'beta': np.float32(3.4255), 'delta': np.float32(0.9881), 'eta': np.float32(0.9334), 'gamma': np.float32(0.0933), 'epsilon': np.float32(5.4403), 'd_effect': np.float32(0.4667)}\n",
      "Correct predictions:  4837/5000 \n"
     ]
    },
    {
     "name": "stderr",
     "output_type": "stream",
     "text": [
      "Epoch 17/100: 100%|██████████| 40/40 [00:04<00:00,  9.84it/s]\n"
     ]
    },
    {
     "name": "stdout",
     "output_type": "stream",
     "text": [
      "Epoch 17/100 | Loss: 5.570711 \n",
      "params: {'alpha': np.float32(0.9299), 'beta': np.float32(3.3864), 'delta': np.float32(0.9856), 'eta': np.float32(0.9299), 'gamma': np.float32(0.093), 'epsilon': np.float32(5.6268), 'd_effect': np.float32(0.4649)}\n",
      "Correct predictions:  4846/5000 \n"
     ]
    },
    {
     "name": "stderr",
     "output_type": "stream",
     "text": [
      "Epoch 18/100: 100%|██████████| 40/40 [00:04<00:00,  9.57it/s]\n"
     ]
    },
    {
     "name": "stdout",
     "output_type": "stream",
     "text": [
      "Epoch 18/100 | Loss: 5.518690 \n",
      "params: {'alpha': np.float32(0.9265), 'beta': np.float32(3.3286), 'delta': np.float32(0.9832), 'eta': np.float32(0.9265), 'gamma': np.float32(0.0926), 'epsilon': np.float32(5.8107), 'd_effect': np.float32(0.4632)}\n",
      "Correct predictions:  4856/5000 \n"
     ]
    },
    {
     "name": "stderr",
     "output_type": "stream",
     "text": [
      "Epoch 19/100: 100%|██████████| 40/40 [00:04<00:00,  9.50it/s]\n"
     ]
    },
    {
     "name": "stdout",
     "output_type": "stream",
     "text": [
      "Epoch 19/100 | Loss: 5.428168 \n",
      "params: {'alpha': np.float32(0.9231), 'beta': np.float32(3.273), 'delta': np.float32(0.9806), 'eta': np.float32(0.9231), 'gamma': np.float32(0.0923), 'epsilon': np.float32(5.9918), 'd_effect': np.float32(0.4616)}\n",
      "Correct predictions:  4869/5000 \n"
     ]
    },
    {
     "name": "stderr",
     "output_type": "stream",
     "text": [
      "Epoch 20/100: 100%|██████████| 40/40 [00:04<00:00,  9.33it/s]\n"
     ]
    },
    {
     "name": "stdout",
     "output_type": "stream",
     "text": [
      "Epoch 20/100 | Loss: 5.372914 \n",
      "params: {'alpha': np.float32(0.9198), 'beta': np.float32(3.2102), 'delta': np.float32(0.9778), 'eta': np.float32(0.9198), 'gamma': np.float32(0.092), 'epsilon': np.float32(6.1704), 'd_effect': np.float32(0.4599)}\n",
      "Correct predictions:  4850/5000 \n"
     ]
    },
    {
     "name": "stderr",
     "output_type": "stream",
     "text": [
      "Epoch 21/100: 100%|██████████| 40/40 [00:03<00:00, 10.48it/s]\n"
     ]
    },
    {
     "name": "stdout",
     "output_type": "stream",
     "text": [
      "Epoch 21/100 | Loss: 5.308037 \n",
      "params: {'alpha': np.float32(0.9166), 'beta': np.float32(3.1312), 'delta': np.float32(0.9754), 'eta': np.float32(0.9166), 'gamma': np.float32(0.0917), 'epsilon': np.float32(6.3464), 'd_effect': np.float32(0.4583)}\n",
      "Correct predictions:  4862/5000 \n"
     ]
    },
    {
     "name": "stderr",
     "output_type": "stream",
     "text": [
      "Epoch 22/100: 100%|██████████| 40/40 [00:03<00:00, 10.02it/s]\n"
     ]
    },
    {
     "name": "stdout",
     "output_type": "stream",
     "text": [
      "Epoch 22/100 | Loss: 5.267775 \n",
      "params: {'alpha': np.float32(0.9134), 'beta': np.float32(3.0559), 'delta': np.float32(0.9736), 'eta': np.float32(0.9134), 'gamma': np.float32(0.0913), 'epsilon': np.float32(6.5201), 'd_effect': np.float32(0.4567)}\n",
      "Correct predictions:  4860/5000 \n"
     ]
    },
    {
     "name": "stderr",
     "output_type": "stream",
     "text": [
      "Epoch 23/100: 100%|██████████| 40/40 [00:03<00:00, 10.82it/s]\n"
     ]
    },
    {
     "name": "stdout",
     "output_type": "stream",
     "text": [
      "Epoch 23/100 | Loss: 5.216151 \n",
      "params: {'alpha': np.float32(0.9103), 'beta': np.float32(2.9773), 'delta': np.float32(0.9712), 'eta': np.float32(0.9103), 'gamma': np.float32(0.091), 'epsilon': np.float32(6.6913), 'd_effect': np.float32(0.4551)}\n",
      "Correct predictions:  4865/5000 \n"
     ]
    },
    {
     "name": "stderr",
     "output_type": "stream",
     "text": [
      "Epoch 24/100: 100%|██████████| 40/40 [00:03<00:00, 10.06it/s]\n"
     ]
    },
    {
     "name": "stdout",
     "output_type": "stream",
     "text": [
      "Epoch 24/100 | Loss: 5.182287 \n",
      "params: {'alpha': np.float32(0.9072), 'beta': np.float32(2.9017), 'delta': np.float32(0.9694), 'eta': np.float32(0.9072), 'gamma': np.float32(0.0907), 'epsilon': np.float32(6.8602), 'd_effect': np.float32(0.4536)}\n",
      "Correct predictions:  4847/5000 \n"
     ]
    },
    {
     "name": "stderr",
     "output_type": "stream",
     "text": [
      "Epoch 25/100: 100%|██████████| 40/40 [00:03<00:00, 11.18it/s]\n"
     ]
    },
    {
     "name": "stdout",
     "output_type": "stream",
     "text": [
      "Epoch 25/100 | Loss: 5.124405 \n",
      "params: {'alpha': np.float32(0.9042), 'beta': np.float32(2.8207), 'delta': np.float32(0.9667), 'eta': np.float32(0.9042), 'gamma': np.float32(0.0904), 'epsilon': np.float32(7.0269), 'd_effect': np.float32(0.4521)}\n",
      "Correct predictions:  4856/5000 \n"
     ]
    },
    {
     "name": "stderr",
     "output_type": "stream",
     "text": [
      "Epoch 26/100: 100%|██████████| 40/40 [00:03<00:00, 10.65it/s]\n"
     ]
    },
    {
     "name": "stdout",
     "output_type": "stream",
     "text": [
      "Epoch 26/100 | Loss: 5.088299 \n",
      "params: {'alpha': np.float32(0.9012), 'beta': np.float32(2.7409), 'delta': np.float32(0.9646), 'eta': np.float32(0.9012), 'gamma': np.float32(0.0901), 'epsilon': np.float32(7.1914), 'd_effect': np.float32(0.4506)}\n",
      "Correct predictions:  4845/5000 \n"
     ]
    },
    {
     "name": "stderr",
     "output_type": "stream",
     "text": [
      "Epoch 27/100: 100%|██████████| 40/40 [00:03<00:00, 10.86it/s]\n"
     ]
    },
    {
     "name": "stdout",
     "output_type": "stream",
     "text": [
      "Epoch 27/100 | Loss: 5.047820 \n",
      "params: {'alpha': np.float32(0.8983), 'beta': np.float32(2.6682), 'delta': np.float32(0.9624), 'eta': np.float32(0.8983), 'gamma': np.float32(0.0898), 'epsilon': np.float32(7.3537), 'd_effect': np.float32(0.4491)}\n",
      "Correct predictions:  4841/5000 \n"
     ]
    },
    {
     "name": "stderr",
     "output_type": "stream",
     "text": [
      "Epoch 28/100: 100%|██████████| 40/40 [00:03<00:00, 10.80it/s]\n"
     ]
    },
    {
     "name": "stdout",
     "output_type": "stream",
     "text": [
      "Epoch 28/100 | Loss: 4.967681 \n",
      "params: {'alpha': np.float32(0.8954), 'beta': np.float32(2.5955), 'delta': np.float32(0.9607), 'eta': np.float32(0.8954), 'gamma': np.float32(0.0895), 'epsilon': np.float32(7.5139), 'd_effect': np.float32(0.4477)}\n",
      "Correct predictions:  4856/5000 \n"
     ]
    },
    {
     "name": "stderr",
     "output_type": "stream",
     "text": [
      "Epoch 29/100: 100%|██████████| 40/40 [00:03<00:00, 11.29it/s]\n"
     ]
    },
    {
     "name": "stdout",
     "output_type": "stream",
     "text": [
      "Epoch 29/100 | Loss: 4.949382 \n",
      "params: {'alpha': np.float32(0.8926), 'beta': np.float32(2.5108), 'delta': np.float32(0.9589), 'eta': np.float32(0.8926), 'gamma': np.float32(0.0893), 'epsilon': np.float32(7.6722), 'd_effect': np.float32(0.4463)}\n",
      "Correct predictions:  4850/5000 \n"
     ]
    },
    {
     "name": "stderr",
     "output_type": "stream",
     "text": [
      "Epoch 30/100: 100%|██████████| 40/40 [00:03<00:00, 10.47it/s]\n"
     ]
    },
    {
     "name": "stdout",
     "output_type": "stream",
     "text": [
      "Epoch 30/100 | Loss: 4.901289 \n",
      "params: {'alpha': np.float32(0.8898), 'beta': np.float32(2.4222), 'delta': np.float32(0.9569), 'eta': np.float32(0.8898), 'gamma': np.float32(0.089), 'epsilon': np.float32(7.8284), 'd_effect': np.float32(0.4449)}\n",
      "Correct predictions:  4863/5000 \n"
     ]
    },
    {
     "name": "stderr",
     "output_type": "stream",
     "text": [
      "Epoch 31/100: 100%|██████████| 40/40 [00:03<00:00, 11.11it/s]\n"
     ]
    },
    {
     "name": "stdout",
     "output_type": "stream",
     "text": [
      "Epoch 31/100 | Loss: 4.828310 \n",
      "params: {'alpha': np.float32(0.887), 'beta': np.float32(2.3524), 'delta': np.float32(0.9547), 'eta': np.float32(0.887), 'gamma': np.float32(0.0887), 'epsilon': np.float32(7.9827), 'd_effect': np.float32(0.4435)}\n",
      "Correct predictions:  4853/5000 \n"
     ]
    },
    {
     "name": "stderr",
     "output_type": "stream",
     "text": [
      "Epoch 32/100: 100%|██████████| 40/40 [00:03<00:00, 10.49it/s]\n"
     ]
    },
    {
     "name": "stdout",
     "output_type": "stream",
     "text": [
      "Epoch 32/100 | Loss: 4.787457 \n",
      "params: {'alpha': np.float32(0.8843), 'beta': np.float32(2.2784), 'delta': np.float32(0.9532), 'eta': np.float32(0.8843), 'gamma': np.float32(0.0884), 'epsilon': np.float32(8.1352), 'd_effect': np.float32(0.4422)}\n",
      "Correct predictions:  4864/5000 \n"
     ]
    },
    {
     "name": "stderr",
     "output_type": "stream",
     "text": [
      "Epoch 33/100: 100%|██████████| 40/40 [00:03<00:00, 11.12it/s]\n"
     ]
    },
    {
     "name": "stdout",
     "output_type": "stream",
     "text": [
      "Epoch 33/100 | Loss: 4.801465 \n",
      "params: {'alpha': np.float32(0.8816), 'beta': np.float32(2.1948), 'delta': np.float32(0.9516), 'eta': np.float32(0.8816), 'gamma': np.float32(0.0882), 'epsilon': np.float32(8.2858), 'd_effect': np.float32(0.4408)}\n",
      "Correct predictions:  4855/5000 \n"
     ]
    },
    {
     "name": "stderr",
     "output_type": "stream",
     "text": [
      "Epoch 34/100: 100%|██████████| 40/40 [00:03<00:00, 10.62it/s]\n"
     ]
    },
    {
     "name": "stdout",
     "output_type": "stream",
     "text": [
      "Epoch 34/100 | Loss: 4.751804 \n",
      "params: {'alpha': np.float32(0.879), 'beta': np.float32(2.1202), 'delta': np.float32(0.9501), 'eta': np.float32(0.879), 'gamma': np.float32(0.0879), 'epsilon': np.float32(8.4346), 'd_effect': np.float32(0.4395)}\n",
      "Correct predictions:  4850/5000 \n"
     ]
    },
    {
     "name": "stderr",
     "output_type": "stream",
     "text": [
      "Epoch 35/100: 100%|██████████| 40/40 [00:03<00:00, 11.14it/s]\n"
     ]
    },
    {
     "name": "stdout",
     "output_type": "stream",
     "text": [
      "Epoch 35/100 | Loss: 4.705212 \n",
      "params: {'alpha': np.float32(0.8764), 'beta': np.float32(2.0355), 'delta': np.float32(0.9481), 'eta': np.float32(0.8764), 'gamma': np.float32(0.0876), 'epsilon': np.float32(8.5817), 'd_effect': np.float32(0.4382)}\n",
      "Correct predictions:  4866/5000 \n"
     ]
    },
    {
     "name": "stderr",
     "output_type": "stream",
     "text": [
      "Epoch 36/100: 100%|██████████| 40/40 [00:03<00:00, 10.81it/s]\n"
     ]
    },
    {
     "name": "stdout",
     "output_type": "stream",
     "text": [
      "Epoch 36/100 | Loss: 4.652225 \n",
      "params: {'alpha': np.float32(0.8739), 'beta': np.float32(1.9728), 'delta': np.float32(0.9468), 'eta': np.float32(0.8739), 'gamma': np.float32(0.0874), 'epsilon': np.float32(8.727), 'd_effect': np.float32(0.4369)}\n",
      "Correct predictions:  4853/5000 \n"
     ]
    },
    {
     "name": "stderr",
     "output_type": "stream",
     "text": [
      "Epoch 37/100: 100%|██████████| 40/40 [00:03<00:00, 11.25it/s]\n"
     ]
    },
    {
     "name": "stdout",
     "output_type": "stream",
     "text": [
      "Epoch 37/100 | Loss: 4.645550 \n",
      "params: {'alpha': np.float32(0.8714), 'beta': np.float32(1.8971), 'delta': np.float32(0.9458), 'eta': np.float32(0.8714), 'gamma': np.float32(0.0871), 'epsilon': np.float32(8.8707), 'd_effect': np.float32(0.4357)}\n",
      "Correct predictions:  4860/5000 \n"
     ]
    },
    {
     "name": "stderr",
     "output_type": "stream",
     "text": [
      "Epoch 38/100: 100%|██████████| 40/40 [00:03<00:00, 10.48it/s]\n"
     ]
    },
    {
     "name": "stdout",
     "output_type": "stream",
     "text": [
      "Epoch 38/100 | Loss: 4.617890 \n",
      "params: {'alpha': np.float32(0.8689), 'beta': np.float32(1.8095), 'delta': np.float32(0.9441), 'eta': np.float32(0.8689), 'gamma': np.float32(0.0869), 'epsilon': np.float32(9.0127), 'd_effect': np.float32(0.4345)}\n",
      "Correct predictions:  4851/5000 \n"
     ]
    },
    {
     "name": "stderr",
     "output_type": "stream",
     "text": [
      "Epoch 39/100: 100%|██████████| 40/40 [00:04<00:00,  9.87it/s]\n"
     ]
    },
    {
     "name": "stdout",
     "output_type": "stream",
     "text": [
      "Epoch 39/100 | Loss: 4.524046 \n",
      "params: {'alpha': np.float32(0.8665), 'beta': np.float32(1.7394), 'delta': np.float32(0.9422), 'eta': np.float32(0.8665), 'gamma': np.float32(0.0866), 'epsilon': np.float32(9.1532), 'd_effect': np.float32(0.4332)}\n",
      "Correct predictions:  4871/5000 \n"
     ]
    },
    {
     "name": "stderr",
     "output_type": "stream",
     "text": [
      "Epoch 40/100: 100%|██████████| 40/40 [00:04<00:00,  9.08it/s]\n"
     ]
    },
    {
     "name": "stdout",
     "output_type": "stream",
     "text": [
      "Epoch 40/100 | Loss: 4.553234 \n",
      "params: {'alpha': np.float32(0.8641), 'beta': np.float32(1.6603), 'delta': np.float32(0.9409), 'eta': np.float32(0.8641), 'gamma': np.float32(0.0864), 'epsilon': np.float32(9.2921), 'd_effect': np.float32(0.432)}\n",
      "Correct predictions:  4855/5000 \n"
     ]
    },
    {
     "name": "stderr",
     "output_type": "stream",
     "text": [
      "Epoch 41/100: 100%|██████████| 40/40 [00:04<00:00,  9.60it/s]\n"
     ]
    },
    {
     "name": "stdout",
     "output_type": "stream",
     "text": [
      "Epoch 41/100 | Loss: 4.538695 \n",
      "params: {'alpha': np.float32(0.8617), 'beta': np.float32(1.5994), 'delta': np.float32(0.9396), 'eta': np.float32(0.8617), 'gamma': np.float32(0.0862), 'epsilon': np.float32(9.4294), 'd_effect': np.float32(0.4308)}\n",
      "Correct predictions:  4843/5000 \n"
     ]
    },
    {
     "name": "stderr",
     "output_type": "stream",
     "text": [
      "Epoch 42/100: 100%|██████████| 40/40 [00:03<00:00, 10.25it/s]\n"
     ]
    },
    {
     "name": "stdout",
     "output_type": "stream",
     "text": [
      "Epoch 42/100 | Loss: 4.464477 \n",
      "params: {'alpha': np.float32(0.8593), 'beta': np.float32(1.5229), 'delta': np.float32(0.9388), 'eta': np.float32(0.8593), 'gamma': np.float32(0.0859), 'epsilon': np.float32(9.5653), 'd_effect': np.float32(0.4297)}\n",
      "Correct predictions:  4869/5000 \n"
     ]
    },
    {
     "name": "stderr",
     "output_type": "stream",
     "text": [
      "Epoch 43/100: 100%|██████████| 40/40 [00:04<00:00,  9.55it/s]\n"
     ]
    },
    {
     "name": "stdout",
     "output_type": "stream",
     "text": [
      "Epoch 43/100 | Loss: 4.444019 \n",
      "params: {'alpha': np.float32(0.857), 'beta': np.float32(1.4519), 'delta': np.float32(0.9373), 'eta': np.float32(0.857), 'gamma': np.float32(0.0857), 'epsilon': np.float32(9.6997), 'd_effect': np.float32(0.4285)}\n",
      "Correct predictions:  4850/5000 \n"
     ]
    },
    {
     "name": "stderr",
     "output_type": "stream",
     "text": [
      "Epoch 44/100: 100%|██████████| 40/40 [00:04<00:00,  9.53it/s]\n"
     ]
    },
    {
     "name": "stdout",
     "output_type": "stream",
     "text": [
      "Epoch 44/100 | Loss: 4.454308 \n",
      "params: {'alpha': np.float32(0.8548), 'beta': np.float32(1.3825), 'delta': np.float32(0.9363), 'eta': np.float32(0.8548), 'gamma': np.float32(0.0855), 'epsilon': np.float32(9.8327), 'd_effect': np.float32(0.4274)}\n",
      "Correct predictions:  4856/5000 \n"
     ]
    },
    {
     "name": "stderr",
     "output_type": "stream",
     "text": [
      "Epoch 45/100: 100%|██████████| 40/40 [00:03<00:00, 10.26it/s]\n"
     ]
    },
    {
     "name": "stdout",
     "output_type": "stream",
     "text": [
      "Epoch 45/100 | Loss: 4.396729 \n",
      "params: {'alpha': np.float32(0.8525), 'beta': np.float32(1.3318), 'delta': np.float32(0.9354), 'eta': np.float32(0.8525), 'gamma': np.float32(0.0853), 'epsilon': np.float32(9.9643), 'd_effect': np.float32(0.4263)}\n",
      "Correct predictions:  4849/5000 \n"
     ]
    },
    {
     "name": "stderr",
     "output_type": "stream",
     "text": [
      "Epoch 46/100: 100%|██████████| 40/40 [00:04<00:00,  9.68it/s]\n"
     ]
    },
    {
     "name": "stdout",
     "output_type": "stream",
     "text": [
      "Epoch 46/100 | Loss: 4.380966 \n",
      "params: {'alpha': np.float32(0.8503), 'beta': np.float32(1.2681), 'delta': np.float32(0.9345), 'eta': np.float32(0.8503), 'gamma': np.float32(0.085), 'epsilon': np.float32(10.0875), 'd_effect': np.float32(0.4251)}\n",
      "Correct predictions:  4853/5000 \n"
     ]
    },
    {
     "name": "stderr",
     "output_type": "stream",
     "text": [
      "Epoch 47/100: 100%|██████████| 40/40 [00:04<00:00,  8.78it/s]\n"
     ]
    },
    {
     "name": "stdout",
     "output_type": "stream",
     "text": [
      "Epoch 47/100 | Loss: 4.390823 \n",
      "params: {'alpha': np.float32(0.8481), 'beta': np.float32(1.2026), 'delta': np.float32(0.9333), 'eta': np.float32(0.8481), 'gamma': np.float32(0.0848), 'epsilon': np.float32(10.1954), 'd_effect': np.float32(0.424)}\n",
      "Correct predictions:  4855/5000 \n"
     ]
    },
    {
     "name": "stderr",
     "output_type": "stream",
     "text": [
      "Epoch 48/100: 100%|██████████| 40/40 [00:04<00:00,  9.74it/s]\n"
     ]
    },
    {
     "name": "stdout",
     "output_type": "stream",
     "text": [
      "Epoch 48/100 | Loss: 4.362090 \n",
      "params: {'alpha': np.float32(0.8459), 'beta': np.float32(1.1495), 'delta': np.float32(0.9325), 'eta': np.float32(0.8459), 'gamma': np.float32(0.0846), 'epsilon': np.float32(10.3013), 'd_effect': np.float32(0.423)}\n",
      "Correct predictions:  4841/5000 \n"
     ]
    },
    {
     "name": "stderr",
     "output_type": "stream",
     "text": [
      "Epoch 49/100: 100%|██████████| 40/40 [00:04<00:00,  9.77it/s]\n"
     ]
    },
    {
     "name": "stdout",
     "output_type": "stream",
     "text": [
      "Epoch 49/100 | Loss: 4.355523 \n",
      "params: {'alpha': np.float32(0.8438), 'beta': np.float32(1.0949), 'delta': np.float32(0.9315), 'eta': np.float32(0.8438), 'gamma': np.float32(0.0844), 'epsilon': np.float32(10.3993), 'd_effect': np.float32(0.4219)}\n",
      "Correct predictions:  4846/5000 \n"
     ]
    },
    {
     "name": "stderr",
     "output_type": "stream",
     "text": [
      "Epoch 50/100: 100%|██████████| 40/40 [00:04<00:00,  9.75it/s]\n"
     ]
    },
    {
     "name": "stdout",
     "output_type": "stream",
     "text": [
      "Epoch 50/100 | Loss: 4.296359 \n",
      "params: {'alpha': np.float32(0.8417), 'beta': np.float32(1.0448), 'delta': np.float32(0.9305), 'eta': np.float32(0.8417), 'gamma': np.float32(0.0842), 'epsilon': np.float32(10.4932), 'd_effect': np.float32(0.4208)}\n",
      "Correct predictions:  4877/5000 \n"
     ]
    },
    {
     "name": "stderr",
     "output_type": "stream",
     "text": [
      "Epoch 51/100: 100%|██████████| 40/40 [00:04<00:00,  9.23it/s]\n"
     ]
    },
    {
     "name": "stdout",
     "output_type": "stream",
     "text": [
      "Epoch 51/100 | Loss: 4.307471 \n",
      "params: {'alpha': np.float32(0.8396), 'beta': np.float32(0.9986), 'delta': np.float32(0.9308), 'eta': np.float32(0.8396), 'gamma': np.float32(0.084), 'epsilon': np.float32(10.5825), 'd_effect': np.float32(0.4198)}\n",
      "Correct predictions:  4848/5000 \n"
     ]
    },
    {
     "name": "stderr",
     "output_type": "stream",
     "text": [
      "Epoch 52/100: 100%|██████████| 40/40 [00:04<00:00,  9.37it/s]\n"
     ]
    },
    {
     "name": "stdout",
     "output_type": "stream",
     "text": [
      "Epoch 52/100 | Loss: 4.222018 \n",
      "params: {'alpha': np.float32(0.8375), 'beta': np.float32(0.9567), 'delta': np.float32(0.93), 'eta': np.float32(0.8375), 'gamma': np.float32(0.0838), 'epsilon': np.float32(10.6714), 'd_effect': np.float32(0.4188)}\n",
      "Correct predictions:  4869/5000 \n"
     ]
    },
    {
     "name": "stderr",
     "output_type": "stream",
     "text": [
      "Epoch 53/100: 100%|██████████| 40/40 [00:04<00:00,  9.23it/s]\n"
     ]
    },
    {
     "name": "stdout",
     "output_type": "stream",
     "text": [
      "Epoch 53/100 | Loss: 4.278197 \n",
      "params: {'alpha': np.float32(0.8355), 'beta': np.float32(0.9032), 'delta': np.float32(0.9299), 'eta': np.float32(0.8355), 'gamma': np.float32(0.0836), 'epsilon': np.float32(10.7475), 'd_effect': np.float32(0.4178)}\n",
      "Correct predictions:  4859/5000 \n"
     ]
    },
    {
     "name": "stderr",
     "output_type": "stream",
     "text": [
      "Epoch 54/100: 100%|██████████| 40/40 [00:04<00:00,  8.46it/s]\n"
     ]
    },
    {
     "name": "stdout",
     "output_type": "stream",
     "text": [
      "Epoch 54/100 | Loss: 4.263962 \n",
      "params: {'alpha': np.float32(0.8335), 'beta': np.float32(0.8596), 'delta': np.float32(0.93), 'eta': np.float32(0.8335), 'gamma': np.float32(0.0834), 'epsilon': np.float32(10.8246), 'd_effect': np.float32(0.4168)}\n",
      "Correct predictions:  4859/5000 \n"
     ]
    },
    {
     "name": "stderr",
     "output_type": "stream",
     "text": [
      "Epoch 55/100: 100%|██████████| 40/40 [00:04<00:00, 10.00it/s]\n"
     ]
    },
    {
     "name": "stdout",
     "output_type": "stream",
     "text": [
      "Epoch 55/100 | Loss: 4.265720 \n",
      "params: {'alpha': np.float32(0.8315), 'beta': np.float32(0.8094), 'delta': np.float32(0.9298), 'eta': np.float32(0.8315), 'gamma': np.float32(0.0832), 'epsilon': np.float32(10.8963), 'd_effect': np.float32(0.4158)}\n",
      "Correct predictions:  4845/5000 \n"
     ]
    },
    {
     "name": "stderr",
     "output_type": "stream",
     "text": [
      "Epoch 56/100: 100%|██████████| 40/40 [00:04<00:00,  9.45it/s]\n"
     ]
    },
    {
     "name": "stdout",
     "output_type": "stream",
     "text": [
      "Epoch 56/100 | Loss: 4.309920 \n",
      "params: {'alpha': np.float32(0.8296), 'beta': np.float32(0.768), 'delta': np.float32(0.9288), 'eta': np.float32(0.8296), 'gamma': np.float32(0.083), 'epsilon': np.float32(10.9629), 'd_effect': np.float32(0.4148)}\n",
      "Correct predictions:  4839/5000 \n"
     ]
    },
    {
     "name": "stderr",
     "output_type": "stream",
     "text": [
      "Epoch 57/100: 100%|██████████| 40/40 [00:03<00:00, 11.07it/s]"
     ]
    },
    {
     "name": "stdout",
     "output_type": "stream",
     "text": [
      "Epoch 57/100 | Loss: 4.253195 \n",
      "params: {'alpha': np.float32(0.8276), 'beta': np.float32(0.7237), 'delta': np.float32(0.9292), 'eta': np.float32(0.8276), 'gamma': np.float32(0.0828), 'epsilon': np.float32(11.0276), 'd_effect': np.float32(0.4138)}\n",
      "Correct predictions:  4856/5000 \n",
      "Early stopping triggered at epoch 57. Restoring best parameters from epoch 52.\n",
      "Final Weights: \n"
     ]
    },
    {
     "name": "stderr",
     "output_type": "stream",
     "text": [
      "\n"
     ]
    },
    {
     "data": {
      "text/plain": [
       "{'alpha': np.float32(0.84168327),\n",
       " 'beta': np.float32(1.0448098),\n",
       " 'delta': np.float32(0.93048894),\n",
       " 'eta': np.float32(0.84168327),\n",
       " 'gamma': np.float32(0.08416832),\n",
       " 'epsilon': np.float32(10.493217),\n",
       " 'd_effect': np.float32(0.42084163)}"
      ]
     },
     "execution_count": 30,
     "metadata": {},
     "output_type": "execute_result"
    }
   ],
   "source": [
    "import math\n",
    "import random\n",
    "\n",
    "import pandas as pd\n",
    "import numpy as np\n",
    "from collections import defaultdict\n",
    "import time\n",
    "\n",
    "from sklearn.model_selection import train_test_split\n",
    "import joblib\n",
    "\n",
    "import matplotlib.pyplot as plt\n",
    "import seaborn as sns\n",
    "import copy\n",
    "\n",
    "from itertools import combinations\n",
    "from datetime import datetime\n",
    "from sklearn.feature_extraction.text import CountVectorizer, TfidfVectorizer\n",
    "from sklearn.metrics.pairwise import cosine_similarity\n",
    "\n",
    "from Model import Retail_Recommendation\n",
    "\n",
    "## Reading datasets\n",
    "df = pd.read_parquet('../Data/data_with_features.parquet')\n",
    "customer = pd.read_pickle('../Data/customer_history.pkl')\n",
    "items = pd.read_pickle('../Data/item_summary.pkl')\n",
    "baskets = pd.read_pickle('../Data/baskets.pkl')\n",
    "itemsets = joblib.load('../Models/itemsets.joblib')\n",
    "rules = pd.read_pickle('../Data/rules.pkl')\n",
    "vectorizer = joblib.load('../Models/vectorizer.joblib')\n",
    "\n",
    "# coefficients to train\n",
    "params = {'alpha': 1.0, 'beta': 1.0, 'delta': 1.0, 'eta': 1.0, 'gamma': 0.1, 'epsilon': 2.0, 'd_effect': 0.5}\n",
    "\n",
    "# Calculating parameters\n",
    "Today = pd.Timestamp(df['Purchase Date'].max()) + pd.DateOffset(days=1)\n",
    "Time_period = (df['Purchase Date'].max() - df['Purchase Date'].min()).days\n",
    "d_effect = 0.5 # decay factor\n",
    "EPS = 1e-9\n",
    "\n",
    "Discount_dict = {} #{item: math.pow(np.random.default_rng().uniform(),(np.random.randint(1, 5))) for item in items.sample(100)['StockCode'].unique()}\n",
    "\n",
    "# Training model from class methods\n",
    "model = Retail_Recommendation(\n",
    "    items_data = items,\n",
    "    customer_data = customer,\n",
    "    rules = rules,\n",
    "    initial_weights = params,\n",
    "    d_effect = 0.5,\n",
    "    current_date = Today,\n",
    "    Time_period = 100,\n",
    "    filter_items = False,\n",
    "    include_description = True,\n",
    "    iteration_bar = False\n",
    ")\n",
    "\n",
    "Baskets = baskets[ baskets['Num products']>= 5].drop(columns=['Purchase Date', 'Purchase Time', 'InvoiceDate', 'Quantity', 'Amount', 'Total amount'])\n",
    "# we assume all purchases will be made today -> recency bias will not be trained well.\n",
    "Baskets['X'] = Baskets['StockCode'].apply(lambda x: x[:-1])\n",
    "Baskets['Y'] = Baskets['StockCode'].apply(lambda x: x[-1])\n",
    "\n",
    "\n",
    "Baskets['Total Cost'] = Baskets['Price'].apply(np.sum)\n",
    "# randomly scale up.down total cost to simulate budget\n",
    "# ±20% variation (uniform)\n",
    "variation = np.random.uniform(0.9, 1.25, size=len(Baskets))\n",
    "Baskets['pseudo_budget'] = Baskets['Total Cost'] * variation\n",
    "\n",
    "# Splitting into training and testing data\n",
    "train_baskets, test_baskets = train_test_split(Baskets, shuffle=True, test_size=0.2, random_state=42)\n",
    "\n",
    "optimal_weights, history = model.train_model(train_baskets, lr=0.05, n_iter=100,\n",
    "    error=1e-6, sample_size=5000, batch_size=128, top_n=100, budget_column='pseudo_budget',\n",
    "    Learning_rate_decay=0.02, reg_lambda=0.05, clip_value=5, early_stopping=True, patience=5)\n",
    "print(\"Final Weights: \")\n",
    "optimal_weights"
   ]
  },
  {
   "cell_type": "code",
   "execution_count": 31,
   "id": "e8ebf184",
   "metadata": {},
   "outputs": [
    {
     "name": "stdout",
     "output_type": "stream",
     "text": [
      "Best Parameters:  {'alpha': np.float32(0.84168327), 'beta': np.float32(1.0448098), 'delta': np.float32(0.93048894), 'eta': np.float32(0.84168327), 'gamma': np.float32(0.08416832), 'epsilon': np.float32(10.493217), 'd_effect': np.float32(0.42084163)}\n",
      "Best accuracy:  4877 / 5000\n",
      "Total number of items:  4888\n"
     ]
    }
   ],
   "source": [
    "print(\"Best Parameters: \", model.best_params)\n",
    "print(\"Best accuracy: \", model.best_result,'/', 5000)\n",
    "\n",
    "print(\"Total number of items: \", len(items))"
   ]
  },
  {
   "cell_type": "code",
   "execution_count": null,
   "id": "33aca814",
   "metadata": {},
   "outputs": [],
   "source": [
    "# import pickle\n",
    "# # Store best params\n",
    "# with open('../Models/best_parameters.pkl', 'wb') as f:\n",
    "#     pickle.dump(optimal_weights, f)"
   ]
  },
  {
   "cell_type": "code",
   "execution_count": null,
   "id": "19a5497c",
   "metadata": {},
   "outputs": [
    {
     "data": {
      "text/plain": [
       "{'alpha': np.float32(0.84168327),\n",
       " 'beta': np.float32(1.044839),\n",
       " 'delta': np.float32(0.9319789),\n",
       " 'eta': np.float32(0.84168327),\n",
       " 'gamma': np.float32(0.08416832),\n",
       " 'epsilon': np.float32(10.493215),\n",
       " 'd_effect': np.float32(0.42084163)}"
      ]
     },
     "execution_count": 27,
     "metadata": {},
     "output_type": "execute_result"
    }
   ],
   "source": [
    "# import pickle\n",
    "\n",
    "# par = pd.read_pickle('../Models/best_parameters.pkl')\n",
    "# par"
   ]
  },
  {
   "cell_type": "code",
   "execution_count": 32,
   "id": "f2dacaf4",
   "metadata": {},
   "outputs": [
    {
     "data": {
      "image/png": "[encoded data removed]",
      "text/plain": [
       "<Figure size 640x480 with 1 Axes>"
      ]
     },
     "metadata": {},
     "output_type": "display_data"
    }
   ],
   "source": [
    "import matplotlib.pyplot as plt\n",
    "\n",
    "plt.plot([h[0] for h in history])\n",
    "\n",
    "plt.title(\"Loss curve over epochs\")\n",
    "plt.xlabel('Epoch')\n",
    "plt.ylabel('Loss')\n",
    "\n",
    "plt.grid()\n",
    "plt.show()"
   ]
  },
  {
   "cell_type": "markdown",
   "id": "694475ed",
   "metadata": {},
   "source": [
    "Our model is overfitting which is causing our performance to not improve after a certain point.\n",
    "So, we will implement some regularization to prevent overfitting.\n",
    "\n",
    "1) L2 regularization factor\n",
    "2) Gradient clipping for stable training\n",
    "3) Learning rate decay factor\n",
    "4) Early stopping based on validation set"
   ]
  },
  {
   "cell_type": "code",
   "execution_count": null,
   "id": "6d125394",
   "metadata": {},
   "outputs": [],
   "source": [
    "def train_model(Model_rec, Carts, lr=0.05, n_iter=20, error=1e-6, sample_size=None,\n",
    "            batch_size=32, top_n=50, budget_column=None, verbose=True,\n",
    "            Learning_rate_decay=0, reg_lambda=0.0, clip_value=None, early_stopping=False, patience=5):\n",
    "        \"\"\"\n",
    "        Args:\n",
    "            - Carts: DataFrame with baskets data\n",
    "            - lr: learning rate\n",
    "            - n_iter: number of gradient descent iterations\n",
    "            - error: Minimum error threshold for each item\n",
    "            - sample_size: size of sample for training our model\n",
    "            \n",
    "            - batch_size: size of batches for prediction at each iteration\n",
    "            - top_n: number of items to recommend\n",
    "            \n",
    "            - budget_column: Column name for budget value in our baskets dataset\n",
    "        \n",
    "        Parameters for regularization:\n",
    "            - Learning_rate_decay: learning rate decay\n",
    "            - reg_lambda: L2 regularization strength (0 => no reg)\n",
    "            - clip_value: gradient clipping limit (None or 0 => no clipping)\n",
    "            - early_stopping: enable early stopping\n",
    "            - patience: early stopping patience (epochs)\n",
    "        \"\"\"\n",
    "        # save learning rate decay param as before\n",
    "        Model_rec.lr_decay = Learning_rate_decay\n",
    "        \n",
    "        params = Model_rec.best_params.copy()\n",
    "        params['d_effect'] = Model_rec.d_effect\n",
    "        history = []\n",
    "        \n",
    "        # Early stopping setup\n",
    "        best_val_loss = np.inf\n",
    "        patience_counter = 0\n",
    "        \n",
    "        Model_rec.best_result = 0\n",
    "\n",
    "        def map_targets_to_indices(Y_batch):\n",
    "            return np.array([Model_rec.item_to_index.get(y, -1) for y in Y_batch], dtype=int)\n",
    "\n",
    "        for epoch in range(1, n_iter + 1):\n",
    "            # Optional sampling for speed\n",
    "            if sample_size is not None and sample_size < len(Carts):\n",
    "                Carts_epoch = Carts.sample(sample_size, random_state=epoch)\n",
    "            else:\n",
    "                Carts_epoch = Carts\n",
    "\n",
    "            n_batches = int(np.ceil(len(Carts_epoch) / batch_size))\n",
    "\n",
    "            total_loss = 0.0\n",
    "            total_count = 0\n",
    "            correct_total = 0\n",
    "            grads = {key: 0.0 for key in params.keys()}\n",
    "            \n",
    "            if Model_rec.include_description:\n",
    "                all_desc = Model_rec.compute_description_boost(Carts_epoch)\n",
    "\n",
    "            loop = range(n_batches) if not verbose else tqdm.tqdm(range(n_batches), desc=f\"Epoch {epoch}/{n_iter}\")\n",
    "            for b in loop:\n",
    "                batch = Carts_epoch.iloc[b * batch_size:(b + 1) * batch_size]\n",
    "                if batch.empty:\n",
    "                    continue\n",
    "                \n",
    "                # extract budget if applied\n",
    "                budget_for_batch = None\n",
    "                if budget_column and budget_column in batch.columns:\n",
    "                    budget_for_batch = batch[budget_column].values\n",
    "\n",
    "                X_batch = batch.drop(columns=['Y'])\n",
    "                feats = Model_rec._compute_features_batch(X_batch)\n",
    "                Y_batch = batch['Y'].values\n",
    "                Y_idx = map_targets_to_indices(Y_batch)\n",
    "                valid_mask = (Y_idx != -1)\n",
    "\n",
    "                # --- Forward ---\n",
    "                logit = (Model_rec.Bias\n",
    "                         + params['alpha'] * feats['H']\n",
    "                         + params['beta'] * feats['R']\n",
    "                         + params['gamma'] * feats['T']\n",
    "                         + params['delta'] * feats['P']\n",
    "                         + params['eta'] * feats['D']).astype(np.float32)\n",
    "\n",
    "                if Model_rec.include_description and Model_rec.weights['epsilon'] != 0.0:\n",
    "                    Desc_mat = np.vstack([all_desc[i] for i in X_batch.index]) # shape [batch_size, n_items]\n",
    "                    # transformation in your model: epsilon * log(1 + C)\n",
    "                    Desc_log = np.log1p(Desc_mat + error)\n",
    "                    logit += Model_rec.weights['epsilon'] * Desc_log\n",
    "\n",
    "                logit = logit.astype(np.float32)\n",
    "                logit -= logit.max(axis=1, keepdims=True)\n",
    "                exps = np.exp(logit)\n",
    "                probs = exps / (exps.sum(axis=1, keepdims=True) + EPS) # [batch_size, n_items]\n",
    "\n",
    "                # --- Loss ---\n",
    "                row_ids = np.arange(len(Y_batch))[valid_mask]\n",
    "                p_y = probs[row_ids, Y_idx[valid_mask]]\n",
    "\n",
    "                if top_n != -1 and top_n < Model_rec.n_items:\n",
    "                    part = np.argpartition(probs, -top_n, axis=1)[:, -top_n:]\n",
    "                    order = np.argsort(probs[np.arange(probs.shape[0])[:, None], part], axis=1)[:, ::-1]\n",
    "                    top_idx_matrix = np.take_along_axis(part, order, axis=1)\n",
    "                    isin_top = np.any(top_idx_matrix == Y_idx[:, None], axis=1)\n",
    "                    \n",
    "                    if isin_top.any():\n",
    "                        idxs_ok = row_ids[isin_top]\n",
    "                        total_loss += -np.log(probs[idxs_ok, Y_idx[valid_mask][isin_top]] + EPS).sum()\n",
    "                    \n",
    "                    penalized_count = (~isin_top).sum()\n",
    "                    if penalized_count > 0:\n",
    "                        total_loss += (-np.log(error)) * penalized_count\n",
    "                else:\n",
    "                    total_loss += -np.log(p_y + EPS).sum()\n",
    "\n",
    "                total_count += valid_mask.sum()\n",
    "\n",
    "                # --- Accuracy ---\n",
    "                if top_n == -1 or top_n >= Model_rec.n_items:\n",
    "                    top_idx_matrix_full = np.argsort(probs, axis=1)[:, ::-1]\n",
    "                else:\n",
    "                    part = np.argpartition(probs, -top_n, axis=1)[:, -top_n:]\n",
    "                    order = np.argsort(probs[np.arange(probs.shape[0])[:, None], part], axis=1)[:, ::-1]\n",
    "                    top_idx_matrix_full = np.take_along_axis(part, order, axis=1)\n",
    "                \n",
    "                topn_codes = Model_rec.all_items[top_idx_matrix_full]\n",
    "                true_codes = Y_batch[valid_mask][:, None]\n",
    "                valid_topn_codes = topn_codes[valid_mask]\n",
    "                correct_total += int(np.sum(np.any(valid_topn_codes == true_codes, axis=1)))\n",
    "\n",
    "                # --- Gradients ---\n",
    "                one_hot = np.zeros_like(probs ,dtype=np.float32)\n",
    "                one_hot[np.arange(len(Y_batch))[valid_mask], Y_idx[valid_mask]] = 1.0\n",
    "                \n",
    "                # derivative of cross-entropy wrt logits\n",
    "                diff = (probs - one_hot) / len(Y_batch)\n",
    "\n",
    "                grads['alpha'] += np.sum(diff * feats['H'])\n",
    "                grads['beta'] += np.sum(diff * feats['R'])\n",
    "                grads['gamma'] += np.sum(diff * feats['T'])\n",
    "                grads['delta'] += np.sum(diff * feats['P'])\n",
    "                grads['eta'] += np.sum(diff * feats['D'])\n",
    "                \n",
    "                if Model_rec.include_description and Model_rec.weights['epsilon'] != 0.0:\n",
    "                    grads['epsilon'] = grads.get('epsilon', 0.0) + np.sum(diff * Desc_log)\n",
    "                else:\n",
    "                    grads['epsilon'] = grads.get('epsilon', 0.0) # ensure key exists\n",
    "\n",
    "                # feats['T'] = 1 + d_effect * exp(-K * delta) \n",
    "                # dT/d(d_effect) = exp(-K * delta)\n",
    "                # so d(logit)/ dT * dT/d(d_effect) =  d(logit)/d(d_effect) = gamma * exp(-K * delta)\n",
    "                # compute exp(-K * delta) safely: feats['T'] - 1 = d_effect * exp(-K * delta)  => exp(-K * delta) = (T - 1)/d_effect  (d_effect used to compute feats)\n",
    "                \n",
    "                d_eff_val = float(params.get('d_effect', 0.0))\n",
    "                if abs(d_eff_val) > 1e-12:\n",
    "                    E_mat = (feats['T'] - 1.0) / (d_eff_val + EPS)\n",
    "                else:\n",
    "                    # fallback: if d_effect is ~0 , approximate exp(-K * delta) as T-1 because T ≈ 1 + small*E\n",
    "                    E_mat = (feats['T'] - 1.0)\n",
    "                grads['d_effect']  = grads.get('d_effect', 0.0) + np.sum(diff * (params['gamma']* E_mat))\n",
    "\n",
    "            \n",
    "            # --- L2 Regularization ---\n",
    "            if reg_lambda > 0:\n",
    "                l2_term = sum(v**2 for v in params.values())\n",
    "                total_loss += reg_lambda * l2_term # adding l2 term to loss\n",
    "\n",
    "                # Update gradient to include L2 term\n",
    "                for k in params.keys():\n",
    "                    grads[k] += 2.0 * reg_lambda * params[k]\n",
    "                    \n",
    "            # --- Gradient Clipping ---\n",
    "            if clip_value is not None:\n",
    "                for k in grads.keys():\n",
    "                    grads[k] = np.clip(grads[k], -clip_value, clip_value)\n",
    "            \n",
    "            # Normalize + update\n",
    "            if total_count == 0:\n",
    "                if verbose:\n",
    "                    print(\"No valid samples; stopping early.\")\n",
    "                break\n",
    "            \n",
    "            effective_lr = lr / (1 + Model_rec.lr_decay * epoch) # learning rate decay\n",
    "            for k in grads.keys():\n",
    "                params[k] -= effective_lr * grads[k]\n",
    "\n",
    "            Model_rec.weights = {k: v for k, v in params.items() if k != 'd_effect'}\n",
    "            Model_rec.d_effect = params['d_effect']\n",
    "\n",
    "            epoch_loss = total_loss / max(1, total_count)\n",
    "            epoch_acc = correct_total / max(1, total_count)\n",
    "            history.append((epoch_loss, epoch_acc, copy.deepcopy(params)))\n",
    "\n",
    "            if verbose:\n",
    "                print(f\"Epoch {epoch}/{n_iter} | Loss: {epoch_loss:.6f} \") # | Acc: {epoch_acc:.4f}\n",
    "                print(f\"params: { {k: round(v,4) for k,v in params.items()} }\")\n",
    "                print(f\"Correct predictions:  {correct_total}/{total_count} \"  )\n",
    "                \n",
    "            # --- Early stopping evaluation (validate and possibly stop) ---\n",
    "            if early_stopping:\n",
    "                if epoch_loss + error < best_val_loss: # reset counter\n",
    "                    patience_counter = 0\n",
    "                    best_val_loss = epoch_loss\n",
    "                    best_epoch = epoch\n",
    "                else:\n",
    "                    patience_counter += 1\n",
    "                \n",
    "                if patience_counter >= patience:\n",
    "                    if verbose:\n",
    "                        print(f\"Early stopping triggered at epoch {epoch}. Restoring best parameters from epoch {best_epoch}.\")\n",
    "                    Model_rec.weights = {k: v for k, v in Model_rec.best_params.items() if k != 'd_effect'}\n",
    "                    Model_rec.d_effect = Model_rec.best_params['d_effect']\n",
    "                    params = copy.deepcopy(Model_rec.best_params)\n",
    "                    break\n",
    "            \n",
    "            if correct_total > Model_rec.best_result:\n",
    "                Model_rec.best_result = correct_total\n",
    "                Model_rec.best_params = copy.deepcopy(params)\n",
    "            \n",
    "\n",
    "        final_weights = copy.deepcopy(params)\n",
    "        return final_weights, history"
   ]
  },
  {
   "cell_type": "markdown",
   "id": "bd8f252e",
   "metadata": {},
   "source": [
    "Recency is a skewed parameter which is actually dominating everything else and corrupting our model <br>\n",
    "So, we will put initial weight for recency to be very low."
   ]
  },
  {
   "cell_type": "markdown",
   "id": "5b02560a",
   "metadata": {},
   "source": [
    "### Part-6: Model evaluation\n",
    "Now, we will make functions to evaluate our recommendation model."
   ]
  },
  {
   "cell_type": "markdown",
   "id": "db8a6d34",
   "metadata": {},
   "source": [
    "After thinking and reading about recommendation model, we have the following metrics for evaluating recommendation model:\n",
    "1. **Precision@N** → Measures how many of the top-N recommended items are actually relevant.  \n",
    "  $ \\text{Precision}@N \\;=\\; \\frac{\\#\\text{ relevant items in top-}N}{N} $\n",
    "  - Higher precision means your recommendations are more accurate and focused.\n",
    "\n",
    "2. **Recall@N** → Measures how many of the relevant (true) items were captured within the top-N recommendations.  \n",
    "  $ \\text{Recall}@N \\;=\\; \\frac{\\#\\text{ relevant items in top-}N}{\\#\\text{ of all relevant items}} $\n",
    "  - *(For next-item prediction where there's one true item per basket, Recall@N ≈ HitRate@N.)*\n",
    "\n",
    "3. **F1@N Score** → Harmonic mean of Precision@N and Recall@N.  \n",
    "  $ \\text{F1}@N \\;=\\; 2 \\times \\frac{\\text{Precision}@N \\times \\text{Recall}@N}{\\text{Precision}@N + \\text{Recall}@N} $\n",
    "  - A balanced measure of both accuracy and completeness of recommendations.\n",
    "\n",
    "4. **HitRate@N** → Fraction of test baskets where the true next item appeared in the top-N list.  \n",
    "  $ \\text{HitRate}@N \\;=\\; \\frac{\\#\\text{ baskets with a correct hit}}{\\text{total baskets}} $\n",
    "  - Indicates how often the system \"gets it right\" for users.\n",
    "\n",
    "5. **Mean Reciprocal Rank (MRR@N)** → Measures the average of reciprocal ranks of the true items in the recommended lists.  \n",
    "   $ \\text{MRR}@N \\;=\\; \\frac{1}{|B|} \\sum_{i=1}^{|B|} \\frac{1}{\\text{rank of true item in top-N}} $  \n",
    "   - Gives more weight to correct items appearing higher in the recommendation list.\n",
    "\n",
    "6. **Normalized Discounted Cumulative Gain (NDCG@N)** → Measures ranking quality, giving higher score when relevant items appear at the top.  \n",
    "   $ \\text{NDCG}@N \\;=\\; \\frac{DCG}{IDCG}, \\quad DCG = \\sum_{i=1}^{N} \\frac{2^{rel_i}-1}{\\log_2(i+1)} $  \n",
    "   - Higher NDCG → better ranking of relevant items.\n",
    "\n",
    "7. **Mean Average Precision (MAP@N)** → Average precision at ranks where relevant items appear, averaged across all test baskets.  \n",
    "   $ \\text{MAP}@N \\;=\\; \\frac{1}{|B|} \\sum_{b \\in B} AP_b $  \n",
    "   - Rewards both correctness and higher ranking of relevant items.\n",
    "\n",
    "---\n",
    "\n",
    "✅ **In summary:**\n",
    "- High **Precision** → fewer wrong recommendations.  \n",
    "- High **Recall / HitRate** → the model rarely misses what the user actually wanted.  \n",
    "- High **F1** → good balance between both.\n",
    "- High **MRR@N, NDCG@N, MAP@N** → ensures correct items are ranked higher, improving user experience."
   ]
  },
  {
   "cell_type": "code",
   "execution_count": 29,
   "id": "b1dd4f0f",
   "metadata": {},
   "outputs": [],
   "source": [
    "def Evaluate_model(rec_model, test_baskets, top_n=10, batch_size=128, budget_column='pseudo_budget', error=1e-8):\n",
    "    \"\"\" Evaluate our recommednation rec_model on unseen baskets\n",
    "    Computes metrics: \n",
    "        - Precision, Recall, F1,\n",
    "        - Hits@N (fraction where true item appears in top-N recommendations)\n",
    "    Parameters\n",
    "    ----------\n",
    "    rec_model : Retail_Recommendation\n",
    "    test_baskets : pd.DataFrame\n",
    "        Test baskets dataframe\n",
    "    top_n : int\n",
    "        Number of top items to consider from recommendations\n",
    "    batch_size : int\n",
    "        Number of baskets to process in one batch\n",
    "    budget_column : str\n",
    "        Column name for budget\n",
    "    error: float\n",
    "        minimum error associate with each quantity for failsafe\n",
    "    Returns a dict of aggregated scores.\n",
    "    \"\"\"\n",
    "    if test_baskets.empty: \n",
    "        raise ValueError(\"Test baskets dataframe is empty.\")\n",
    "           \n",
    "    # Handle small batch issue safely\n",
    "    if batch_size is not None:\n",
    "        batch_size = min(batch_size, len(test_baskets))\n",
    "    \n",
    "    # Run rec_model inference\n",
    "    results = rec_model.recommend(test_baskets, top_n=top_n, batch_size=batch_size, budget_column=budget_column)\n",
    "    \n",
    "    hits = 0\n",
    "    total_true = len(test_baskets)\n",
    "    precisions, recalls, f1s = [], [], []\n",
    "    reciprocal_ranks, ndcgs, average_precisions = [], [], []\n",
    "    for idx, row in test_baskets.iterrows():\n",
    "        true_item = row['Y']\n",
    "        if idx not in results: # No prediction for this basket\n",
    "            continue \n",
    "                   \n",
    "        Result = results[idx] # predicted items\n",
    "        if 'Rank' in Result.columns:\n",
    "            ranks_item = Result.sort_values(by='Rank')['StockCode'].tolist()[:top_n]\n",
    "        else:\n",
    "            ranks_item = Result['StockCode'].tolist()[:top_n]            \n",
    "        if not ranks_item: continue\n",
    "        \n",
    "        # --- Hit@N ---\n",
    "        hits_i = 1 if true_item in ranks_item else 0\n",
    "        hits += hits_i            \n",
    "        precision_i = hits_i / len(ranks_item)\n",
    "        recall_i = hits_i / 1.0\n",
    "        f1_i = (2 * precision_i * recall_i) / (precision_i + recall_i + error)\n",
    "        \n",
    "        precisions.append(precision_i)\n",
    "        recalls.append(recall_i)\n",
    "        f1s.append(f1_i)\n",
    "        \n",
    "        # --- Rank-sensitive metrics ---\n",
    "        if hits_i:\n",
    "            rank = ranks_item.index(true_item) + 1\n",
    "            \n",
    "            # MRR: Reciprocal rank of true item\n",
    "            reciprocal_ranks.append(1.0 / rank)\n",
    "            \n",
    "            # NDCG: discounted gain normalized by ideal DCG (1.0)\n",
    "            dcg = 1.0 / math.log2(rank + 1)\n",
    "            ndcgs.append(dcg)\n",
    "            \n",
    "            # Average Precision: since 1 true item, AP = precision at that rank\n",
    "            ap = 1.0 / rank\n",
    "            average_precisions.append(ap)\n",
    "        else:\n",
    "            reciprocal_ranks.append(0.0)\n",
    "            ndcgs.append(0.0)\n",
    "            average_precisions.append(0.0)\n",
    "        \n",
    "    metrics = {\n",
    "        'Precision@N': np.mean(precisions) if precisions else 0.0,\n",
    "        'Recall@N': np.mean(recalls) if recalls else 0.0,\n",
    "        'F1@N': np.mean(f1s) if f1s else 0.0,\n",
    "        'HitRate': hits / max(1, total_true),\n",
    "        'MRR@N': np.mean(reciprocal_ranks) if reciprocal_ranks else 0.0,\n",
    "        'NDCG@N': np.mean(ndcgs) if ndcgs else 0.0,\n",
    "        'MAP@N': np.mean(average_precisions) if average_precisions else 0.0,\n",
    "        'Fraction correct as ratio': f\"{hits}/{total_true}\",\n",
    "    }\n",
    "    rec_model.eval_metrics = metrics\n",
    "    return metrics"
   ]
  },
  {
   "cell_type": "code",
   "execution_count": 30,
   "id": "77d8c4c7",
   "metadata": {},
   "outputs": [
    {
     "name": "stdout",
     "output_type": "stream",
     "text": [
      "Evaluation Metrics: \n"
     ]
    },
    {
     "data": {
      "text/plain": [
       "{'Precision@N': np.float64(0.008437499999999999),\n",
       " 'Recall@N': np.float64(0.84375),\n",
       " 'F1@N': np.float64(0.01670792062665425),\n",
       " 'HitRate': 0.027190332326283987,\n",
       " 'MRR@N': np.float64(0.10176132668649739),\n",
       " 'NDCG@N': np.float64(0.23397873859672863),\n",
       " 'MAP@N': np.float64(0.10176132668649739),\n",
       " 'Fraction correct as ratio': '108/3972'}"
      ]
     },
     "execution_count": 30,
     "metadata": {},
     "output_type": "execute_result"
    }
   ],
   "source": [
    "Evaluation_metrics = Evaluate_model(model, test_baskets.reset_index(drop=True), top_n=100, batch_size=128, budget_column='pseudo_budget', error=1e-8)\n",
    "print(\"Evaluation Metrics: \")\n",
    "Evaluation_metrics"
   ]
  },
  {
   "cell_type": "markdown",
   "id": "4c7b0173",
   "metadata": {},
   "source": [
    "For adjusting this into our `model.py` class,\n",
    "1. We will create a new function `Evaluate_model` in our `Model.py` class.\n",
    "2. We will remodel recommend function to work with single basket and also with a batch of baskets."
   ]
  },
  {
   "cell_type": "code",
   "execution_count": 33,
   "id": "3ca56959",
   "metadata": {},
   "outputs": [
    {
     "data": {
      "text/plain": [
       "{'Precision@N': np.float64(0.00859375),\n",
       " 'Recall@N': np.float64(0.859375),\n",
       " 'F1@N': np.float64(0.017017326564184886),\n",
       " 'HitRate': 0.02769385699899295,\n",
       " 'MRR@N': np.float64(0.108077055760611),\n",
       " 'NDCG@N': np.float64(0.2423474102909143),\n",
       " 'MAP@N': np.float64(0.108077055760611),\n",
       " 'Fraction correct as ratio': '110/3972'}"
      ]
     },
     "execution_count": 33,
     "metadata": {},
     "output_type": "execute_result"
    }
   ],
   "source": [
    "model.Evaluate_model(test_baskets, top_n=100, batch_size=128, budget_column='pseudo_budget', error=1e-8)"
   ]
  }
 ],
 "metadata": {
  "kernelspec": {
   "display_name": "Python 3",
   "language": "python",
   "name": "python3"
  },
  "language_info": {
   "codemirror_mode": {
    "name": "ipython",
    "version": 3
   },
   "file_extension": ".py",
   "mimetype": "text/x-python",
   "name": "python",
   "nbconvert_exporter": "python",
   "pygments_lexer": "ipython3",
   "version": "3.13.0"
  }
 },
 "nbformat": 4,
 "nbformat_minor": 5
}
