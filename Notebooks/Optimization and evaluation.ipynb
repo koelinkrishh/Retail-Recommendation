{
 "cells": [
  {
   "cell_type": "code",
   "execution_count": 1,
   "id": "7fccb8b3",
   "metadata": {},
   "outputs": [],
   "source": [
    "import math\n",
    "import random\n",
    "\n",
    "import pandas as pd\n",
    "import numpy as np\n",
    "from collections import defaultdict\n",
    "import time\n",
    "import pickle\n",
    "\n",
    "from sklearn.model_selection import train_test_split\n",
    "import joblib\n",
    "\n",
    "import matplotlib.pyplot as plt\n",
    "import seaborn as sns\n",
    "import copy\n",
    "\n",
    "from itertools import combinations\n",
    "from datetime import datetime\n",
    "from sklearn.feature_extraction.text import CountVectorizer, TfidfVectorizer\n",
    "from sklearn.metrics.pairwise import cosine_similarity\n",
    "\n",
    "from Model import Retail_Recommendation\n",
    "\n",
    "## Reading datasets\n",
    "df = pd.read_parquet('../Data/data_with_features.parquet')\n",
    "customer = pd.read_pickle('../Data/customer_history.pkl')\n",
    "items = pd.read_pickle('../Data/item_summary.pkl')\n",
    "baskets = pd.read_pickle('../Data/baskets.pkl')\n",
    "itemsets = joblib.load('../Models/itemsets.joblib')\n",
    "rules = pd.read_pickle('../Data/rules.pkl')\n",
    "vectorizer = joblib.load('../Models/vectorizer.joblib')\n",
    "\n",
    "# coefficients to train\n",
    "params = {'alpha': 1.0, 'beta': 1.0, 'delta': 1.0, 'eta': 1.0, 'gamma': 0.1, 'epsilon': 2.0, 'd_effect': 0.5}\n",
    "\n",
    "# Calculating parameters\n",
    "Today = pd.Timestamp(df['Purchase Date'].max()) + pd.DateOffset(days=1)\n",
    "Time_period = (df['Purchase Date'].max() - df['Purchase Date'].min()).days\n",
    "d_effect = 0.5 # decay factor\n",
    "EPS = 1e-9\n",
    "\n",
    "Discount_dict = {} #{item: math.pow(np.random.default_rng().uniform(),(np.random.randint(1, 5))) for item in items.sample(100)['StockCode'].unique()}\n",
    "\n",
    "Baskets = baskets[ baskets['Num products']>= 5].drop(columns=['Purchase Time', 'InvoiceDate', 'Quantity', 'Amount', 'Total amount'])\n",
    "# we assume all purchases will be made today -> recency bias will not be trained well.\n",
    "Baskets['X'] = Baskets['StockCode'].apply(lambda x: x[:-1])\n",
    "Baskets['Y'] = Baskets['StockCode'].apply(lambda x: x[-1])\n",
    "\n",
    "\n",
    "Baskets['Total Cost'] = Baskets['Price'].apply(np.sum)\n",
    "# randomly scale up.down total cost to simulate budget\n",
    "# ±20% variation (uniform)\n",
    "variation = np.random.uniform(0.9, 1.25, size=len(Baskets))\n",
    "Baskets['pseudo_budget'] = Baskets['Total Cost'] * variation"
   ]
  },
  {
   "cell_type": "code",
   "execution_count": 2,
   "id": "98997e4a",
   "metadata": {},
   "outputs": [
    {
     "data": {
      "text/html": [
       "<div>\n",
       "<style scoped>\n",
       "    .dataframe tbody tr th:only-of-type {\n",
       "        vertical-align: middle;\n",
       "    }\n",
       "\n",
       "    .dataframe tbody tr th {\n",
       "        vertical-align: top;\n",
       "    }\n",
       "\n",
       "    .dataframe thead th {\n",
       "        text-align: right;\n",
       "    }\n",
       "</style>\n",
       "<table border=\"1\" class=\"dataframe\">\n",
       "  <thead>\n",
       "    <tr style=\"text-align: right;\">\n",
       "      <th></th>\n",
       "      <th>Invoice</th>\n",
       "      <th>Customer ID</th>\n",
       "      <th>Purchase Date</th>\n",
       "      <th>StockCode</th>\n",
       "      <th>Description</th>\n",
       "      <th>Price</th>\n",
       "      <th>Num products</th>\n",
       "      <th>X</th>\n",
       "      <th>Y</th>\n",
       "      <th>Total Cost</th>\n",
       "      <th>pseudo_budget</th>\n",
       "    </tr>\n",
       "  </thead>\n",
       "  <tbody>\n",
       "    <tr>\n",
       "      <th>27415</th>\n",
       "      <td>569148</td>\n",
       "      <td>16613</td>\n",
       "      <td>2011-09-30</td>\n",
       "      <td>[84946, 22960, 22867, 85123A, 21790, 21891, 21...</td>\n",
       "      <td>[antique|silver|t-light|glass, jam|making|set|...</td>\n",
       "      <td>[1.25, 4.25, 2.1, 2.95, 0.85, 1.45, 3.75, 1.25...</td>\n",
       "      <td>13</td>\n",
       "      <td>[84946, 22960, 22867, 85123A, 21790, 21891, 21...</td>\n",
       "      <td>22086</td>\n",
       "      <td>31.55</td>\n",
       "      <td>38.878208</td>\n",
       "    </tr>\n",
       "    <tr>\n",
       "      <th>23492</th>\n",
       "      <td>557875</td>\n",
       "      <td>13300</td>\n",
       "      <td>2011-06-23</td>\n",
       "      <td>[79321, 23209, 23203, 23202, 22720, 22630, 226...</td>\n",
       "      <td>[chilli|lights, lunch|bag|doiley|pattern, jumb...</td>\n",
       "      <td>[5.75, 1.65, 2.08, 2.08, 4.95, 1.95, 1.95, 1.6...</td>\n",
       "      <td>12</td>\n",
       "      <td>[79321, 23209, 23203, 23202, 22720, 22630, 226...</td>\n",
       "      <td>22666</td>\n",
       "      <td>30.46</td>\n",
       "      <td>28.994124</td>\n",
       "    </tr>\n",
       "  </tbody>\n",
       "</table>\n",
       "</div>"
      ],
      "text/plain": [
       "      Invoice  Customer ID Purchase Date  \\\n",
       "27415  569148        16613    2011-09-30   \n",
       "23492  557875        13300    2011-06-23   \n",
       "\n",
       "                                               StockCode  \\\n",
       "27415  [84946, 22960, 22867, 85123A, 21790, 21891, 21...   \n",
       "23492  [79321, 23209, 23203, 23202, 22720, 22630, 226...   \n",
       "\n",
       "                                             Description  \\\n",
       "27415  [antique|silver|t-light|glass, jam|making|set|...   \n",
       "23492  [chilli|lights, lunch|bag|doiley|pattern, jumb...   \n",
       "\n",
       "                                                   Price  Num products  \\\n",
       "27415  [1.25, 4.25, 2.1, 2.95, 0.85, 1.45, 3.75, 1.25...            13   \n",
       "23492  [5.75, 1.65, 2.08, 2.08, 4.95, 1.95, 1.95, 1.6...            12   \n",
       "\n",
       "                                                       X      Y  Total Cost  \\\n",
       "27415  [84946, 22960, 22867, 85123A, 21790, 21891, 21...  22086       31.55   \n",
       "23492  [79321, 23209, 23203, 23202, 22720, 22630, 226...  22666       30.46   \n",
       "\n",
       "       pseudo_budget  \n",
       "27415      38.878208  \n",
       "23492      28.994124  "
      ]
     },
     "execution_count": 2,
     "metadata": {},
     "output_type": "execute_result"
    }
   ],
   "source": [
    "Baskets.sample(2)"
   ]
  },
  {
   "cell_type": "code",
   "execution_count": 3,
   "id": "333ed20c",
   "metadata": {},
   "outputs": [],
   "source": [
    "## Random sampling -> train test split\n",
    "train_baskets, test_baskets = train_test_split(Baskets, shuffle=True, test_size=0.3, random_state=42)\n",
    "test_baskets, validation_baskets = train_test_split(test_baskets, shuffle=True, test_size=0.5, random_state=42)\n",
    "\n",
    "## Time based splitting\n",
    "df_dates = Baskets['Purchase Date']\n",
    "cut1 = df_dates.quantile(0.7)\n",
    "cut2 = df_dates.quantile(0.85)\n",
    "train = Baskets[df_dates < cut1]\n",
    "validation = Baskets[(df_dates >= cut1) & (df_dates < cut2)]\n",
    "test = Baskets[df_dates >= cut2]"
   ]
  },
  {
   "cell_type": "markdown",
   "id": "65e89f18",
   "metadata": {},
   "source": [
    "#### Part-7: Grid Search CV\n",
    "\n",
    "Now we will train model for first few steps for various parameters and choose the best parameters for our model."
   ]
  },
  {
   "cell_type": "code",
   "execution_count": 4,
   "id": "638b8af7",
   "metadata": {},
   "outputs": [],
   "source": [
    "Grid_params = {\n",
    "    # No need to include weights as they are trained already -> Just choose b/w 0 and non-zero\n",
    "    ## -> Works like feature selection\n",
    "    'alpha': [0.0,0.5],\n",
    "    'beta': [0.0,0.5],\n",
    "    'delta': [0.0,0.5],\n",
    "    'gamma': [0.0,0.5],\n",
    "    'eta': [0.0,0.5],\n",
    "    'epsilon': [0.0,0.5],\n",
    "    # model gradient weight\n",
    "    'lr' : [0.01, 0.05, 0.1],\n",
    "    \n",
    "    'reg_lambda': [0.0, 0.05, 0.1],\n",
    "    'lr_decay': [0.0, 0.05, 0.1],\n",
    "    'clip_value': [0.0, 0.05, 0.1],\n",
    "}"
   ]
  },
  {
   "cell_type": "code",
   "execution_count": 5,
   "id": "0f0b52c9",
   "metadata": {},
   "outputs": [],
   "source": [
    "# previously: temp_model = copy.deepcopy(model)\n",
    "# Instead, build a fresh model with the same constructor args:\n",
    "import gc # garbage collector\n",
    "\n",
    "def make_model_from_template(template_model, best_weights):\n",
    "    gc.collect()\n",
    "    \n",
    "    new_model = Retail_Recommendation(\n",
    "        items_data = template_model.item_data,\n",
    "        customer_data = template_model.customer_data,\n",
    "        rules = template_model.rules,\n",
    "        vectorizer = getattr(template_model, 'vectorizer', None),\n",
    "        initial_weights = copy.deepcopy(best_weights), \n",
    "        d_effect = template_model.d_effect,\n",
    "        current_date = template_model.current_date,\n",
    "        Half_life = template_model.half_life,\n",
    "        Time_period = template_model.Time_period,\n",
    "        filter_items = False,\n",
    "        # Remove description feature for removing overfitting\n",
    "        include_description = False, # template_model.include_description,\n",
    "        iteration_bar = False\n",
    "    )\n",
    "    \n",
    "    return new_model"
   ]
  },
  {
   "cell_type": "markdown",
   "id": "b43169c0",
   "metadata": {},
   "source": [
    "1. Defining objective function"
   ]
  },
  {
   "cell_type": "code",
   "execution_count": 6,
   "id": "0c100967",
   "metadata": {},
   "outputs": [],
   "source": [
    "import optuna\n",
    "import copy\n",
    "import traceback\n",
    "\n",
    "def objective(trial, model_template, best_weights, train_Data, val_data, top_n=100, n_iter=15, error=1e-6, batch_size=128, patience=5):\n",
    "    \"\"\"\n",
    "    Objective function for Optuna hyperparameter search.\n",
    "    Includes detailed logging and safe handling of crashes.\n",
    "    \"\"\"\n",
    "    gc.collect()\n",
    "    \n",
    "    # Suggest hyperparameters\n",
    "    lr = trial.suggest_float(\"lr\", 0.05, 0.2, log=True)\n",
    "    reg_lambda = trial.suggest_float(\"reg_lambda\", 0.0, 1.0)\n",
    "    lr_decay = trial.suggest_float(\"lr_decay\", 0.0, 0.4)\n",
    "    clip_value = trial.suggest_float(\"clip_value\", 0.5, 5.0)\n",
    "    \n",
    "    # Deep copy the model so each trial is independent\n",
    "    temp_model = make_model_from_template(model_template, best_weights)\n",
    "    \n",
    "    try:\n",
    "        # Train\n",
    "        print(f\"[Trial {trial.number}] Starting training with lr={lr:.5f}, reg_lambda={reg_lambda:.5f}, lr_decay={lr_decay:.5f}, clip_value={clip_value:.2f}\")\n",
    "        weights, history = temp_model.train_model(\n",
    "            Carts=train_Data, lr=lr, n_iter=n_iter, error=error, batch_size=batch_size, top_n=top_n,\n",
    "            reg_lambda=reg_lambda, Learning_rate_decay=lr_decay, clip_value=clip_value,\n",
    "            early_stopping=False, patience=patience, verbose=False\n",
    "        )\n",
    "        \n",
    "        # Evaluate\n",
    "        metrics = temp_model.Evaluate_model(val_data, top_n=top_n, batch_size=None)\n",
    "        Hit_Rate = metrics.get(\"HitRate\", 0)\n",
    "        NDCG = metrics.get(\"NDCG@N\", 0)\n",
    "        score = 0.7*Hit_Rate + 0.3*NDCG if NDCG else Hit_Rate\n",
    "        \n",
    "        # Store metrics for debugging + score + weights\n",
    "        trial.set_user_attr(\"metrics\", metrics)\n",
    "        trial.set_user_attr(\"params\", weights)\n",
    "        trial.set_user_attr(\"score\", score)\n",
    "        \n",
    "        del temp_model\n",
    "        gc.collect()\n",
    "        return score\n",
    "    \n",
    "    except Exception as e:\n",
    "        print(f\"[Trial {trial.number}] Failed with exception:\")\n",
    "        traceback.print_exc()\n",
    "        trial.set_user_attr(\"error\", str(e))\n",
    "        \n",
    "        del temp_model\n",
    "        gc.collect()\n",
    "        return 0.0"
   ]
  },
  {
   "cell_type": "markdown",
   "id": "a55bc020",
   "metadata": {},
   "source": [
    "2. Run the optuna study"
   ]
  },
  {
   "cell_type": "code",
   "execution_count": 7,
   "id": "7643e64a",
   "metadata": {},
   "outputs": [],
   "source": [
    "def run_optuna_search(model, best_weights, train_data, val_data, n_trials=5):\n",
    "    study = optuna.create_study(direction='maximize', sampler=optuna.samplers.TPESampler())\n",
    "    \n",
    "    study.optimize(\n",
    "        lambda trial: objective(trial, model, best_weights, train_data, val_data), \n",
    "        n_trials=n_trials, show_progress_bar=True\n",
    "    )\n",
    "    \n",
    "    print(\"\\n Best trail:\")\n",
    "    Optimal_run = study.best_trial\n",
    "    print(\"  Hit Rate: \", Optimal_run.value)\n",
    "    print(\"  Best Parameters: \",Optimal_run.params)\n",
    "    \n",
    "    return study"
   ]
  },
  {
   "cell_type": "markdown",
   "id": "94457cbb",
   "metadata": {},
   "source": [
    "3. Running trail: <br>\n",
    "20 iteration for 20 trail with 2000 baskets is enough."
   ]
  },
  {
   "cell_type": "markdown",
   "id": "22d60aa6",
   "metadata": {},
   "source": [
    "> Randomly sampling baskets for each trail is bad practice which leads to inconsistent results."
   ]
  },
  {
   "cell_type": "code",
   "execution_count": 8,
   "id": "d8b6fb18",
   "metadata": {},
   "outputs": [
    {
     "name": "stderr",
     "output_type": "stream",
     "text": [
      "[I 2025-10-21 10:38:29,599] A new study created in memory with name: no-name-acbf02ef-c55f-45a3-b81b-dbd627f86446\n"
     ]
    },
    {
     "data": {
      "application/vnd.jupyter.widget-view+json": {
       "model_id": "46fc6f4243374da5bee5381ea6d3e8f4",
       "version_major": 2,
       "version_minor": 0
      },
      "text/plain": [
       "  0%|          | 0/20 [00:00<?, ?it/s]"
      ]
     },
     "metadata": {},
     "output_type": "display_data"
    },
    {
     "name": "stdout",
     "output_type": "stream",
     "text": [
      "[Trial 0] Starting training with lr=0.17710, reg_lambda=0.71671, lr_decay=0.07458, clip_value=3.29\n",
      "[I 2025-10-21 10:39:01,780] Trial 0 finished with value: 0.3184748413782441 and parameters: {'lr': 0.17710428143382625, 'reg_lambda': 0.716707880544434, 'lr_decay': 0.07458338193651541, 'clip_value': 3.293837877709642}. Best is trial 0 with value: 0.3184748413782441.\n",
      "[Trial 1] Starting training with lr=0.18871, reg_lambda=0.97034, lr_decay=0.25490, clip_value=3.17\n",
      "[I 2025-10-21 10:39:33,348] Trial 1 finished with value: 0.2844307952627347 and parameters: {'lr': 0.18870850183409726, 'reg_lambda': 0.9703364277894366, 'lr_decay': 0.2548996428772405, 'clip_value': 3.1691441464342773}. Best is trial 0 with value: 0.3184748413782441.\n",
      "[Trial 2] Starting training with lr=0.17787, reg_lambda=0.30966, lr_decay=0.11474, clip_value=1.24\n",
      "[I 2025-10-21 10:40:05,226] Trial 2 finished with value: 0.30960384386108714 and parameters: {'lr': 0.1778711228062552, 'reg_lambda': 0.3096592151891341, 'lr_decay': 0.11473502538146572, 'clip_value': 1.2428065057104414}. Best is trial 0 with value: 0.3184748413782441.\n",
      "[Trial 3] Starting training with lr=0.06091, reg_lambda=0.73505, lr_decay=0.09944, clip_value=3.21\n",
      "[I 2025-10-21 10:40:37,019] Trial 3 finished with value: 0.27743735649845463 and parameters: {'lr': 0.060912334023601446, 'reg_lambda': 0.735046274412818, 'lr_decay': 0.09943698551542038, 'clip_value': 3.2102328529074318}. Best is trial 0 with value: 0.3184748413782441.\n",
      "[Trial 4] Starting training with lr=0.14985, reg_lambda=0.48829, lr_decay=0.37395, clip_value=4.19\n",
      "[I 2025-10-21 10:41:08,698] Trial 4 finished with value: 0.3109228770827127 and parameters: {'lr': 0.14984813340824402, 'reg_lambda': 0.4882852583355948, 'lr_decay': 0.37394828314071515, 'clip_value': 4.194039307298392}. Best is trial 0 with value: 0.3184748413782441.\n",
      "[Trial 5] Starting training with lr=0.05620, reg_lambda=0.42540, lr_decay=0.37327, clip_value=2.29\n",
      "[I 2025-10-21 10:41:40,305] Trial 5 finished with value: 0.26629379242569395 and parameters: {'lr': 0.05619552700939248, 'reg_lambda': 0.42540155447149786, 'lr_decay': 0.37326779316052683, 'clip_value': 2.287969202040138}. Best is trial 0 with value: 0.3184748413782441.\n",
      "[Trial 6] Starting training with lr=0.05066, reg_lambda=0.02585, lr_decay=0.34040, clip_value=3.96\n",
      "[I 2025-10-21 10:42:12,052] Trial 6 finished with value: 0.30626875213790616 and parameters: {'lr': 0.05065516396644668, 'reg_lambda': 0.025846484854210372, 'lr_decay': 0.34039921004282775, 'clip_value': 3.9573456834093235}. Best is trial 0 with value: 0.3184748413782441.\n",
      "[Trial 7] Starting training with lr=0.12330, reg_lambda=0.40185, lr_decay=0.38921, clip_value=2.87\n",
      "[I 2025-10-21 10:42:43,704] Trial 7 finished with value: 0.2952465310845137 and parameters: {'lr': 0.12329693375321261, 'reg_lambda': 0.40185013808277237, 'lr_decay': 0.38921032975579734, 'clip_value': 2.867298723311622}. Best is trial 0 with value: 0.3184748413782441.\n",
      "[Trial 8] Starting training with lr=0.06577, reg_lambda=0.75761, lr_decay=0.11949, clip_value=1.07\n",
      "[I 2025-10-21 10:43:15,664] Trial 8 finished with value: 0.2553614009876861 and parameters: {'lr': 0.06577206609772794, 'reg_lambda': 0.7576070148736799, 'lr_decay': 0.11948654058597317, 'clip_value': 1.0732366143128862}. Best is trial 0 with value: 0.3184748413782441.\n",
      "[Trial 9] Starting training with lr=0.18866, reg_lambda=0.24772, lr_decay=0.31921, clip_value=2.81\n",
      "[I 2025-10-21 10:43:47,241] Trial 9 finished with value: 0.32869211598992276 and parameters: {'lr': 0.1886577500260886, 'reg_lambda': 0.24772080723845258, 'lr_decay': 0.3192069931314558, 'clip_value': 2.806787398631261}. Best is trial 9 with value: 0.32869211598992276.\n",
      "[Trial 10] Starting training with lr=0.08872, reg_lambda=0.14043, lr_decay=0.25379, clip_value=4.89\n",
      "[I 2025-10-21 10:44:18,957] Trial 10 finished with value: 0.334607214677139 and parameters: {'lr': 0.08872477498903654, 'reg_lambda': 0.14043431103639153, 'lr_decay': 0.2537947747531651, 'clip_value': 4.8858253705842625}. Best is trial 10 with value: 0.334607214677139.\n",
      "[Trial 11] Starting training with lr=0.08553, reg_lambda=0.13949, lr_decay=0.24832, clip_value=4.68\n",
      "[I 2025-10-21 10:44:50,783] Trial 11 finished with value: 0.3323766329897979 and parameters: {'lr': 0.08553102254694074, 'reg_lambda': 0.1394916662687412, 'lr_decay': 0.24832416991144474, 'clip_value': 4.675459030932756}. Best is trial 10 with value: 0.334607214677139.\n",
      "[Trial 12] Starting training with lr=0.08602, reg_lambda=0.00860, lr_decay=0.21785, clip_value=4.81\n",
      "[I 2025-10-21 10:45:23,393] Trial 12 finished with value: 0.33924400601085886 and parameters: {'lr': 0.08601535522110482, 'reg_lambda': 0.008598386063334018, 'lr_decay': 0.21785030599660563, 'clip_value': 4.813648269278315}. Best is trial 12 with value: 0.33924400601085886.\n",
      "[Trial 13] Starting training with lr=0.08564, reg_lambda=0.00033, lr_decay=0.19794, clip_value=4.99\n",
      "[I 2025-10-21 10:45:55,642] Trial 13 finished with value: 0.34143997393661846 and parameters: {'lr': 0.08564008982091255, 'reg_lambda': 0.0003317375548676175, 'lr_decay': 0.1979387668397471, 'clip_value': 4.9862284548043645}. Best is trial 13 with value: 0.34143997393661846.\n",
      "[Trial 14] Starting training with lr=0.07669, reg_lambda=0.00353, lr_decay=0.17077, clip_value=3.99\n",
      "[I 2025-10-21 10:46:27,673] Trial 14 finished with value: 0.3347004795936616 and parameters: {'lr': 0.07669098225979266, 'reg_lambda': 0.0035316512256077836, 'lr_decay': 0.17077158682616123, 'clip_value': 3.9895129318166496}. Best is trial 13 with value: 0.34143997393661846.\n",
      "[Trial 15] Starting training with lr=0.10680, reg_lambda=0.12940, lr_decay=0.01839, clip_value=4.97\n",
      "[I 2025-10-21 10:47:00,031] Trial 15 finished with value: 0.35000647643063665 and parameters: {'lr': 0.10679514829809283, 'reg_lambda': 0.12940326697938503, 'lr_decay': 0.018390424287397567, 'clip_value': 4.967950851842016}. Best is trial 15 with value: 0.35000647643063665.\n",
      "[Trial 16] Starting training with lr=0.11251, reg_lambda=0.17462, lr_decay=0.00393, clip_value=2.03\n",
      "[I 2025-10-21 10:47:32,352] Trial 16 finished with value: 0.33896945307943505 and parameters: {'lr': 0.11250849879110968, 'reg_lambda': 0.17462186492041254, 'lr_decay': 0.003926493282816558, 'clip_value': 2.0255680479545495}. Best is trial 15 with value: 0.35000647643063665.\n",
      "[Trial 17] Starting training with lr=0.11274, reg_lambda=0.31852, lr_decay=0.00428, clip_value=4.33\n",
      "[I 2025-10-21 10:48:04,642] Trial 17 finished with value: 0.3443118167831586 and parameters: {'lr': 0.11274450331207612, 'reg_lambda': 0.31852074440979217, 'lr_decay': 0.004284796303404271, 'clip_value': 4.326317767340966}. Best is trial 15 with value: 0.35000647643063665.\n",
      "[Trial 18] Starting training with lr=0.13258, reg_lambda=0.61438, lr_decay=0.04174, clip_value=4.30\n",
      "[I 2025-10-21 10:48:36,893] Trial 18 finished with value: 0.327862010189569 and parameters: {'lr': 0.13258336720228406, 'reg_lambda': 0.6143793410436393, 'lr_decay': 0.04174343069120118, 'clip_value': 4.303127912432036}. Best is trial 15 with value: 0.35000647643063665.\n",
      "[Trial 19] Starting training with lr=0.11127, reg_lambda=0.29755, lr_decay=0.00464, clip_value=3.46\n",
      "[I 2025-10-21 10:49:09,092] Trial 19 finished with value: 0.3423781181383708 and parameters: {'lr': 0.11127328496523901, 'reg_lambda': 0.2975486339945681, 'lr_decay': 0.004643224468863215, 'clip_value': 3.461520842626098}. Best is trial 15 with value: 0.35000647643063665.\n",
      "\n",
      " Best trail:\n",
      "  Hit Rate:  0.35000647643063665\n",
      "  Best Parameters:  {'lr': 0.10679514829809283, 'reg_lambda': 0.12940326697938503, 'lr_decay': 0.018390424287397567, 'clip_value': 4.967950851842016}\n"
     ]
    }
   ],
   "source": [
    "with open(\"../Models/best_parameters.pkl\", \"rb\") as f:\n",
    "    best_weights = pickle.load(f)\n",
    "\n",
    "grid_model = Retail_Recommendation(\n",
    "    items_data = items,\n",
    "    customer_data = customer,\n",
    "    rules = rules,\n",
    "    initial_weights = best_weights,\n",
    "    current_date = Today,\n",
    "    Time_period = 100,\n",
    "    filter_items = False,\n",
    "    include_description = True,\n",
    "    iteration_bar = False\n",
    ")\n",
    "\n",
    "study = run_optuna_search(\n",
    "    model = grid_model, best_weights=best_weights, train_data=train.sample(train.shape[0]//4), val_data=validation, n_trials=20\n",
    ")"
   ]
  },
  {
   "cell_type": "markdown",
   "id": "2cc8c251",
   "metadata": {},
   "source": [
    "4. Access Results"
   ]
  },
  {
   "cell_type": "code",
   "execution_count": 9,
   "id": "9ea5df0b",
   "metadata": {},
   "outputs": [
    {
     "name": "stdout",
     "output_type": "stream",
     "text": [
      "Best Hit Rate: 0.35000647643063665\n",
      "Best Parameters: {'lr': 0.10679514829809283, 'reg_lambda': 0.12940326697938503, 'lr_decay': 0.018390424287397567, 'clip_value': 4.967950851842016}\n",
      "Metrics: {'Precision@N': np.float64(0.004357859531772576), 'Recall@N': np.float64(0.43578595317725755), 'F1@N': np.float64(0.00862942472995139), 'HitRate': 0.43578595317725755, 'MRR@N': np.float64(0.07579494359667348), 'NDCG@N': np.float64(0.14985436402185462), 'MAP@N': np.float64(0.07579494359667348), 'Correct recommendations': 1303, 'Fraction correct as ratio': '1303/2990'}\n",
      "Best Hit Rate:  0.35000647643063665\n"
     ]
    }
   ],
   "source": [
    "best_trial = study.best_trial\n",
    "best_params = best_trial.params\n",
    "best_hit_rate = best_trial.value\n",
    "best_metrics = best_trial.user_attrs.get(\"metrics\", {})\n",
    "\n",
    "print(\"Best Hit Rate:\", best_hit_rate)\n",
    "print(\"Best Parameters:\", best_params)\n",
    "print(\"Metrics:\", best_metrics)\n",
    "\n",
    "print(\"Best Hit Rate: \",best_hit_rate)"
   ]
  },
  {
   "cell_type": "code",
   "execution_count": 10,
   "id": "66115c5c",
   "metadata": {},
   "outputs": [
    {
     "data": {
      "application/vnd.plotly.v1+json": {
       "config": {
        "plotlyServerURL": "https://plot.ly"
       },
       "data": [
        {
         "mode": "markers",
         "name": "Objective Value",
         "type": "scatter",
         "x": [
          0,
          1,
          2,
          3,
          4,
          5,
          6,
          7,
          8,
          9,
          10,
          11,
          12,
          13,
          14,
          15,
          16,
          17,
          18,
          19
         ],
         "y": [
          0.3184748413782441,
          0.2844307952627347,
          0.30960384386108714,
          0.27743735649845463,
          0.3109228770827127,
          0.26629379242569395,
          0.30626875213790616,
          0.2952465310845137,
          0.2553614009876861,
          0.32869211598992276,
          0.334607214677139,
          0.3323766329897979,
          0.33924400601085886,
          0.34143997393661846,
          0.3347004795936616,
          0.35000647643063665,
          0.33896945307943505,
          0.3443118167831586,
          0.327862010189569,
          0.3423781181383708
         ]
        },
        {
         "mode": "lines",
         "name": "Best Value",
         "type": "scatter",
         "x": [
          0,
          1,
          2,
          3,
          4,
          5,
          6,
          7,
          8,
          9,
          10,
          11,
          12,
          13,
          14,
          15,
          16,
          17,
          18,
          19
         ],
         "y": [
          0.3184748413782441,
          0.3184748413782441,
          0.3184748413782441,
          0.3184748413782441,
          0.3184748413782441,
          0.3184748413782441,
          0.3184748413782441,
          0.3184748413782441,
          0.3184748413782441,
          0.32869211598992276,
          0.334607214677139,
          0.334607214677139,
          0.33924400601085886,
          0.34143997393661846,
          0.34143997393661846,
          0.35000647643063665,
          0.35000647643063665,
          0.35000647643063665,
          0.35000647643063665,
          0.35000647643063665
         ]
        },
        {
         "marker": {
          "color": "#cccccc"
         },
         "mode": "markers",
         "name": "Infeasible Trial",
         "showlegend": false,
         "type": "scatter",
         "x": [],
         "y": []
        }
       ],
       "layout": {
        "template": {
         "data": {
          "bar": [
           {
            "error_x": {
             "color": "#2a3f5f"
            },
            "error_y": {
             "color": "#2a3f5f"
            },
            "marker": {
             "line": {
              "color": "#E5ECF6",
              "width": 0.5
             },
             "pattern": {
              "fillmode": "overlay",
              "size": 10,
              "solidity": 0.2
             }
            },
            "type": "bar"
           }
          ],
          "barpolar": [
           {
            "marker": {
             "line": {
              "color": "#E5ECF6",
              "width": 0.5
             },
             "pattern": {
              "fillmode": "overlay",
              "size": 10,
              "solidity": 0.2
             }
            },
            "type": "barpolar"
           }
          ],
          "carpet": [
           {
            "aaxis": {
             "endlinecolor": "#2a3f5f",
             "gridcolor": "white",
             "linecolor": "white",
             "minorgridcolor": "white",
             "startlinecolor": "#2a3f5f"
            },
            "baxis": {
             "endlinecolor": "#2a3f5f",
             "gridcolor": "white",
             "linecolor": "white",
             "minorgridcolor": "white",
             "startlinecolor": "#2a3f5f"
            },
            "type": "carpet"
           }
          ],
          "choropleth": [
           {
            "colorbar": {
             "outlinewidth": 0,
             "ticks": ""
            },
            "type": "choropleth"
           }
          ],
          "contour": [
           {
            "colorbar": {
             "outlinewidth": 0,
             "ticks": ""
            },
            "colorscale": [
             [
              0,
              "#0d0887"
             ],
             [
              0.1111111111111111,
              "#46039f"
             ],
             [
              0.2222222222222222,
              "#7201a8"
             ],
             [
              0.3333333333333333,
              "#9c179e"
             ],
             [
              0.4444444444444444,
              "#bd3786"
             ],
             [
              0.5555555555555556,
              "#d8576b"
             ],
             [
              0.6666666666666666,
              "#ed7953"
             ],
             [
              0.7777777777777778,
              "#fb9f3a"
             ],
             [
              0.8888888888888888,
              "#fdca26"
             ],
             [
              1,
              "#f0f921"
             ]
            ],
            "type": "contour"
           }
          ],
          "contourcarpet": [
           {
            "colorbar": {
             "outlinewidth": 0,
             "ticks": ""
            },
            "type": "contourcarpet"
           }
          ],
          "heatmap": [
           {
            "colorbar": {
             "outlinewidth": 0,
             "ticks": ""
            },
            "colorscale": [
             [
              0,
              "#0d0887"
             ],
             [
              0.1111111111111111,
              "#46039f"
             ],
             [
              0.2222222222222222,
              "#7201a8"
             ],
             [
              0.3333333333333333,
              "#9c179e"
             ],
             [
              0.4444444444444444,
              "#bd3786"
             ],
             [
              0.5555555555555556,
              "#d8576b"
             ],
             [
              0.6666666666666666,
              "#ed7953"
             ],
             [
              0.7777777777777778,
              "#fb9f3a"
             ],
             [
              0.8888888888888888,
              "#fdca26"
             ],
             [
              1,
              "#f0f921"
             ]
            ],
            "type": "heatmap"
           }
          ],
          "histogram": [
           {
            "marker": {
             "pattern": {
              "fillmode": "overlay",
              "size": 10,
              "solidity": 0.2
             }
            },
            "type": "histogram"
           }
          ],
          "histogram2d": [
           {
            "colorbar": {
             "outlinewidth": 0,
             "ticks": ""
            },
            "colorscale": [
             [
              0,
              "#0d0887"
             ],
             [
              0.1111111111111111,
              "#46039f"
             ],
             [
              0.2222222222222222,
              "#7201a8"
             ],
             [
              0.3333333333333333,
              "#9c179e"
             ],
             [
              0.4444444444444444,
              "#bd3786"
             ],
             [
              0.5555555555555556,
              "#d8576b"
             ],
             [
              0.6666666666666666,
              "#ed7953"
             ],
             [
              0.7777777777777778,
              "#fb9f3a"
             ],
             [
              0.8888888888888888,
              "#fdca26"
             ],
             [
              1,
              "#f0f921"
             ]
            ],
            "type": "histogram2d"
           }
          ],
          "histogram2dcontour": [
           {
            "colorbar": {
             "outlinewidth": 0,
             "ticks": ""
            },
            "colorscale": [
             [
              0,
              "#0d0887"
             ],
             [
              0.1111111111111111,
              "#46039f"
             ],
             [
              0.2222222222222222,
              "#7201a8"
             ],
             [
              0.3333333333333333,
              "#9c179e"
             ],
             [
              0.4444444444444444,
              "#bd3786"
             ],
             [
              0.5555555555555556,
              "#d8576b"
             ],
             [
              0.6666666666666666,
              "#ed7953"
             ],
             [
              0.7777777777777778,
              "#fb9f3a"
             ],
             [
              0.8888888888888888,
              "#fdca26"
             ],
             [
              1,
              "#f0f921"
             ]
            ],
            "type": "histogram2dcontour"
           }
          ],
          "mesh3d": [
           {
            "colorbar": {
             "outlinewidth": 0,
             "ticks": ""
            },
            "type": "mesh3d"
           }
          ],
          "parcoords": [
           {
            "line": {
             "colorbar": {
              "outlinewidth": 0,
              "ticks": ""
             }
            },
            "type": "parcoords"
           }
          ],
          "pie": [
           {
            "automargin": true,
            "type": "pie"
           }
          ],
          "scatter": [
           {
            "fillpattern": {
             "fillmode": "overlay",
             "size": 10,
             "solidity": 0.2
            },
            "type": "scatter"
           }
          ],
          "scatter3d": [
           {
            "line": {
             "colorbar": {
              "outlinewidth": 0,
              "ticks": ""
             }
            },
            "marker": {
             "colorbar": {
              "outlinewidth": 0,
              "ticks": ""
             }
            },
            "type": "scatter3d"
           }
          ],
          "scattercarpet": [
           {
            "marker": {
             "colorbar": {
              "outlinewidth": 0,
              "ticks": ""
             }
            },
            "type": "scattercarpet"
           }
          ],
          "scattergeo": [
           {
            "marker": {
             "colorbar": {
              "outlinewidth": 0,
              "ticks": ""
             }
            },
            "type": "scattergeo"
           }
          ],
          "scattergl": [
           {
            "marker": {
             "colorbar": {
              "outlinewidth": 0,
              "ticks": ""
             }
            },
            "type": "scattergl"
           }
          ],
          "scattermap": [
           {
            "marker": {
             "colorbar": {
              "outlinewidth": 0,
              "ticks": ""
             }
            },
            "type": "scattermap"
           }
          ],
          "scattermapbox": [
           {
            "marker": {
             "colorbar": {
              "outlinewidth": 0,
              "ticks": ""
             }
            },
            "type": "scattermapbox"
           }
          ],
          "scatterpolar": [
           {
            "marker": {
             "colorbar": {
              "outlinewidth": 0,
              "ticks": ""
             }
            },
            "type": "scatterpolar"
           }
          ],
          "scatterpolargl": [
           {
            "marker": {
             "colorbar": {
              "outlinewidth": 0,
              "ticks": ""
             }
            },
            "type": "scatterpolargl"
           }
          ],
          "scatterternary": [
           {
            "marker": {
             "colorbar": {
              "outlinewidth": 0,
              "ticks": ""
             }
            },
            "type": "scatterternary"
           }
          ],
          "surface": [
           {
            "colorbar": {
             "outlinewidth": 0,
             "ticks": ""
            },
            "colorscale": [
             [
              0,
              "#0d0887"
             ],
             [
              0.1111111111111111,
              "#46039f"
             ],
             [
              0.2222222222222222,
              "#7201a8"
             ],
             [
              0.3333333333333333,
              "#9c179e"
             ],
             [
              0.4444444444444444,
              "#bd3786"
             ],
             [
              0.5555555555555556,
              "#d8576b"
             ],
             [
              0.6666666666666666,
              "#ed7953"
             ],
             [
              0.7777777777777778,
              "#fb9f3a"
             ],
             [
              0.8888888888888888,
              "#fdca26"
             ],
             [
              1,
              "#f0f921"
             ]
            ],
            "type": "surface"
           }
          ],
          "table": [
           {
            "cells": {
             "fill": {
              "color": "#EBF0F8"
             },
             "line": {
              "color": "white"
             }
            },
            "header": {
             "fill": {
              "color": "#C8D4E3"
             },
             "line": {
              "color": "white"
             }
            },
            "type": "table"
           }
          ]
         },
         "layout": {
          "annotationdefaults": {
           "arrowcolor": "#2a3f5f",
           "arrowhead": 0,
           "arrowwidth": 1
          },
          "autotypenumbers": "strict",
          "coloraxis": {
           "colorbar": {
            "outlinewidth": 0,
            "ticks": ""
           }
          },
          "colorscale": {
           "diverging": [
            [
             0,
             "#8e0152"
            ],
            [
             0.1,
             "#c51b7d"
            ],
            [
             0.2,
             "#de77ae"
            ],
            [
             0.3,
             "#f1b6da"
            ],
            [
             0.4,
             "#fde0ef"
            ],
            [
             0.5,
             "#f7f7f7"
            ],
            [
             0.6,
             "#e6f5d0"
            ],
            [
             0.7,
             "#b8e186"
            ],
            [
             0.8,
             "#7fbc41"
            ],
            [
             0.9,
             "#4d9221"
            ],
            [
             1,
             "#276419"
            ]
           ],
           "sequential": [
            [
             0,
             "#0d0887"
            ],
            [
             0.1111111111111111,
             "#46039f"
            ],
            [
             0.2222222222222222,
             "#7201a8"
            ],
            [
             0.3333333333333333,
             "#9c179e"
            ],
            [
             0.4444444444444444,
             "#bd3786"
            ],
            [
             0.5555555555555556,
             "#d8576b"
            ],
            [
             0.6666666666666666,
             "#ed7953"
            ],
            [
             0.7777777777777778,
             "#fb9f3a"
            ],
            [
             0.8888888888888888,
             "#fdca26"
            ],
            [
             1,
             "#f0f921"
            ]
           ],
           "sequentialminus": [
            [
             0,
             "#0d0887"
            ],
            [
             0.1111111111111111,
             "#46039f"
            ],
            [
             0.2222222222222222,
             "#7201a8"
            ],
            [
             0.3333333333333333,
             "#9c179e"
            ],
            [
             0.4444444444444444,
             "#bd3786"
            ],
            [
             0.5555555555555556,
             "#d8576b"
            ],
            [
             0.6666666666666666,
             "#ed7953"
            ],
            [
             0.7777777777777778,
             "#fb9f3a"
            ],
            [
             0.8888888888888888,
             "#fdca26"
            ],
            [
             1,
             "#f0f921"
            ]
           ]
          },
          "colorway": [
           "#636efa",
           "#EF553B",
           "#00cc96",
           "#ab63fa",
           "#FFA15A",
           "#19d3f3",
           "#FF6692",
           "#B6E880",
           "#FF97FF",
           "#FECB52"
          ],
          "font": {
           "color": "#2a3f5f"
          },
          "geo": {
           "bgcolor": "white",
           "lakecolor": "white",
           "landcolor": "#E5ECF6",
           "showlakes": true,
           "showland": true,
           "subunitcolor": "white"
          },
          "hoverlabel": {
           "align": "left"
          },
          "hovermode": "closest",
          "mapbox": {
           "style": "light"
          },
          "paper_bgcolor": "white",
          "plot_bgcolor": "#E5ECF6",
          "polar": {
           "angularaxis": {
            "gridcolor": "white",
            "linecolor": "white",
            "ticks": ""
           },
           "bgcolor": "#E5ECF6",
           "radialaxis": {
            "gridcolor": "white",
            "linecolor": "white",
            "ticks": ""
           }
          },
          "scene": {
           "xaxis": {
            "backgroundcolor": "#E5ECF6",
            "gridcolor": "white",
            "gridwidth": 2,
            "linecolor": "white",
            "showbackground": true,
            "ticks": "",
            "zerolinecolor": "white"
           },
           "yaxis": {
            "backgroundcolor": "#E5ECF6",
            "gridcolor": "white",
            "gridwidth": 2,
            "linecolor": "white",
            "showbackground": true,
            "ticks": "",
            "zerolinecolor": "white"
           },
           "zaxis": {
            "backgroundcolor": "#E5ECF6",
            "gridcolor": "white",
            "gridwidth": 2,
            "linecolor": "white",
            "showbackground": true,
            "ticks": "",
            "zerolinecolor": "white"
           }
          },
          "shapedefaults": {
           "line": {
            "color": "#2a3f5f"
           }
          },
          "ternary": {
           "aaxis": {
            "gridcolor": "white",
            "linecolor": "white",
            "ticks": ""
           },
           "baxis": {
            "gridcolor": "white",
            "linecolor": "white",
            "ticks": ""
           },
           "bgcolor": "#E5ECF6",
           "caxis": {
            "gridcolor": "white",
            "linecolor": "white",
            "ticks": ""
           }
          },
          "title": {
           "x": 0.05
          },
          "xaxis": {
           "automargin": true,
           "gridcolor": "white",
           "linecolor": "white",
           "ticks": "",
           "title": {
            "standoff": 15
           },
           "zerolinecolor": "white",
           "zerolinewidth": 2
          },
          "yaxis": {
           "automargin": true,
           "gridcolor": "white",
           "linecolor": "white",
           "ticks": "",
           "title": {
            "standoff": 15
           },
           "zerolinecolor": "white",
           "zerolinewidth": 2
          }
         }
        },
        "title": {
         "text": "Optimization History Plot"
        },
        "xaxis": {
         "title": {
          "text": "Trial"
         }
        },
        "yaxis": {
         "title": {
          "text": "Objective Value"
         }
        }
       }
      }
     },
     "metadata": {},
     "output_type": "display_data"
    }
   ],
   "source": [
    "optuna.visualization.plot_optimization_history(study).show()"
   ]
  },
  {
   "cell_type": "code",
   "execution_count": 11,
   "id": "e95d9275",
   "metadata": {},
   "outputs": [
    {
     "data": {
      "application/vnd.plotly.v1+json": {
       "config": {
        "plotlyServerURL": "https://plot.ly"
       },
       "data": [
        {
         "cliponaxis": false,
         "hovertemplate": [
          "lr_decay (FloatDistribution): 0.10612510512177437<extra></extra>",
          "clip_value (FloatDistribution): 0.15484175029056807<extra></extra>",
          "lr (FloatDistribution): 0.22880879861877138<extra></extra>",
          "reg_lambda (FloatDistribution): 0.5102243459688862<extra></extra>"
         ],
         "name": "Objective Value",
         "orientation": "h",
         "text": [
          "0.11",
          "0.15",
          "0.23",
          "0.51"
         ],
         "textposition": "outside",
         "type": "bar",
         "x": [
          0.10612510512177437,
          0.15484175029056807,
          0.22880879861877138,
          0.5102243459688862
         ],
         "y": [
          "lr_decay",
          "clip_value",
          "lr",
          "reg_lambda"
         ]
        }
       ],
       "layout": {
        "template": {
         "data": {
          "bar": [
           {
            "error_x": {
             "color": "#2a3f5f"
            },
            "error_y": {
             "color": "#2a3f5f"
            },
            "marker": {
             "line": {
              "color": "#E5ECF6",
              "width": 0.5
             },
             "pattern": {
              "fillmode": "overlay",
              "size": 10,
              "solidity": 0.2
             }
            },
            "type": "bar"
           }
          ],
          "barpolar": [
           {
            "marker": {
             "line": {
              "color": "#E5ECF6",
              "width": 0.5
             },
             "pattern": {
              "fillmode": "overlay",
              "size": 10,
              "solidity": 0.2
             }
            },
            "type": "barpolar"
           }
          ],
          "carpet": [
           {
            "aaxis": {
             "endlinecolor": "#2a3f5f",
             "gridcolor": "white",
             "linecolor": "white",
             "minorgridcolor": "white",
             "startlinecolor": "#2a3f5f"
            },
            "baxis": {
             "endlinecolor": "#2a3f5f",
             "gridcolor": "white",
             "linecolor": "white",
             "minorgridcolor": "white",
             "startlinecolor": "#2a3f5f"
            },
            "type": "carpet"
           }
          ],
          "choropleth": [
           {
            "colorbar": {
             "outlinewidth": 0,
             "ticks": ""
            },
            "type": "choropleth"
           }
          ],
          "contour": [
           {
            "colorbar": {
             "outlinewidth": 0,
             "ticks": ""
            },
            "colorscale": [
             [
              0,
              "#0d0887"
             ],
             [
              0.1111111111111111,
              "#46039f"
             ],
             [
              0.2222222222222222,
              "#7201a8"
             ],
             [
              0.3333333333333333,
              "#9c179e"
             ],
             [
              0.4444444444444444,
              "#bd3786"
             ],
             [
              0.5555555555555556,
              "#d8576b"
             ],
             [
              0.6666666666666666,
              "#ed7953"
             ],
             [
              0.7777777777777778,
              "#fb9f3a"
             ],
             [
              0.8888888888888888,
              "#fdca26"
             ],
             [
              1,
              "#f0f921"
             ]
            ],
            "type": "contour"
           }
          ],
          "contourcarpet": [
           {
            "colorbar": {
             "outlinewidth": 0,
             "ticks": ""
            },
            "type": "contourcarpet"
           }
          ],
          "heatmap": [
           {
            "colorbar": {
             "outlinewidth": 0,
             "ticks": ""
            },
            "colorscale": [
             [
              0,
              "#0d0887"
             ],
             [
              0.1111111111111111,
              "#46039f"
             ],
             [
              0.2222222222222222,
              "#7201a8"
             ],
             [
              0.3333333333333333,
              "#9c179e"
             ],
             [
              0.4444444444444444,
              "#bd3786"
             ],
             [
              0.5555555555555556,
              "#d8576b"
             ],
             [
              0.6666666666666666,
              "#ed7953"
             ],
             [
              0.7777777777777778,
              "#fb9f3a"
             ],
             [
              0.8888888888888888,
              "#fdca26"
             ],
             [
              1,
              "#f0f921"
             ]
            ],
            "type": "heatmap"
           }
          ],
          "histogram": [
           {
            "marker": {
             "pattern": {
              "fillmode": "overlay",
              "size": 10,
              "solidity": 0.2
             }
            },
            "type": "histogram"
           }
          ],
          "histogram2d": [
           {
            "colorbar": {
             "outlinewidth": 0,
             "ticks": ""
            },
            "colorscale": [
             [
              0,
              "#0d0887"
             ],
             [
              0.1111111111111111,
              "#46039f"
             ],
             [
              0.2222222222222222,
              "#7201a8"
             ],
             [
              0.3333333333333333,
              "#9c179e"
             ],
             [
              0.4444444444444444,
              "#bd3786"
             ],
             [
              0.5555555555555556,
              "#d8576b"
             ],
             [
              0.6666666666666666,
              "#ed7953"
             ],
             [
              0.7777777777777778,
              "#fb9f3a"
             ],
             [
              0.8888888888888888,
              "#fdca26"
             ],
             [
              1,
              "#f0f921"
             ]
            ],
            "type": "histogram2d"
           }
          ],
          "histogram2dcontour": [
           {
            "colorbar": {
             "outlinewidth": 0,
             "ticks": ""
            },
            "colorscale": [
             [
              0,
              "#0d0887"
             ],
             [
              0.1111111111111111,
              "#46039f"
             ],
             [
              0.2222222222222222,
              "#7201a8"
             ],
             [
              0.3333333333333333,
              "#9c179e"
             ],
             [
              0.4444444444444444,
              "#bd3786"
             ],
             [
              0.5555555555555556,
              "#d8576b"
             ],
             [
              0.6666666666666666,
              "#ed7953"
             ],
             [
              0.7777777777777778,
              "#fb9f3a"
             ],
             [
              0.8888888888888888,
              "#fdca26"
             ],
             [
              1,
              "#f0f921"
             ]
            ],
            "type": "histogram2dcontour"
           }
          ],
          "mesh3d": [
           {
            "colorbar": {
             "outlinewidth": 0,
             "ticks": ""
            },
            "type": "mesh3d"
           }
          ],
          "parcoords": [
           {
            "line": {
             "colorbar": {
              "outlinewidth": 0,
              "ticks": ""
             }
            },
            "type": "parcoords"
           }
          ],
          "pie": [
           {
            "automargin": true,
            "type": "pie"
           }
          ],
          "scatter": [
           {
            "fillpattern": {
             "fillmode": "overlay",
             "size": 10,
             "solidity": 0.2
            },
            "type": "scatter"
           }
          ],
          "scatter3d": [
           {
            "line": {
             "colorbar": {
              "outlinewidth": 0,
              "ticks": ""
             }
            },
            "marker": {
             "colorbar": {
              "outlinewidth": 0,
              "ticks": ""
             }
            },
            "type": "scatter3d"
           }
          ],
          "scattercarpet": [
           {
            "marker": {
             "colorbar": {
              "outlinewidth": 0,
              "ticks": ""
             }
            },
            "type": "scattercarpet"
           }
          ],
          "scattergeo": [
           {
            "marker": {
             "colorbar": {
              "outlinewidth": 0,
              "ticks": ""
             }
            },
            "type": "scattergeo"
           }
          ],
          "scattergl": [
           {
            "marker": {
             "colorbar": {
              "outlinewidth": 0,
              "ticks": ""
             }
            },
            "type": "scattergl"
           }
          ],
          "scattermap": [
           {
            "marker": {
             "colorbar": {
              "outlinewidth": 0,
              "ticks": ""
             }
            },
            "type": "scattermap"
           }
          ],
          "scattermapbox": [
           {
            "marker": {
             "colorbar": {
              "outlinewidth": 0,
              "ticks": ""
             }
            },
            "type": "scattermapbox"
           }
          ],
          "scatterpolar": [
           {
            "marker": {
             "colorbar": {
              "outlinewidth": 0,
              "ticks": ""
             }
            },
            "type": "scatterpolar"
           }
          ],
          "scatterpolargl": [
           {
            "marker": {
             "colorbar": {
              "outlinewidth": 0,
              "ticks": ""
             }
            },
            "type": "scatterpolargl"
           }
          ],
          "scatterternary": [
           {
            "marker": {
             "colorbar": {
              "outlinewidth": 0,
              "ticks": ""
             }
            },
            "type": "scatterternary"
           }
          ],
          "surface": [
           {
            "colorbar": {
             "outlinewidth": 0,
             "ticks": ""
            },
            "colorscale": [
             [
              0,
              "#0d0887"
             ],
             [
              0.1111111111111111,
              "#46039f"
             ],
             [
              0.2222222222222222,
              "#7201a8"
             ],
             [
              0.3333333333333333,
              "#9c179e"
             ],
             [
              0.4444444444444444,
              "#bd3786"
             ],
             [
              0.5555555555555556,
              "#d8576b"
             ],
             [
              0.6666666666666666,
              "#ed7953"
             ],
             [
              0.7777777777777778,
              "#fb9f3a"
             ],
             [
              0.8888888888888888,
              "#fdca26"
             ],
             [
              1,
              "#f0f921"
             ]
            ],
            "type": "surface"
           }
          ],
          "table": [
           {
            "cells": {
             "fill": {
              "color": "#EBF0F8"
             },
             "line": {
              "color": "white"
             }
            },
            "header": {
             "fill": {
              "color": "#C8D4E3"
             },
             "line": {
              "color": "white"
             }
            },
            "type": "table"
           }
          ]
         },
         "layout": {
          "annotationdefaults": {
           "arrowcolor": "#2a3f5f",
           "arrowhead": 0,
           "arrowwidth": 1
          },
          "autotypenumbers": "strict",
          "coloraxis": {
           "colorbar": {
            "outlinewidth": 0,
            "ticks": ""
           }
          },
          "colorscale": {
           "diverging": [
            [
             0,
             "#8e0152"
            ],
            [
             0.1,
             "#c51b7d"
            ],
            [
             0.2,
             "#de77ae"
            ],
            [
             0.3,
             "#f1b6da"
            ],
            [
             0.4,
             "#fde0ef"
            ],
            [
             0.5,
             "#f7f7f7"
            ],
            [
             0.6,
             "#e6f5d0"
            ],
            [
             0.7,
             "#b8e186"
            ],
            [
             0.8,
             "#7fbc41"
            ],
            [
             0.9,
             "#4d9221"
            ],
            [
             1,
             "#276419"
            ]
           ],
           "sequential": [
            [
             0,
             "#0d0887"
            ],
            [
             0.1111111111111111,
             "#46039f"
            ],
            [
             0.2222222222222222,
             "#7201a8"
            ],
            [
             0.3333333333333333,
             "#9c179e"
            ],
            [
             0.4444444444444444,
             "#bd3786"
            ],
            [
             0.5555555555555556,
             "#d8576b"
            ],
            [
             0.6666666666666666,
             "#ed7953"
            ],
            [
             0.7777777777777778,
             "#fb9f3a"
            ],
            [
             0.8888888888888888,
             "#fdca26"
            ],
            [
             1,
             "#f0f921"
            ]
           ],
           "sequentialminus": [
            [
             0,
             "#0d0887"
            ],
            [
             0.1111111111111111,
             "#46039f"
            ],
            [
             0.2222222222222222,
             "#7201a8"
            ],
            [
             0.3333333333333333,
             "#9c179e"
            ],
            [
             0.4444444444444444,
             "#bd3786"
            ],
            [
             0.5555555555555556,
             "#d8576b"
            ],
            [
             0.6666666666666666,
             "#ed7953"
            ],
            [
             0.7777777777777778,
             "#fb9f3a"
            ],
            [
             0.8888888888888888,
             "#fdca26"
            ],
            [
             1,
             "#f0f921"
            ]
           ]
          },
          "colorway": [
           "#636efa",
           "#EF553B",
           "#00cc96",
           "#ab63fa",
           "#FFA15A",
           "#19d3f3",
           "#FF6692",
           "#B6E880",
           "#FF97FF",
           "#FECB52"
          ],
          "font": {
           "color": "#2a3f5f"
          },
          "geo": {
           "bgcolor": "white",
           "lakecolor": "white",
           "landcolor": "#E5ECF6",
           "showlakes": true,
           "showland": true,
           "subunitcolor": "white"
          },
          "hoverlabel": {
           "align": "left"
          },
          "hovermode": "closest",
          "mapbox": {
           "style": "light"
          },
          "paper_bgcolor": "white",
          "plot_bgcolor": "#E5ECF6",
          "polar": {
           "angularaxis": {
            "gridcolor": "white",
            "linecolor": "white",
            "ticks": ""
           },
           "bgcolor": "#E5ECF6",
           "radialaxis": {
            "gridcolor": "white",
            "linecolor": "white",
            "ticks": ""
           }
          },
          "scene": {
           "xaxis": {
            "backgroundcolor": "#E5ECF6",
            "gridcolor": "white",
            "gridwidth": 2,
            "linecolor": "white",
            "showbackground": true,
            "ticks": "",
            "zerolinecolor": "white"
           },
           "yaxis": {
            "backgroundcolor": "#E5ECF6",
            "gridcolor": "white",
            "gridwidth": 2,
            "linecolor": "white",
            "showbackground": true,
            "ticks": "",
            "zerolinecolor": "white"
           },
           "zaxis": {
            "backgroundcolor": "#E5ECF6",
            "gridcolor": "white",
            "gridwidth": 2,
            "linecolor": "white",
            "showbackground": true,
            "ticks": "",
            "zerolinecolor": "white"
           }
          },
          "shapedefaults": {
           "line": {
            "color": "#2a3f5f"
           }
          },
          "ternary": {
           "aaxis": {
            "gridcolor": "white",
            "linecolor": "white",
            "ticks": ""
           },
           "baxis": {
            "gridcolor": "white",
            "linecolor": "white",
            "ticks": ""
           },
           "bgcolor": "#E5ECF6",
           "caxis": {
            "gridcolor": "white",
            "linecolor": "white",
            "ticks": ""
           }
          },
          "title": {
           "x": 0.05
          },
          "xaxis": {
           "automargin": true,
           "gridcolor": "white",
           "linecolor": "white",
           "ticks": "",
           "title": {
            "standoff": 15
           },
           "zerolinecolor": "white",
           "zerolinewidth": 2
          },
          "yaxis": {
           "automargin": true,
           "gridcolor": "white",
           "linecolor": "white",
           "ticks": "",
           "title": {
            "standoff": 15
           },
           "zerolinecolor": "white",
           "zerolinewidth": 2
          }
         }
        },
        "title": {
         "text": "Hyperparameter Importances"
        },
        "xaxis": {
         "title": {
          "text": "Hyperparameter Importance"
         }
        },
        "yaxis": {
         "title": {
          "text": "Hyperparameter"
         }
        }
       }
      }
     },
     "metadata": {},
     "output_type": "display_data"
    }
   ],
   "source": [
    "optuna.visualization.plot_param_importances(study).show()"
   ]
  },
  {
   "cell_type": "markdown",
   "id": "d892bf87",
   "metadata": {},
   "source": [
    "Saving all these results:"
   ]
  },
  {
   "cell_type": "code",
   "execution_count": 12,
   "id": "5bdcf669",
   "metadata": {},
   "outputs": [],
   "source": [
    "import pickle\n",
    "\n",
    "with open(\"../experiments/optuna_study.pkl\", \"wb\") as f:\n",
    "    pickle.dump(study, f)"
   ]
  },
  {
   "cell_type": "code",
   "execution_count": 13,
   "id": "a5ef0364",
   "metadata": {},
   "outputs": [
    {
     "name": "stdout",
     "output_type": "stream",
     "text": [
      "All trial results saved to optuna_trials.csv\n"
     ]
    }
   ],
   "source": [
    "# Convert trials to DataFrame\n",
    "df_trials = study.trials_dataframe()\n",
    "df_trials.to_csv(\"../experiments/optuna_trials.csv\", index=False)\n",
    "print(\"All trial results saved to optuna_trials.csv\")"
   ]
  },
  {
   "cell_type": "markdown",
   "id": "57fd1b44",
   "metadata": {},
   "source": [
    "Now, Evaluation of Best model:\n",
    "1. Weights from training model\n",
    "2. model parameters from best trail"
   ]
  },
  {
   "cell_type": "code",
   "execution_count": 14,
   "id": "f5018b4a",
   "metadata": {},
   "outputs": [
    {
     "name": "stderr",
     "output_type": "stream",
     "text": [
      "Epoch 1/50: 100%|██████████| 55/55 [00:20<00:00,  2.62it/s]\n"
     ]
    },
    {
     "name": "stdout",
     "output_type": "stream",
     "text": [
      "Epoch 1/50 | Loss: 5.946566 \n",
      "self.weights: {'alpha': np.float32(0.5859), 'beta': np.float32(4.7805), 'delta': np.float32(0.6985), 'eta': np.float32(0.5859), 'gamma': np.float32(0.0586), 'epsilon': np.float32(7.4163), 'd_effect': 1}\n",
      "Correct predictions:  12571/13861 \n"
     ]
    },
    {
     "name": "stderr",
     "output_type": "stream",
     "text": [
      "Epoch 2/50: 100%|██████████| 55/55 [00:19<00:00,  2.81it/s]\n"
     ]
    },
    {
     "name": "stdout",
     "output_type": "stream",
     "text": [
      "Epoch 2/50 | Loss: 5.763265 \n",
      "self.weights: {'alpha': np.float32(0.5822), 'beta': np.float32(4.282), 'delta': np.float32(0.6911), 'eta': np.float32(0.5822), 'gamma': np.float32(0.0582), 'epsilon': np.float32(7.5313), 'd_effect': 1}\n",
      "Correct predictions:  12584/13861 \n"
     ]
    },
    {
     "name": "stderr",
     "output_type": "stream",
     "text": [
      "Epoch 3/50: 100%|██████████| 55/55 [00:20<00:00,  2.70it/s]\n"
     ]
    },
    {
     "name": "stdout",
     "output_type": "stream",
     "text": [
      "Epoch 3/50 | Loss: 5.607805 \n",
      "self.weights: {'alpha': np.float32(0.5779), 'beta': np.float32(3.8093), 'delta': np.float32(0.6835), 'eta': np.float32(0.5779), 'gamma': np.float32(0.0578), 'epsilon': np.float32(7.7023), 'd_effect': 1}\n",
      "Correct predictions:  12595/13861 \n"
     ]
    },
    {
     "name": "stderr",
     "output_type": "stream",
     "text": [
      "Epoch 4/50: 100%|██████████| 55/55 [00:20<00:00,  2.73it/s]\n"
     ]
    },
    {
     "name": "stdout",
     "output_type": "stream",
     "text": [
      "Epoch 4/50 | Loss: 5.476670 \n",
      "self.weights: {'alpha': np.float32(0.573), 'beta': np.float32(3.3733), 'delta': np.float32(0.6758), 'eta': np.float32(0.573), 'gamma': np.float32(0.0573), 'epsilon': np.float32(7.9346), 'd_effect': 1}\n",
      "Correct predictions:  12601/13861 \n"
     ]
    },
    {
     "name": "stderr",
     "output_type": "stream",
     "text": [
      "Epoch 5/50: 100%|██████████| 55/55 [00:20<00:00,  2.72it/s]\n"
     ]
    },
    {
     "name": "stdout",
     "output_type": "stream",
     "text": [
      "Epoch 5/50 | Loss: 5.359627 \n",
      "self.weights: {'alpha': np.float32(0.5675), 'beta': np.float32(2.981), 'delta': np.float32(0.6684), 'eta': np.float32(0.5675), 'gamma': np.float32(0.0568), 'epsilon': np.float32(8.2209), 'd_effect': 1}\n",
      "Correct predictions:  12607/13861 \n"
     ]
    },
    {
     "name": "stderr",
     "output_type": "stream",
     "text": [
      "Epoch 6/50: 100%|██████████| 55/55 [00:20<00:00,  2.68it/s]\n"
     ]
    },
    {
     "name": "stdout",
     "output_type": "stream",
     "text": [
      "Epoch 6/50 | Loss: 5.247411 \n",
      "self.weights: {'alpha': np.float32(0.5616), 'beta': np.float32(2.6302), 'delta': np.float32(0.6612), 'eta': np.float32(0.5616), 'gamma': np.float32(0.0562), 'epsilon': np.float32(8.545), 'd_effect': 1}\n",
      "Correct predictions:  12621/13861 \n"
     ]
    },
    {
     "name": "stderr",
     "output_type": "stream",
     "text": [
      "Epoch 7/50: 100%|██████████| 55/55 [00:19<00:00,  2.76it/s]\n"
     ]
    },
    {
     "name": "stdout",
     "output_type": "stream",
     "text": [
      "Epoch 7/50 | Loss: 5.147152 \n",
      "self.weights: {'alpha': np.float32(0.5552), 'beta': np.float32(2.312), 'delta': np.float32(0.6543), 'eta': np.float32(0.5552), 'gamma': np.float32(0.0555), 'epsilon': np.float32(8.8906), 'd_effect': 1}\n",
      "Correct predictions:  12625/13861 \n"
     ]
    },
    {
     "name": "stderr",
     "output_type": "stream",
     "text": [
      "Epoch 8/50: 100%|██████████| 55/55 [00:19<00:00,  2.76it/s]\n"
     ]
    },
    {
     "name": "stdout",
     "output_type": "stream",
     "text": [
      "Epoch 8/50 | Loss: 5.048189 \n",
      "self.weights: {'alpha': np.float32(0.5483), 'beta': np.float32(2.0167), 'delta': np.float32(0.6476), 'eta': np.float32(0.5483), 'gamma': np.float32(0.0548), 'epsilon': np.float32(9.2461), 'd_effect': 1}\n",
      "Correct predictions:  12639/13861 \n"
     ]
    },
    {
     "name": "stderr",
     "output_type": "stream",
     "text": [
      "Epoch 9/50: 100%|██████████| 55/55 [00:20<00:00,  2.67it/s]\n"
     ]
    },
    {
     "name": "stdout",
     "output_type": "stream",
     "text": [
      "Epoch 9/50 | Loss: 4.955953 \n",
      "self.weights: {'alpha': np.float32(0.5408), 'beta': np.float32(1.7366), 'delta': np.float32(0.6411), 'eta': np.float32(0.5408), 'gamma': np.float32(0.0541), 'epsilon': np.float32(9.6045), 'd_effect': 1}\n",
      "Correct predictions:  12653/13861 \n"
     ]
    },
    {
     "name": "stderr",
     "output_type": "stream",
     "text": [
      "Epoch 10/50: 100%|██████████| 55/55 [00:20<00:00,  2.72it/s]\n"
     ]
    },
    {
     "name": "stdout",
     "output_type": "stream",
     "text": [
      "Epoch 10/50 | Loss: 4.876315 \n",
      "self.weights: {'alpha': np.float32(0.5326), 'beta': np.float32(1.4664), 'delta': np.float32(0.6349), 'eta': np.float32(0.5326), 'gamma': np.float32(0.0533), 'epsilon': np.float32(9.9614), 'd_effect': 1}\n",
      "Correct predictions:  12657/13861 \n"
     ]
    },
    {
     "name": "stderr",
     "output_type": "stream",
     "text": [
      "Epoch 11/50: 100%|██████████| 55/55 [00:20<00:00,  2.73it/s]\n"
     ]
    },
    {
     "name": "stdout",
     "output_type": "stream",
     "text": [
      "Epoch 11/50 | Loss: 4.807334 \n",
      "self.weights: {'alpha': np.float32(0.5234), 'beta': np.float32(1.2026), 'delta': np.float32(0.629), 'eta': np.float32(0.5234), 'gamma': np.float32(0.0523), 'epsilon': np.float32(10.3144), 'd_effect': 1}\n",
      "Correct predictions:  12655/13861 \n"
     ]
    },
    {
     "name": "stderr",
     "output_type": "stream",
     "text": [
      "Epoch 12/50: 100%|██████████| 55/55 [00:20<00:00,  2.71it/s]\n"
     ]
    },
    {
     "name": "stdout",
     "output_type": "stream",
     "text": [
      "Epoch 12/50 | Loss: 4.736828 \n",
      "self.weights: {'alpha': np.float32(0.5129), 'beta': np.float32(0.9431), 'delta': np.float32(0.6234), 'eta': np.float32(0.5129), 'gamma': np.float32(0.0513), 'epsilon': np.float32(10.6622), 'd_effect': 1}\n",
      "Correct predictions:  12669/13861 \n"
     ]
    },
    {
     "name": "stderr",
     "output_type": "stream",
     "text": [
      "Epoch 13/50: 100%|██████████| 55/55 [00:20<00:00,  2.68it/s]\n"
     ]
    },
    {
     "name": "stdout",
     "output_type": "stream",
     "text": [
      "Epoch 13/50 | Loss: 4.678834 \n",
      "self.weights: {'alpha': np.float32(0.5015), 'beta': np.float32(0.7035), 'delta': np.float32(0.6187), 'eta': np.float32(0.5015), 'gamma': np.float32(0.0501), 'epsilon': np.float32(10.9816), 'd_effect': 1}\n",
      "Correct predictions:  12674/13861 \n"
     ]
    },
    {
     "name": "stderr",
     "output_type": "stream",
     "text": [
      "Epoch 14/50: 100%|██████████| 55/55 [00:19<00:00,  2.80it/s]\n"
     ]
    },
    {
     "name": "stdout",
     "output_type": "stream",
     "text": [
      "Epoch 14/50 | Loss: 4.632312 \n",
      "self.weights: {'alpha': np.float32(0.4905), 'beta': np.float32(0.5127), 'delta': np.float32(0.6155), 'eta': np.float32(0.4905), 'gamma': np.float32(0.049), 'epsilon': np.float32(11.234), 'd_effect': 1}\n",
      "Correct predictions:  12676/13861 \n"
     ]
    },
    {
     "name": "stderr",
     "output_type": "stream",
     "text": [
      "Epoch 15/50: 100%|██████████| 55/55 [00:20<00:00,  2.74it/s]\n"
     ]
    },
    {
     "name": "stdout",
     "output_type": "stream",
     "text": [
      "Epoch 15/50 | Loss: 4.599303 \n",
      "self.weights: {'alpha': np.float32(0.4798), 'beta': np.float32(0.36), 'delta': np.float32(0.6135), 'eta': np.float32(0.4798), 'gamma': np.float32(0.048), 'epsilon': np.float32(11.4347), 'd_effect': 1}\n",
      "Correct predictions:  12678/13861 \n"
     ]
    },
    {
     "name": "stderr",
     "output_type": "stream",
     "text": [
      "Epoch 16/50: 100%|██████████| 55/55 [00:20<00:00,  2.74it/s]\n"
     ]
    },
    {
     "name": "stdout",
     "output_type": "stream",
     "text": [
      "Epoch 16/50 | Loss: 4.576134 \n",
      "self.weights: {'alpha': np.float32(0.4696), 'beta': np.float32(0.2373), 'delta': np.float32(0.6124), 'eta': np.float32(0.4696), 'gamma': np.float32(0.047), 'epsilon': np.float32(11.5953), 'd_effect': 1}\n",
      "Correct predictions:  12678/13861 \n"
     ]
    },
    {
     "name": "stderr",
     "output_type": "stream",
     "text": [
      "Epoch 17/50: 100%|██████████| 55/55 [00:19<00:00,  2.76it/s]\n"
     ]
    },
    {
     "name": "stdout",
     "output_type": "stream",
     "text": [
      "Epoch 17/50 | Loss: 4.561188 \n",
      "self.weights: {'alpha': np.float32(0.4597), 'beta': np.float32(0.1381), 'delta': np.float32(0.6121), 'eta': np.float32(0.4597), 'gamma': np.float32(0.046), 'epsilon': np.float32(11.7247), 'd_effect': 1}\n",
      "Correct predictions:  12674/13861 \n"
     ]
    },
    {
     "name": "stderr",
     "output_type": "stream",
     "text": [
      "Epoch 18/50: 100%|██████████| 55/55 [00:20<00:00,  2.63it/s]\n"
     ]
    },
    {
     "name": "stdout",
     "output_type": "stream",
     "text": [
      "Epoch 18/50 | Loss: 4.547328 \n",
      "self.weights: {'alpha': np.float32(0.4502), 'beta': np.float32(0.0576), 'delta': np.float32(0.6123), 'eta': np.float32(0.4502), 'gamma': np.float32(0.045), 'epsilon': np.float32(11.8295), 'd_effect': 1}\n",
      "Correct predictions:  12676/13861 \n"
     ]
    },
    {
     "name": "stderr",
     "output_type": "stream",
     "text": [
      "Epoch 19/50: 100%|██████████| 55/55 [00:20<00:00,  2.74it/s]\n"
     ]
    },
    {
     "name": "stdout",
     "output_type": "stream",
     "text": [
      "Epoch 19/50 | Loss: 4.538571 \n",
      "self.weights: {'alpha': np.float32(0.4409), 'beta': np.float32(-0.0081), 'delta': np.float32(0.613), 'eta': np.float32(0.4409), 'gamma': np.float32(0.0441), 'epsilon': np.float32(11.9149), 'd_effect': 1}\n",
      "Correct predictions:  12674/13861 \n"
     ]
    },
    {
     "name": "stderr",
     "output_type": "stream",
     "text": [
      "Epoch 20/50: 100%|██████████| 55/55 [00:19<00:00,  2.76it/s]\n"
     ]
    },
    {
     "name": "stdout",
     "output_type": "stream",
     "text": [
      "Epoch 20/50 | Loss: 4.530130 \n",
      "self.weights: {'alpha': np.float32(0.432), 'beta': np.float32(-0.0618), 'delta': np.float32(0.614), 'eta': np.float32(0.432), 'gamma': np.float32(0.0432), 'epsilon': np.float32(11.9848), 'd_effect': 1}\n",
      "Correct predictions:  12676/13861 \n"
     ]
    },
    {
     "name": "stderr",
     "output_type": "stream",
     "text": [
      "Epoch 21/50: 100%|██████████| 55/55 [00:19<00:00,  2.79it/s]\n"
     ]
    },
    {
     "name": "stdout",
     "output_type": "stream",
     "text": [
      "Epoch 21/50 | Loss: 4.523114 \n",
      "self.weights: {'alpha': np.float32(0.4234), 'beta': np.float32(-0.1061), 'delta': np.float32(0.6152), 'eta': np.float32(0.4234), 'gamma': np.float32(0.0423), 'epsilon': np.float32(12.0423), 'd_effect': 1}\n",
      "Correct predictions:  12678/13861 \n"
     ]
    },
    {
     "name": "stderr",
     "output_type": "stream",
     "text": [
      "Epoch 22/50: 100%|██████████| 55/55 [00:20<00:00,  2.72it/s]\n"
     ]
    },
    {
     "name": "stdout",
     "output_type": "stream",
     "text": [
      "Epoch 22/50 | Loss: 4.516933 \n",
      "self.weights: {'alpha': np.float32(0.4151), 'beta': np.float32(-0.1426), 'delta': np.float32(0.6166), 'eta': np.float32(0.4151), 'gamma': np.float32(0.0415), 'epsilon': np.float32(12.0897), 'd_effect': 1}\n",
      "Correct predictions:  12681/13861 \n"
     ]
    },
    {
     "name": "stderr",
     "output_type": "stream",
     "text": [
      "Epoch 23/50: 100%|██████████| 55/55 [00:19<00:00,  2.78it/s]\n"
     ]
    },
    {
     "name": "stdout",
     "output_type": "stream",
     "text": [
      "Epoch 23/50 | Loss: 4.514354 \n",
      "self.weights: {'alpha': np.float32(0.407), 'beta': np.float32(-0.1729), 'delta': np.float32(0.6181), 'eta': np.float32(0.407), 'gamma': np.float32(0.0407), 'epsilon': np.float32(12.129), 'd_effect': 1}\n",
      "Correct predictions:  12679/13861 \n"
     ]
    },
    {
     "name": "stderr",
     "output_type": "stream",
     "text": [
      "Epoch 24/50: 100%|██████████| 55/55 [00:20<00:00,  2.68it/s]\n"
     ]
    },
    {
     "name": "stdout",
     "output_type": "stream",
     "text": [
      "Epoch 24/50 | Loss: 4.512486 \n",
      "self.weights: {'alpha': np.float32(0.3992), 'beta': np.float32(-0.1981), 'delta': np.float32(0.6198), 'eta': np.float32(0.3992), 'gamma': np.float32(0.0399), 'epsilon': np.float32(12.1617), 'd_effect': 1}\n",
      "Correct predictions:  12677/13861 \n"
     ]
    },
    {
     "name": "stderr",
     "output_type": "stream",
     "text": [
      "Epoch 25/50: 100%|██████████| 55/55 [00:20<00:00,  2.72it/s]\n"
     ]
    },
    {
     "name": "stdout",
     "output_type": "stream",
     "text": [
      "Epoch 25/50 | Loss: 4.510002 \n",
      "self.weights: {'alpha': np.float32(0.3917), 'beta': np.float32(-0.2191), 'delta': np.float32(0.6215), 'eta': np.float32(0.3917), 'gamma': np.float32(0.0392), 'epsilon': np.float32(12.189), 'd_effect': 1}\n",
      "Correct predictions:  12677/13861 \n"
     ]
    },
    {
     "name": "stderr",
     "output_type": "stream",
     "text": [
      "Epoch 26/50: 100%|██████████| 55/55 [00:19<00:00,  2.76it/s]\n"
     ]
    },
    {
     "name": "stdout",
     "output_type": "stream",
     "text": [
      "Epoch 26/50 | Loss: 4.507996 \n",
      "self.weights: {'alpha': np.float32(0.3843), 'beta': np.float32(-0.2366), 'delta': np.float32(0.6233), 'eta': np.float32(0.3843), 'gamma': np.float32(0.0384), 'epsilon': np.float32(12.2118), 'd_effect': 1}\n",
      "Correct predictions:  12677/13861 \n"
     ]
    },
    {
     "name": "stderr",
     "output_type": "stream",
     "text": [
      "Epoch 27/50: 100%|██████████| 55/55 [00:19<00:00,  2.77it/s]\n"
     ]
    },
    {
     "name": "stdout",
     "output_type": "stream",
     "text": [
      "Epoch 27/50 | Loss: 4.506344 \n",
      "self.weights: {'alpha': np.float32(0.3772), 'beta': np.float32(-0.2514), 'delta': np.float32(0.625), 'eta': np.float32(0.3772), 'gamma': np.float32(0.0377), 'epsilon': np.float32(12.2309), 'd_effect': 1}\n",
      "Correct predictions:  12677/13861 \n"
     ]
    },
    {
     "name": "stderr",
     "output_type": "stream",
     "text": [
      "Epoch 28/50: 100%|██████████| 55/55 [00:20<00:00,  2.70it/s]\n"
     ]
    },
    {
     "name": "stdout",
     "output_type": "stream",
     "text": [
      "Epoch 28/50 | Loss: 4.504975 \n",
      "self.weights: {'alpha': np.float32(0.3704), 'beta': np.float32(-0.2638), 'delta': np.float32(0.6268), 'eta': np.float32(0.3704), 'gamma': np.float32(0.037), 'epsilon': np.float32(12.247), 'd_effect': 1}\n",
      "Correct predictions:  12677/13861 \n"
     ]
    },
    {
     "name": "stderr",
     "output_type": "stream",
     "text": [
      "Epoch 29/50: 100%|██████████| 55/55 [00:19<00:00,  2.79it/s]\n"
     ]
    },
    {
     "name": "stdout",
     "output_type": "stream",
     "text": [
      "Epoch 29/50 | Loss: 4.503272 \n",
      "self.weights: {'alpha': np.float32(0.3637), 'beta': np.float32(-0.2743), 'delta': np.float32(0.6286), 'eta': np.float32(0.3637), 'gamma': np.float32(0.0364), 'epsilon': np.float32(12.2606), 'd_effect': 1}\n",
      "Correct predictions:  12678/13861 \n"
     ]
    },
    {
     "name": "stderr",
     "output_type": "stream",
     "text": [
      "Epoch 30/50: 100%|██████████| 55/55 [00:19<00:00,  2.76it/s]\n"
     ]
    },
    {
     "name": "stdout",
     "output_type": "stream",
     "text": [
      "Epoch 30/50 | Loss: 4.501734 \n",
      "self.weights: {'alpha': np.float32(0.3572), 'beta': np.float32(-0.2831), 'delta': np.float32(0.6304), 'eta': np.float32(0.3572), 'gamma': np.float32(0.0357), 'epsilon': np.float32(12.2721), 'd_effect': 1}\n",
      "Correct predictions:  12679/13861 \n"
     ]
    },
    {
     "name": "stderr",
     "output_type": "stream",
     "text": [
      "Epoch 31/50: 100%|██████████| 55/55 [00:20<00:00,  2.72it/s]\n"
     ]
    },
    {
     "name": "stdout",
     "output_type": "stream",
     "text": [
      "Epoch 31/50 | Loss: 4.500859 \n",
      "self.weights: {'alpha': np.float32(0.3509), 'beta': np.float32(-0.2906), 'delta': np.float32(0.6322), 'eta': np.float32(0.3509), 'gamma': np.float32(0.0351), 'epsilon': np.float32(12.2819), 'd_effect': 1}\n",
      "Correct predictions:  12679/13861 \n"
     ]
    },
    {
     "name": "stderr",
     "output_type": "stream",
     "text": [
      "Epoch 32/50: 100%|██████████| 55/55 [00:20<00:00,  2.73it/s]\n"
     ]
    },
    {
     "name": "stdout",
     "output_type": "stream",
     "text": [
      "Epoch 32/50 | Loss: 4.500185 \n",
      "self.weights: {'alpha': np.float32(0.3448), 'beta': np.float32(-0.297), 'delta': np.float32(0.6339), 'eta': np.float32(0.3448), 'gamma': np.float32(0.0345), 'epsilon': np.float32(12.2902), 'd_effect': 1}\n",
      "Correct predictions:  12679/13861 \n"
     ]
    },
    {
     "name": "stderr",
     "output_type": "stream",
     "text": [
      "Epoch 33/50: 100%|██████████| 55/55 [00:21<00:00,  2.62it/s]\n"
     ]
    },
    {
     "name": "stdout",
     "output_type": "stream",
     "text": [
      "Epoch 33/50 | Loss: 4.499616 \n",
      "self.weights: {'alpha': np.float32(0.3389), 'beta': np.float32(-0.3025), 'delta': np.float32(0.6356), 'eta': np.float32(0.3389), 'gamma': np.float32(0.0339), 'epsilon': np.float32(12.2972), 'd_effect': 1}\n",
      "Correct predictions:  12679/13861 \n"
     ]
    },
    {
     "name": "stderr",
     "output_type": "stream",
     "text": [
      "Epoch 34/50: 100%|██████████| 55/55 [00:20<00:00,  2.72it/s]\n"
     ]
    },
    {
     "name": "stdout",
     "output_type": "stream",
     "text": [
      "Epoch 34/50 | Loss: 4.499132 \n",
      "self.weights: {'alpha': np.float32(0.3331), 'beta': np.float32(-0.3071), 'delta': np.float32(0.6373), 'eta': np.float32(0.3331), 'gamma': np.float32(0.0333), 'epsilon': np.float32(12.3032), 'd_effect': 1}\n",
      "Correct predictions:  12679/13861 \n"
     ]
    },
    {
     "name": "stderr",
     "output_type": "stream",
     "text": [
      "Epoch 35/50: 100%|██████████| 55/55 [00:20<00:00,  2.67it/s]\n"
     ]
    },
    {
     "name": "stdout",
     "output_type": "stream",
     "text": [
      "Epoch 35/50 | Loss: 4.498721 \n",
      "self.weights: {'alpha': np.float32(0.3275), 'beta': np.float32(-0.3111), 'delta': np.float32(0.6389), 'eta': np.float32(0.3275), 'gamma': np.float32(0.0328), 'epsilon': np.float32(12.3084), 'd_effect': 1}\n",
      "Correct predictions:  12679/13861 \n"
     ]
    },
    {
     "name": "stderr",
     "output_type": "stream",
     "text": [
      "Epoch 36/50: 100%|██████████| 55/55 [00:20<00:00,  2.71it/s]\n"
     ]
    },
    {
     "name": "stdout",
     "output_type": "stream",
     "text": [
      "Epoch 36/50 | Loss: 4.497894 \n",
      "self.weights: {'alpha': np.float32(0.3221), 'beta': np.float32(-0.3145), 'delta': np.float32(0.6405), 'eta': np.float32(0.3221), 'gamma': np.float32(0.0322), 'epsilon': np.float32(12.3128), 'd_effect': 1}\n",
      "Correct predictions:  12680/13861 \n"
     ]
    },
    {
     "name": "stderr",
     "output_type": "stream",
     "text": [
      "Epoch 37/50: 100%|██████████| 55/55 [00:19<00:00,  2.76it/s]\n"
     ]
    },
    {
     "name": "stdout",
     "output_type": "stream",
     "text": [
      "Epoch 37/50 | Loss: 4.497593 \n",
      "self.weights: {'alpha': np.float32(0.3168), 'beta': np.float32(-0.3174), 'delta': np.float32(0.6421), 'eta': np.float32(0.3168), 'gamma': np.float32(0.0317), 'epsilon': np.float32(12.3166), 'd_effect': 1}\n",
      "Correct predictions:  12680/13861 \n"
     ]
    },
    {
     "name": "stderr",
     "output_type": "stream",
     "text": [
      "Epoch 38/50: 100%|██████████| 55/55 [00:19<00:00,  2.75it/s]\n"
     ]
    },
    {
     "name": "stdout",
     "output_type": "stream",
     "text": [
      "Epoch 38/50 | Loss: 4.497335 \n",
      "self.weights: {'alpha': np.float32(0.3116), 'beta': np.float32(-0.3199), 'delta': np.float32(0.6436), 'eta': np.float32(0.3116), 'gamma': np.float32(0.0312), 'epsilon': np.float32(12.3198), 'd_effect': 1}\n",
      "Correct predictions:  12680/13861 \n"
     ]
    },
    {
     "name": "stderr",
     "output_type": "stream",
     "text": [
      "Epoch 39/50: 100%|██████████| 55/55 [00:20<00:00,  2.66it/s]\n"
     ]
    },
    {
     "name": "stdout",
     "output_type": "stream",
     "text": [
      "Epoch 39/50 | Loss: 4.497113 \n",
      "self.weights: {'alpha': np.float32(0.3066), 'beta': np.float32(-0.3221), 'delta': np.float32(0.6451), 'eta': np.float32(0.3066), 'gamma': np.float32(0.0307), 'epsilon': np.float32(12.3227), 'd_effect': 1}\n",
      "Correct predictions:  12680/13861 \n"
     ]
    },
    {
     "name": "stderr",
     "output_type": "stream",
     "text": [
      "Epoch 40/50: 100%|██████████| 55/55 [00:20<00:00,  2.68it/s]\n"
     ]
    },
    {
     "name": "stdout",
     "output_type": "stream",
     "text": [
      "Epoch 40/50 | Loss: 4.496921 \n",
      "self.weights: {'alpha': np.float32(0.3017), 'beta': np.float32(-0.324), 'delta': np.float32(0.6466), 'eta': np.float32(0.3017), 'gamma': np.float32(0.0302), 'epsilon': np.float32(12.3251), 'd_effect': 1}\n",
      "Correct predictions:  12680/13861 \n"
     ]
    },
    {
     "name": "stderr",
     "output_type": "stream",
     "text": [
      "Epoch 41/50: 100%|██████████| 55/55 [00:20<00:00,  2.68it/s]\n"
     ]
    },
    {
     "name": "stdout",
     "output_type": "stream",
     "text": [
      "Epoch 41/50 | Loss: 4.496755 \n",
      "self.weights: {'alpha': np.float32(0.297), 'beta': np.float32(-0.3256), 'delta': np.float32(0.648), 'eta': np.float32(0.297), 'gamma': np.float32(0.0297), 'epsilon': np.float32(12.3272), 'd_effect': 1}\n",
      "Correct predictions:  12680/13861 \n"
     ]
    },
    {
     "name": "stderr",
     "output_type": "stream",
     "text": [
      "Epoch 42/50: 100%|██████████| 55/55 [00:20<00:00,  2.70it/s]\n"
     ]
    },
    {
     "name": "stdout",
     "output_type": "stream",
     "text": [
      "Epoch 42/50 | Loss: 4.496611 \n",
      "self.weights: {'alpha': np.float32(0.2923), 'beta': np.float32(-0.327), 'delta': np.float32(0.6494), 'eta': np.float32(0.2923), 'gamma': np.float32(0.0292), 'epsilon': np.float32(12.329), 'd_effect': 1}\n",
      "Correct predictions:  12680/13861 \n"
     ]
    },
    {
     "name": "stderr",
     "output_type": "stream",
     "text": [
      "Epoch 43/50: 100%|██████████| 55/55 [00:21<00:00,  2.58it/s]\n"
     ]
    },
    {
     "name": "stdout",
     "output_type": "stream",
     "text": [
      "Epoch 43/50 | Loss: 4.496486 \n",
      "self.weights: {'alpha': np.float32(0.2878), 'beta': np.float32(-0.3283), 'delta': np.float32(0.6508), 'eta': np.float32(0.2878), 'gamma': np.float32(0.0288), 'epsilon': np.float32(12.3306), 'd_effect': 1}\n",
      "Correct predictions:  12680/13861 \n"
     ]
    },
    {
     "name": "stderr",
     "output_type": "stream",
     "text": [
      "Epoch 44/50: 100%|██████████| 55/55 [00:19<00:00,  2.77it/s]\n"
     ]
    },
    {
     "name": "stdout",
     "output_type": "stream",
     "text": [
      "Epoch 44/50 | Loss: 4.496377 \n",
      "self.weights: {'alpha': np.float32(0.2834), 'beta': np.float32(-0.3293), 'delta': np.float32(0.6521), 'eta': np.float32(0.2834), 'gamma': np.float32(0.0283), 'epsilon': np.float32(12.332), 'd_effect': 1}\n",
      "Correct predictions:  12680/13861 \n"
     ]
    },
    {
     "name": "stderr",
     "output_type": "stream",
     "text": [
      "Epoch 45/50: 100%|██████████| 55/55 [00:19<00:00,  2.81it/s]\n"
     ]
    },
    {
     "name": "stdout",
     "output_type": "stream",
     "text": [
      "Epoch 45/50 | Loss: 4.496281 \n",
      "self.weights: {'alpha': np.float32(0.2791), 'beta': np.float32(-0.3303), 'delta': np.float32(0.6534), 'eta': np.float32(0.2791), 'gamma': np.float32(0.0279), 'epsilon': np.float32(12.3332), 'd_effect': 1}\n",
      "Correct predictions:  12680/13861 \n"
     ]
    },
    {
     "name": "stderr",
     "output_type": "stream",
     "text": [
      "Epoch 46/50: 100%|██████████| 55/55 [00:19<00:00,  2.77it/s]\n"
     ]
    },
    {
     "name": "stdout",
     "output_type": "stream",
     "text": [
      "Epoch 46/50 | Loss: 4.496198 \n",
      "self.weights: {'alpha': np.float32(0.275), 'beta': np.float32(-0.3311), 'delta': np.float32(0.6546), 'eta': np.float32(0.275), 'gamma': np.float32(0.0275), 'epsilon': np.float32(12.3342), 'd_effect': 1}\n",
      "Correct predictions:  12680/13861 \n"
     ]
    },
    {
     "name": "stderr",
     "output_type": "stream",
     "text": [
      "Epoch 47/50: 100%|██████████| 55/55 [00:20<00:00,  2.71it/s]\n"
     ]
    },
    {
     "name": "stdout",
     "output_type": "stream",
     "text": [
      "Epoch 47/50 | Loss: 4.495563 \n",
      "self.weights: {'alpha': np.float32(0.2709), 'beta': np.float32(-0.3318), 'delta': np.float32(0.6558), 'eta': np.float32(0.2709), 'gamma': np.float32(0.0271), 'epsilon': np.float32(12.3351), 'd_effect': 1}\n",
      "Correct predictions:  12681/13861 \n"
     ]
    },
    {
     "name": "stderr",
     "output_type": "stream",
     "text": [
      "Epoch 48/50: 100%|██████████| 55/55 [00:20<00:00,  2.69it/s]\n"
     ]
    },
    {
     "name": "stdout",
     "output_type": "stream",
     "text": [
      "Epoch 48/50 | Loss: 4.495498 \n",
      "self.weights: {'alpha': np.float32(0.2669), 'beta': np.float32(-0.3324), 'delta': np.float32(0.657), 'eta': np.float32(0.2669), 'gamma': np.float32(0.0267), 'epsilon': np.float32(12.3359), 'd_effect': 1}\n",
      "Correct predictions:  12681/13861 \n"
     ]
    },
    {
     "name": "stderr",
     "output_type": "stream",
     "text": [
      "Epoch 49/50: 100%|██████████| 55/55 [00:19<00:00,  2.87it/s]\n"
     ]
    },
    {
     "name": "stdout",
     "output_type": "stream",
     "text": [
      "Epoch 49/50 | Loss: 4.495441 \n",
      "self.weights: {'alpha': np.float32(0.263), 'beta': np.float32(-0.333), 'delta': np.float32(0.6582), 'eta': np.float32(0.263), 'gamma': np.float32(0.0263), 'epsilon': np.float32(12.3366), 'd_effect': 1}\n",
      "Correct predictions:  12681/13861 \n"
     ]
    },
    {
     "name": "stderr",
     "output_type": "stream",
     "text": [
      "Epoch 50/50: 100%|██████████| 55/55 [00:20<00:00,  2.64it/s]\n"
     ]
    },
    {
     "name": "stdout",
     "output_type": "stream",
     "text": [
      "Epoch 50/50 | Loss: 4.495391 \n",
      "self.weights: {'alpha': np.float32(0.2592), 'beta': np.float32(-0.3335), 'delta': np.float32(0.6593), 'eta': np.float32(0.2592), 'gamma': np.float32(0.0259), 'epsilon': np.float32(12.3372), 'd_effect': 1}\n",
      "Correct predictions:  12681/13861 \n"
     ]
    }
   ],
   "source": [
    "# === 1. Load best model weights ===\n",
    "best_weights = best_trial.user_attrs.get(\"params\", {})\n",
    "\n",
    "# === 2. Load optuna study and best hyperparameters ===\n",
    "with open(\"../experiments/optuna_study.pkl\", \"rb\") as f:\n",
    "    loaded_study = pickle.load(f)\n",
    "\n",
    "best_trial = loaded_study.best_trial\n",
    "best_params = best_trial.params\n",
    "\n",
    "from Model import Retail_Recommendation\n",
    "\n",
    "# === 3. Build new model with best weights ===\n",
    "best_model = Retail_Recommendation(\n",
    "    items_data = items,\n",
    "    customer_data = customer,\n",
    "    rules = rules,\n",
    "    initial_weights = best_weights,\n",
    "    d_effect= best_weights.get(\"d_effect\", 0.5),\n",
    "    current_date = Today,\n",
    "    Time_period = 100,\n",
    "    filter_items = False,\n",
    "    include_description = True,\n",
    "    iteration_bar = False\n",
    ")\n",
    "\n",
    "# === 4. Retrain using best hyperparameters from Optuna ===\n",
    "final_weights, history = best_model.train_model(\n",
    "    Carts=train,\n",
    "    lr=best_params.get('lr', 0.05),\n",
    "    reg_lambda=best_params.get('reg_lambda', 0.0),\n",
    "    Learning_rate_decay=best_params.get('lr_decay', 0.0),\n",
    "    clip_value=best_params.get('clip_value', None),\n",
    "    n_iter=30,   # or increase for final run\n",
    "    error=1e-6,\n",
    "    batch_size=256,\n",
    "    early_stopping=True,\n",
    "    patience=3,\n",
    "    verbose=True\n",
    ")"
   ]
  },
  {
   "cell_type": "code",
   "execution_count": 15,
   "id": "37220533",
   "metadata": {},
   "outputs": [
    {
     "name": "stdout",
     "output_type": "stream",
     "text": [
      "Metrics: {'Precision@N': np.float64(0.0096875), 'Recall@N': np.float64(0.96875), 'F1@N': np.float64(0.019183168126899325), 'HitRate': 0.04125083166999335, 'MRR@N': np.float64(0.2299286862308245), 'NDCG@N': np.float64(0.38035014977718007), 'MAP@N': np.float64(0.2299286862308245), 'Correct recommendations': 124, 'Fraction correct as ratio': '124/3006'}\n",
      "Hit Rate: 0.04125083166999335\n",
      "\n",
      "Full evaluation metrics:\n",
      "Precision@N: 0.0096875\n",
      "Recall@N: 0.96875\n",
      "F1@N: 0.019183168126899325\n",
      "HitRate: 0.04125083166999335\n",
      "MRR@N: 0.2299286862308245\n",
      "NDCG@N: 0.38035014977718007\n",
      "MAP@N: 0.2299286862308245\n",
      "Correct recommendations: 124\n",
      "Fraction correct as ratio: 124/3006\n"
     ]
    }
   ],
   "source": [
    "# === 4. Evaluate best model on test data ===\n",
    "metrics = best_model.Evaluate_model(test, top_n=100)\n",
    "print(\"Metrics:\", metrics)\n",
    "print(\"Hit Rate:\", metrics.get(\"HitRate\", 0))\n",
    "\n",
    "# === 5. Display full evalutaion metrics ===\n",
    "print(\"\\nFull evaluation metrics:\")\n",
    "for metric, value in metrics.items():\n",
    "    print(f\"{metric}: {value}\")"
   ]
  },
  {
   "cell_type": "code",
   "execution_count": 16,
   "id": "928ce373",
   "metadata": {},
   "outputs": [
    {
     "name": "stdout",
     "output_type": "stream",
     "text": [
      "{'Best hit rate': 0.04125083166999335, 'Best Feature weights': {'alpha': np.float32(0.25923294), 'beta': np.float32(-0.33347318), 'delta': np.float32(0.6593087), 'eta': np.float32(0.25923294), 'gamma': np.float32(0.025923286), 'epsilon': np.float32(12.337225), 'd_effect': 1}, 'Best hyperparameters': {'lr': 0.10679514829809283, 'reg_lambda': 0.12940326697938503, 'lr_decay': 0.018390424287397567, 'clip_value': 4.967950851842016}, 'Metrics': {'Precision@N': np.float64(0.0096875), 'Recall@N': np.float64(0.96875), 'F1@N': np.float64(0.019183168126899325), 'HitRate': 0.04125083166999335, 'MRR@N': np.float64(0.2299286862308245), 'NDCG@N': np.float64(0.38035014977718007), 'MAP@N': np.float64(0.2299286862308245), 'Correct recommendations': 124, 'Fraction correct as ratio': '124/3006'}}\n",
      "\n",
      "✅ Evaluation summary saved to ../experiments/Best_result.pkl\n"
     ]
    }
   ],
   "source": [
    "# === 6. Logging summary for record ===\n",
    "summary = {\n",
    "    \"Best hit rate\": metrics.get(\"HitRate\", 0),\n",
    "    \"Best Feature weights\": final_weights,\n",
    "    \"Best hyperparameters\": best_params,\n",
    "    \"Metrics\": metrics\n",
    "}\n",
    "print(summary)\n",
    "\n",
    "\n",
    "with open(\"../experiments/Best_result.pkl\", \"wb\") as f:\n",
    "    pickle.dump(summary, f)\n",
    "\n",
    "print(\"\\n✅ Evaluation summary saved to ../experiments/Best_result.pkl\")"
   ]
  },
  {
   "cell_type": "code",
   "execution_count": 19,
   "id": "89a4f4d2",
   "metadata": {},
   "outputs": [
    {
     "data": {
      "text/plain": [
       "{'Best hit rate': 0.04125083166999335,\n",
       " 'Best Feature weights': {'alpha': np.float32(0.25923294),\n",
       "  'beta': np.float32(-0.33347318),\n",
       "  'delta': np.float32(0.6593087),\n",
       "  'eta': np.float32(0.25923294),\n",
       "  'gamma': np.float32(0.025923286),\n",
       "  'epsilon': np.float32(12.337225),\n",
       "  'd_effect': 1},\n",
       " 'Best hyperparameters': {'lr': 0.10679514829809283,\n",
       "  'reg_lambda': 0.12940326697938503,\n",
       "  'lr_decay': 0.018390424287397567,\n",
       "  'clip_value': 4.967950851842016},\n",
       " 'Metrics': {'Precision@N': np.float64(0.0096875),\n",
       "  'Recall@N': np.float64(0.96875),\n",
       "  'F1@N': np.float64(0.019183168126899325),\n",
       "  'HitRate': 0.04125083166999335,\n",
       "  'MRR@N': np.float64(0.2299286862308245),\n",
       "  'NDCG@N': np.float64(0.38035014977718007),\n",
       "  'MAP@N': np.float64(0.2299286862308245),\n",
       "  'Correct recommendations': 124,\n",
       "  'Fraction correct as ratio': '124/3006'}}"
      ]
     },
     "execution_count": 19,
     "metadata": {},
     "output_type": "execute_result"
    }
   ],
   "source": [
    "import pickle\n",
    "with open(\"../experiments/Best_result.pkl\", \"rb\") as f:\n",
    "    summary = pickle.load(f)\n",
    "summary"
   ]
  },
  {
   "cell_type": "markdown",
   "id": "70fd43cb",
   "metadata": {},
   "source": [
    "Now, we will always use these best parameters for our model."
   ]
  },
  {
   "cell_type": "code",
   "execution_count": 20,
   "id": "9612846e",
   "metadata": {},
   "outputs": [],
   "source": [
    "with open(\"../Models/Final_model.pkl\", \"wb\") as f:\n",
    "    pickle.dump(best_model, f)"
   ]
  },
  {
   "cell_type": "code",
   "execution_count": null,
   "id": "d1f1b831",
   "metadata": {},
   "outputs": [],
   "source": []
  }
 ],
 "metadata": {
  "kernelspec": {
   "display_name": "Python 3",
   "language": "python",
   "name": "python3"
  },
  "language_info": {
   "codemirror_mode": {
    "name": "ipython",
    "version": 3
   },
   "file_extension": ".py",
   "mimetype": "text/x-python",
   "name": "python",
   "nbconvert_exporter": "python",
   "pygments_lexer": "ipython3",
   "version": "3.13.0"
  }
 },
 "nbformat": 4,
 "nbformat_minor": 5
}
